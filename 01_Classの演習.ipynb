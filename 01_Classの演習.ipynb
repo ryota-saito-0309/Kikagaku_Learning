{
 "cells": [
  {
   "cell_type": "markdown",
   "metadata": {},
   "source": [
    "# Pythonのクラスについて\n",
    "クラスは設計書であり、使用するには、『インスタンス化』する必要がある。"
   ]
  },
  {
   "cell_type": "code",
   "execution_count": 6,
   "metadata": {},
   "outputs": [],
   "source": [
    "class Person:\n",
    "    \n",
    "    # 初期設定を行う関数\n",
    "    def __init__(self):  # 『self』を入れないとエラーが発生する。\n",
    "        self.name = 'Jony'\n",
    "        self.nationality = 'Japan'\n",
    "        self.age = 1"
   ]
  },
  {
   "cell_type": "markdown",
   "metadata": {},
   "source": []
  },
  {
   "cell_type": "code",
   "execution_count": 7,
   "metadata": {},
   "outputs": [],
   "source": [
    "# インスタンス化（実体化）\n",
    "Test = Person()"
   ]
  },
  {
   "cell_type": "code",
   "execution_count": 8,
   "metadata": {},
   "outputs": [
    {
     "data": {
      "text/plain": [
       "'Jony'"
      ]
     },
     "execution_count": 8,
     "metadata": {},
     "output_type": "execute_result"
    }
   ],
   "source": [
    "Test.name"
   ]
  },
  {
   "cell_type": "code",
   "execution_count": 9,
   "metadata": {},
   "outputs": [
    {
     "data": {
      "text/plain": [
       "1"
      ]
     },
     "execution_count": 9,
     "metadata": {},
     "output_type": "execute_result"
    }
   ],
   "source": [
    "Test.age"
   ]
  },
  {
   "cell_type": "code",
   "execution_count": 10,
   "metadata": {},
   "outputs": [],
   "source": [
    "# 別の中身を格納できるようにする。\n",
    "class Person:\n",
    "    # 初期設定を行う関数\n",
    "    def __init__(self, name, nationality, age):  # 『self』を入れないとエラーが発生する。\n",
    "        self.name = name\n",
    "        self.nationality = nationality\n",
    "        self.age = age"
   ]
  },
  {
   "cell_type": "code",
   "execution_count": 11,
   "metadata": {},
   "outputs": [],
   "source": [
    "Mike = Person(name='Mike', nationality='India', age=26)"
   ]
  },
  {
   "cell_type": "code",
   "execution_count": 12,
   "metadata": {},
   "outputs": [
    {
     "data": {
      "text/plain": [
       "'Mike'"
      ]
     },
     "execution_count": 12,
     "metadata": {},
     "output_type": "execute_result"
    }
   ],
   "source": [
    "Mike.name"
   ]
  },
  {
   "cell_type": "code",
   "execution_count": 13,
   "metadata": {},
   "outputs": [
    {
     "data": {
      "text/plain": [
       "26"
      ]
     },
     "execution_count": 13,
     "metadata": {},
     "output_type": "execute_result"
    }
   ],
   "source": [
    "Mike.age"
   ]
  },
  {
   "cell_type": "code",
   "execution_count": 25,
   "metadata": {},
   "outputs": [],
   "source": [
    "# 別の関数を定義します。\n",
    "class Person:\n",
    "    # 初期設定を行う関数\n",
    "    def __init__(self, name, nationality, age):  # 『self』を入れないとエラーが発生する。\n",
    "        self.name = name\n",
    "        self.nationality = nationality\n",
    "        self.age = age\n",
    "    def say_hello(self, name):\n",
    "        print('こんにちは、' + name + 'さん。\\n私は' + self.name + 'です。' + self.nationality + 'に住んでいる' + str(self.age) + '歳です。')"
   ]
  },
  {
   "cell_type": "code",
   "execution_count": 26,
   "metadata": {},
   "outputs": [],
   "source": [
    "Mike = Person(name='Mike', nationality='India', age=26)"
   ]
  },
  {
   "cell_type": "code",
   "execution_count": 27,
   "metadata": {},
   "outputs": [
    {
     "name": "stdout",
     "output_type": "stream",
     "text": [
      "こんにちは、saitoさん。\n",
      "私はMikeです。Indiaに住んでいる26歳です。\n"
     ]
    }
   ],
   "source": [
    "Mike.say_hello(name='saito')"
   ]
  },
  {
   "cell_type": "code",
   "execution_count": 28,
   "metadata": {},
   "outputs": [],
   "source": [
    "# 別の関数を定義します。\n",
    "class Person:\n",
    "    # 初期設定を行う関数\n",
    "    def __init__(self, name, nationality, age):  # 『self』を入れないとエラーが発生する。\n",
    "        self.name = name\n",
    "        self.nationality = nationality\n",
    "        self.age = age\n",
    "        \n",
    "    # Classの中で特殊な関数\n",
    "    def __call__(self, name):\n",
    "        print('こんにちは、' + name + 'さん。\\n私は' + self.name + 'です。' + self.nationality + 'に住んでいる' + str(self.age) + '歳です。')        \n",
    "        \n",
    "    def say_hello(self, name):\n",
    "        print('こんにちは、' + name + 'さん。\\n私は' + self.name + 'です。' + self.nationality + 'に住んでいる' + str(self.age) + '歳です。')"
   ]
  },
  {
   "cell_type": "code",
   "execution_count": 29,
   "metadata": {},
   "outputs": [],
   "source": [
    "Mike = Person(name='Mike', nationality='India', age=26)"
   ]
  },
  {
   "cell_type": "code",
   "execution_count": 30,
   "metadata": {},
   "outputs": [
    {
     "name": "stdout",
     "output_type": "stream",
     "text": [
      "こんにちは、適切でない呼び方さん。\n",
      "私はMikeです。Indiaに住んでいる26歳です。\n"
     ]
    }
   ],
   "source": [
    "Mike.__call__('適切でない呼び方')"
   ]
  },
  {
   "cell_type": "markdown",
   "metadata": {},
   "source": [
    "__call__関数は、インスタンス名をそのまま呼び出す。"
   ]
  },
  {
   "cell_type": "code",
   "execution_count": 31,
   "metadata": {},
   "outputs": [
    {
     "name": "stdout",
     "output_type": "stream",
     "text": [
      "こんにちは、適切な呼び出し方さん。\n",
      "私はMikeです。Indiaに住んでいる26歳です。\n"
     ]
    }
   ],
   "source": [
    "Mike('適切な呼び出し方')"
   ]
  },
  {
   "cell_type": "code",
   "execution_count": null,
   "metadata": {},
   "outputs": [],
   "source": []
  }
 ],
 "metadata": {
  "kernelspec": {
   "display_name": "Python 3",
   "language": "python",
   "name": "python3"
  },
  "language_info": {
   "codemirror_mode": {
    "name": "ipython",
    "version": 3
   },
   "file_extension": ".py",
   "mimetype": "text/x-python",
   "name": "python",
   "nbconvert_exporter": "python",
   "pygments_lexer": "ipython3",
   "version": "3.7.3"
  }
 },
 "nbformat": 4,
 "nbformat_minor": 2
}

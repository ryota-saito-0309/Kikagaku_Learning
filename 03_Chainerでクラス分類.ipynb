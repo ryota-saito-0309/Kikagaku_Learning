{
 "cells": [
  {
   "cell_type": "markdown",
   "metadata": {},
   "source": [
    "# Chainerでクラス分類\n",
    "\n",
    "## データの読み込み"
   ]
  },
  {
   "cell_type": "code",
   "execution_count": null,
   "metadata": {},
   "outputs": [],
   "source": [
    "# 必要ライブラリのインストール\n",
    "!pip install chainer\n",
    "!pip install numpy\n",
    "!pip install pandas\n",
    "!pip install matplotlib"
   ]
  },
  {
   "cell_type": "code",
   "execution_count": 1,
   "metadata": {},
   "outputs": [],
   "source": [
    "import pandas as pd"
   ]
  },
  {
   "cell_type": "code",
   "execution_count": 2,
   "metadata": {},
   "outputs": [],
   "source": [
    "df = pd.read_csv('data/wine-class.csv')"
   ]
  },
  {
   "cell_type": "code",
   "execution_count": 3,
   "metadata": {},
   "outputs": [
    {
     "data": {
      "text/html": [
       "<div>\n",
       "<style scoped>\n",
       "    .dataframe tbody tr th:only-of-type {\n",
       "        vertical-align: middle;\n",
       "    }\n",
       "\n",
       "    .dataframe tbody tr th {\n",
       "        vertical-align: top;\n",
       "    }\n",
       "\n",
       "    .dataframe thead th {\n",
       "        text-align: right;\n",
       "    }\n",
       "</style>\n",
       "<table border=\"1\" class=\"dataframe\">\n",
       "  <thead>\n",
       "    <tr style=\"text-align: right;\">\n",
       "      <th></th>\n",
       "      <th>Class</th>\n",
       "      <th>Alcohol</th>\n",
       "      <th>Ash</th>\n",
       "      <th>Alcalinity of ash</th>\n",
       "      <th>Magnesium</th>\n",
       "      <th>Total phenols</th>\n",
       "      <th>Flavanoids</th>\n",
       "      <th>Nonflavanoid phenols</th>\n",
       "      <th>Color intensity</th>\n",
       "      <th>Hue</th>\n",
       "      <th>Proline</th>\n",
       "    </tr>\n",
       "  </thead>\n",
       "  <tbody>\n",
       "    <tr>\n",
       "      <th>0</th>\n",
       "      <td>1</td>\n",
       "      <td>14.23</td>\n",
       "      <td>2.43</td>\n",
       "      <td>15.6</td>\n",
       "      <td>127</td>\n",
       "      <td>2.80</td>\n",
       "      <td>3.06</td>\n",
       "      <td>0.28</td>\n",
       "      <td>5.64</td>\n",
       "      <td>1.04</td>\n",
       "      <td>1065</td>\n",
       "    </tr>\n",
       "    <tr>\n",
       "      <th>1</th>\n",
       "      <td>1</td>\n",
       "      <td>13.20</td>\n",
       "      <td>2.14</td>\n",
       "      <td>11.2</td>\n",
       "      <td>100</td>\n",
       "      <td>2.65</td>\n",
       "      <td>2.76</td>\n",
       "      <td>0.26</td>\n",
       "      <td>4.38</td>\n",
       "      <td>1.05</td>\n",
       "      <td>1050</td>\n",
       "    </tr>\n",
       "    <tr>\n",
       "      <th>2</th>\n",
       "      <td>1</td>\n",
       "      <td>13.16</td>\n",
       "      <td>2.67</td>\n",
       "      <td>18.6</td>\n",
       "      <td>101</td>\n",
       "      <td>2.80</td>\n",
       "      <td>3.24</td>\n",
       "      <td>0.30</td>\n",
       "      <td>5.68</td>\n",
       "      <td>1.03</td>\n",
       "      <td>1185</td>\n",
       "    </tr>\n",
       "  </tbody>\n",
       "</table>\n",
       "</div>"
      ],
      "text/plain": [
       "   Class  Alcohol   Ash  Alcalinity of ash  Magnesium  Total phenols  \\\n",
       "0      1    14.23  2.43               15.6        127           2.80   \n",
       "1      1    13.20  2.14               11.2        100           2.65   \n",
       "2      1    13.16  2.67               18.6        101           2.80   \n",
       "\n",
       "   Flavanoids  Nonflavanoid phenols  Color intensity   Hue  Proline  \n",
       "0        3.06                  0.28             5.64  1.04     1065  \n",
       "1        2.76                  0.26             4.38  1.05     1050  \n",
       "2        3.24                  0.30             5.68  1.03     1185  "
      ]
     },
     "execution_count": 3,
     "metadata": {},
     "output_type": "execute_result"
    }
   ],
   "source": [
    "df.head(3)"
   ]
  },
  {
   "cell_type": "code",
   "execution_count": 4,
   "metadata": {},
   "outputs": [
    {
     "data": {
      "text/html": [
       "<div>\n",
       "<style scoped>\n",
       "    .dataframe tbody tr th:only-of-type {\n",
       "        vertical-align: middle;\n",
       "    }\n",
       "\n",
       "    .dataframe tbody tr th {\n",
       "        vertical-align: top;\n",
       "    }\n",
       "\n",
       "    .dataframe thead th {\n",
       "        text-align: right;\n",
       "    }\n",
       "</style>\n",
       "<table border=\"1\" class=\"dataframe\">\n",
       "  <thead>\n",
       "    <tr style=\"text-align: right;\">\n",
       "      <th></th>\n",
       "      <th>Class</th>\n",
       "      <th>Alcohol</th>\n",
       "      <th>Ash</th>\n",
       "      <th>Alcalinity of ash</th>\n",
       "      <th>Magnesium</th>\n",
       "      <th>Total phenols</th>\n",
       "      <th>Flavanoids</th>\n",
       "      <th>Nonflavanoid phenols</th>\n",
       "      <th>Color intensity</th>\n",
       "      <th>Hue</th>\n",
       "      <th>Proline</th>\n",
       "    </tr>\n",
       "  </thead>\n",
       "  <tbody>\n",
       "    <tr>\n",
       "      <th>175</th>\n",
       "      <td>3</td>\n",
       "      <td>13.27</td>\n",
       "      <td>2.26</td>\n",
       "      <td>20.0</td>\n",
       "      <td>120</td>\n",
       "      <td>1.59</td>\n",
       "      <td>0.69</td>\n",
       "      <td>0.43</td>\n",
       "      <td>10.2</td>\n",
       "      <td>0.59</td>\n",
       "      <td>835</td>\n",
       "    </tr>\n",
       "    <tr>\n",
       "      <th>176</th>\n",
       "      <td>3</td>\n",
       "      <td>13.17</td>\n",
       "      <td>2.37</td>\n",
       "      <td>20.0</td>\n",
       "      <td>120</td>\n",
       "      <td>1.65</td>\n",
       "      <td>0.68</td>\n",
       "      <td>0.53</td>\n",
       "      <td>9.3</td>\n",
       "      <td>0.60</td>\n",
       "      <td>840</td>\n",
       "    </tr>\n",
       "    <tr>\n",
       "      <th>177</th>\n",
       "      <td>3</td>\n",
       "      <td>14.13</td>\n",
       "      <td>2.74</td>\n",
       "      <td>24.5</td>\n",
       "      <td>96</td>\n",
       "      <td>2.05</td>\n",
       "      <td>0.76</td>\n",
       "      <td>0.56</td>\n",
       "      <td>9.2</td>\n",
       "      <td>0.61</td>\n",
       "      <td>560</td>\n",
       "    </tr>\n",
       "  </tbody>\n",
       "</table>\n",
       "</div>"
      ],
      "text/plain": [
       "     Class  Alcohol   Ash  Alcalinity of ash  Magnesium  Total phenols  \\\n",
       "175      3    13.27  2.26               20.0        120           1.59   \n",
       "176      3    13.17  2.37               20.0        120           1.65   \n",
       "177      3    14.13  2.74               24.5         96           2.05   \n",
       "\n",
       "     Flavanoids  Nonflavanoid phenols  Color intensity   Hue  Proline  \n",
       "175        0.69                  0.43             10.2  0.59      835  \n",
       "176        0.68                  0.53              9.3  0.60      840  \n",
       "177        0.76                  0.56              9.2  0.61      560  "
      ]
     },
     "execution_count": 4,
     "metadata": {},
     "output_type": "execute_result"
    }
   ],
   "source": [
    "df.tail(3)"
   ]
  },
  {
   "cell_type": "markdown",
   "metadata": {},
   "source": [
    "今回は、一番左のクラスを予測するクラスを作成する。（1～3等級）  \n",
    "『Alcohol』より右のデータを入力データとする。  \n",
    "## 入力変数と教師データ（出力変数）に切り分ける"
   ]
  },
  {
   "cell_type": "code",
   "execution_count": 5,
   "metadata": {},
   "outputs": [
    {
     "data": {
      "text/plain": [
       "0      1\n",
       "1      1\n",
       "2      1\n",
       "3      1\n",
       "4      1\n",
       "      ..\n",
       "173    3\n",
       "174    3\n",
       "175    3\n",
       "176    3\n",
       "177    3\n",
       "Name: Class, Length: 178, dtype: int64"
      ]
     },
     "execution_count": 5,
     "metadata": {},
     "output_type": "execute_result"
    }
   ],
   "source": [
    "# df.iloc[行をどれくらい取るか, 列をどれくらい取るか]\n",
    "# 教師データt\n",
    "t = df.iloc[:, 0]  # 行は全てで列は0番目のみ\n",
    "t"
   ]
  },
  {
   "cell_type": "code",
   "execution_count": 6,
   "metadata": {},
   "outputs": [
    {
     "data": {
      "text/html": [
       "<div>\n",
       "<style scoped>\n",
       "    .dataframe tbody tr th:only-of-type {\n",
       "        vertical-align: middle;\n",
       "    }\n",
       "\n",
       "    .dataframe tbody tr th {\n",
       "        vertical-align: top;\n",
       "    }\n",
       "\n",
       "    .dataframe thead th {\n",
       "        text-align: right;\n",
       "    }\n",
       "</style>\n",
       "<table border=\"1\" class=\"dataframe\">\n",
       "  <thead>\n",
       "    <tr style=\"text-align: right;\">\n",
       "      <th></th>\n",
       "      <th>Alcohol</th>\n",
       "      <th>Ash</th>\n",
       "      <th>Alcalinity of ash</th>\n",
       "      <th>Magnesium</th>\n",
       "      <th>Total phenols</th>\n",
       "      <th>Flavanoids</th>\n",
       "      <th>Nonflavanoid phenols</th>\n",
       "      <th>Color intensity</th>\n",
       "      <th>Hue</th>\n",
       "      <th>Proline</th>\n",
       "    </tr>\n",
       "  </thead>\n",
       "  <tbody>\n",
       "    <tr>\n",
       "      <th>0</th>\n",
       "      <td>14.23</td>\n",
       "      <td>2.43</td>\n",
       "      <td>15.6</td>\n",
       "      <td>127</td>\n",
       "      <td>2.80</td>\n",
       "      <td>3.06</td>\n",
       "      <td>0.28</td>\n",
       "      <td>5.64</td>\n",
       "      <td>1.04</td>\n",
       "      <td>1065</td>\n",
       "    </tr>\n",
       "    <tr>\n",
       "      <th>1</th>\n",
       "      <td>13.20</td>\n",
       "      <td>2.14</td>\n",
       "      <td>11.2</td>\n",
       "      <td>100</td>\n",
       "      <td>2.65</td>\n",
       "      <td>2.76</td>\n",
       "      <td>0.26</td>\n",
       "      <td>4.38</td>\n",
       "      <td>1.05</td>\n",
       "      <td>1050</td>\n",
       "    </tr>\n",
       "    <tr>\n",
       "      <th>2</th>\n",
       "      <td>13.16</td>\n",
       "      <td>2.67</td>\n",
       "      <td>18.6</td>\n",
       "      <td>101</td>\n",
       "      <td>2.80</td>\n",
       "      <td>3.24</td>\n",
       "      <td>0.30</td>\n",
       "      <td>5.68</td>\n",
       "      <td>1.03</td>\n",
       "      <td>1185</td>\n",
       "    </tr>\n",
       "  </tbody>\n",
       "</table>\n",
       "</div>"
      ],
      "text/plain": [
       "   Alcohol   Ash  Alcalinity of ash  Magnesium  Total phenols  Flavanoids  \\\n",
       "0    14.23  2.43               15.6        127           2.80        3.06   \n",
       "1    13.20  2.14               11.2        100           2.65        2.76   \n",
       "2    13.16  2.67               18.6        101           2.80        3.24   \n",
       "\n",
       "   Nonflavanoid phenols  Color intensity   Hue  Proline  \n",
       "0                  0.28             5.64  1.04     1065  \n",
       "1                  0.26             4.38  1.05     1050  \n",
       "2                  0.30             5.68  1.03     1185  "
      ]
     },
     "execution_count": 6,
     "metadata": {},
     "output_type": "execute_result"
    }
   ],
   "source": [
    "# 入力データx\n",
    "x = df.iloc[:, 1:]  # 行は全てで、列は0以外の全て\n",
    "x.head(3)"
   ]
  },
  {
   "cell_type": "code",
   "execution_count": 7,
   "metadata": {},
   "outputs": [
    {
     "data": {
      "text/plain": [
       "(178, 10)"
      ]
     },
     "execution_count": 7,
     "metadata": {},
     "output_type": "execute_result"
    }
   ],
   "source": [
    "# 出来上がったデータのサイズを確認する。\n",
    "x.shape"
   ]
  },
  {
   "cell_type": "markdown",
   "metadata": {},
   "source": [
    "## データをChainerで使えるように変換\n",
    "DataFrame型をNumpyの型に変換"
   ]
  },
  {
   "cell_type": "code",
   "execution_count": 8,
   "metadata": {},
   "outputs": [
    {
     "data": {
      "text/plain": [
       "pandas.core.frame.DataFrame"
      ]
     },
     "execution_count": 8,
     "metadata": {},
     "output_type": "execute_result"
    }
   ],
   "source": [
    "type(x)"
   ]
  },
  {
   "cell_type": "code",
   "execution_count": 9,
   "metadata": {},
   "outputs": [
    {
     "data": {
      "text/plain": [
       "numpy.ndarray"
      ]
     },
     "execution_count": 9,
     "metadata": {},
     "output_type": "execute_result"
    }
   ],
   "source": [
    "# Numpyの型にするために、『.value』を利用する。\n",
    "type(x.values)"
   ]
  },
  {
   "cell_type": "code",
   "execution_count": 10,
   "metadata": {},
   "outputs": [],
   "source": [
    "t = t.values-1\n",
    "x = x.values"
   ]
  },
  {
   "cell_type": "markdown",
   "metadata": {},
   "source": [
    "t(教師データ）は1～3だが、Chainerでは、0～2にしなければならない。"
   ]
  },
  {
   "cell_type": "code",
   "execution_count": 11,
   "metadata": {},
   "outputs": [
    {
     "data": {
      "text/plain": [
       "array([0, 0, 0, 0, 0, 0, 0, 0, 0, 0, 0, 0, 0, 0, 0, 0, 0, 0, 0, 0, 0, 0,\n",
       "       0, 0, 0, 0, 0, 0, 0, 0, 0, 0, 0, 0, 0, 0, 0, 0, 0, 0, 0, 0, 0, 0,\n",
       "       0, 0, 0, 0, 0, 0, 0, 0, 0, 0, 0, 0, 0, 0, 0, 1, 1, 1, 1, 1, 1, 1,\n",
       "       1, 1, 1, 1, 1, 1, 1, 1, 1, 1, 1, 1, 1, 1, 1, 1, 1, 1, 1, 1, 1, 1,\n",
       "       1, 1, 1, 1, 1, 1, 1, 1, 1, 1, 1, 1, 1, 1, 1, 1, 1, 1, 1, 1, 1, 1,\n",
       "       1, 1, 1, 1, 1, 1, 1, 1, 1, 1, 1, 1, 1, 1, 1, 1, 1, 1, 1, 1, 2, 2,\n",
       "       2, 2, 2, 2, 2, 2, 2, 2, 2, 2, 2, 2, 2, 2, 2, 2, 2, 2, 2, 2, 2, 2,\n",
       "       2, 2, 2, 2, 2, 2, 2, 2, 2, 2, 2, 2, 2, 2, 2, 2, 2, 2, 2, 2, 2, 2,\n",
       "       2, 2], dtype=int64)"
      ]
     },
     "execution_count": 11,
     "metadata": {},
     "output_type": "execute_result"
    }
   ],
   "source": [
    "t"
   ]
  },
  {
   "cell_type": "code",
   "execution_count": 12,
   "metadata": {},
   "outputs": [
    {
     "data": {
      "text/plain": [
       "dtype('int64')"
      ]
     },
     "execution_count": 12,
     "metadata": {},
     "output_type": "execute_result"
    }
   ],
   "source": [
    "t.dtype"
   ]
  },
  {
   "cell_type": "code",
   "execution_count": 13,
   "metadata": {},
   "outputs": [
    {
     "data": {
      "text/plain": [
       "dtype('float64')"
      ]
     },
     "execution_count": 13,
     "metadata": {},
     "output_type": "execute_result"
    }
   ],
   "source": [
    "x.dtype"
   ]
  },
  {
   "cell_type": "markdown",
   "metadata": {},
   "source": [
    "入力と教師データを32Bitに変換"
   ]
  },
  {
   "cell_type": "code",
   "execution_count": 14,
   "metadata": {},
   "outputs": [],
   "source": [
    "t = t.astype('i')\n",
    "x = x.astype('f')"
   ]
  },
  {
   "cell_type": "code",
   "execution_count": 15,
   "metadata": {},
   "outputs": [
    {
     "data": {
      "text/plain": [
       "dtype('int32')"
      ]
     },
     "execution_count": 15,
     "metadata": {},
     "output_type": "execute_result"
    }
   ],
   "source": [
    "t.dtype"
   ]
  },
  {
   "cell_type": "code",
   "execution_count": 16,
   "metadata": {},
   "outputs": [
    {
     "data": {
      "text/plain": [
       "dtype('float32')"
      ]
     },
     "execution_count": 16,
     "metadata": {},
     "output_type": "execute_result"
    }
   ],
   "source": [
    "x.dtype"
   ]
  },
  {
   "cell_type": "markdown",
   "metadata": {},
   "source": [
    "# ニューラルネットワークのモデルを定義"
   ]
  },
  {
   "cell_type": "code",
   "execution_count": 17,
   "metadata": {},
   "outputs": [
    {
     "name": "stderr",
     "output_type": "stream",
     "text": [
      "D:\\Anaconda3\\envs\\Chainer\\lib\\site-packages\\chainer\\backends\\cuda.py:98: UserWarning: cuDNN is not enabled.\n",
      "Please reinstall CuPy after you install cudnn\n",
      "(see https://docs-cupy.chainer.org/en/stable/install.html#install-cudnn).\n",
      "  'cuDNN is not enabled.\\n'\n"
     ]
    }
   ],
   "source": [
    "import chainer.functions as F\n",
    "import chainer.links as L\n",
    "import chainer"
   ]
  },
  {
   "cell_type": "code",
   "execution_count": 18,
   "metadata": {},
   "outputs": [],
   "source": [
    "class NN(chainer.Chain):\n",
    "    \n",
    "    # モデルの構造\n",
    "    def __init__(self):\n",
    "        super().__init__()\n",
    "        with self.init_scope():\n",
    "            self.fc1 = L.Linear(10, 5)\n",
    "            self.fc2 = L.Linear(5, 3)\n",
    "            \n",
    "    # 順伝播\n",
    "    def __call__(self, x):\n",
    "        u1 = self.fc1(x)\n",
    "        z1 = F.relu(u1)\n",
    "        u2 = self.fc2(z1)\n",
    "        return u2"
   ]
  },
  {
   "cell_type": "markdown",
   "metadata": {},
   "source": [
    "### クラスの改良\n",
    "クラス内にて直値でサイズを定義するのでは無く、可変で設定できるようにする。"
   ]
  },
  {
   "cell_type": "code",
   "execution_count": 19,
   "metadata": {},
   "outputs": [],
   "source": [
    "class NN(chainer.Chain):\n",
    "    \n",
    "    # モデルの構造\n",
    "    def __init__(self, n_mid_units=5, n_out=3):  # 中間層と出力層のはインスタンス化時に、引数として受けとる。\n",
    "        super().__init__()\n",
    "        with self.init_scope():\n",
    "            self.fc1 = L.Linear(None, n_mid_units)  # Chainerは入力層を『None』にすると、自動で認識してくれる。\n",
    "            self.fc2 = L.Linear(None, n_out)\n",
    "            \n",
    "    # 順伝播\n",
    "    def __call__(self, x):\n",
    "        h = self.fc1(x)  # 変数の確保を１つにする。\n",
    "        h = F.relu(h)\n",
    "        h = self.fc2(h)\n",
    "        return h"
   ]
  },
  {
   "cell_type": "markdown",
   "metadata": {},
   "source": [
    "## インスタンス化\n",
    "\n",
    "シードの固定を忘れないようにする。"
   ]
  },
  {
   "cell_type": "code",
   "execution_count": 20,
   "metadata": {},
   "outputs": [],
   "source": [
    "import numpy as np"
   ]
  },
  {
   "cell_type": "code",
   "execution_count": 21,
   "metadata": {},
   "outputs": [],
   "source": [
    "np.random.seed(3)\n",
    "nn = NN(n_mid_units=5, n_out=3)  # 引数は省略可能"
   ]
  },
  {
   "cell_type": "markdown",
   "metadata": {},
   "source": [
    "モデルの学習方法等を管理するための、『Classifier』を利用する。"
   ]
  },
  {
   "cell_type": "code",
   "execution_count": 22,
   "metadata": {},
   "outputs": [],
   "source": [
    "model = L.Classifier(nn)"
   ]
  },
  {
   "cell_type": "markdown",
   "metadata": {},
   "source": [
    "## データセットの作成\n",
    "Chainerで推奨されている形式に変換する必要がある。\n",
    "\n",
    "データをタプルでかこう必要がある。\"zip()\"でできる。\n",
    "\n",
    "そのデータをリストにする。"
   ]
  },
  {
   "cell_type": "code",
   "execution_count": 23,
   "metadata": {},
   "outputs": [],
   "source": [
    "dateset = list(zip(x, t))"
   ]
  },
  {
   "cell_type": "code",
   "execution_count": 24,
   "metadata": {},
   "outputs": [
    {
     "data": {
      "text/plain": [
       "[(array([1.423e+01, 2.430e+00, 1.560e+01, 1.270e+02, 2.800e+00, 3.060e+00,\n",
       "         2.800e-01, 5.640e+00, 1.040e+00, 1.065e+03], dtype=float32), 0),\n",
       " (array([1.32e+01, 2.14e+00, 1.12e+01, 1.00e+02, 2.65e+00, 2.76e+00,\n",
       "         2.60e-01, 4.38e+00, 1.05e+00, 1.05e+03], dtype=float32), 0),\n",
       " (array([1.316e+01, 2.670e+00, 1.860e+01, 1.010e+02, 2.800e+00, 3.240e+00,\n",
       "         3.000e-01, 5.680e+00, 1.030e+00, 1.185e+03], dtype=float32), 0),\n",
       " (array([1.437e+01, 2.500e+00, 1.680e+01, 1.130e+02, 3.850e+00, 3.490e+00,\n",
       "         2.400e-01, 7.800e+00, 8.600e-01, 1.480e+03], dtype=float32), 0),\n",
       " (array([1.324e+01, 2.870e+00, 2.100e+01, 1.180e+02, 2.800e+00, 2.690e+00,\n",
       "         3.900e-01, 4.320e+00, 1.040e+00, 7.350e+02], dtype=float32), 0),\n",
       " (array([1.42e+01, 2.45e+00, 1.52e+01, 1.12e+02, 3.27e+00, 3.39e+00,\n",
       "         3.40e-01, 6.75e+00, 1.05e+00, 1.45e+03], dtype=float32), 0),\n",
       " (array([1.439e+01, 2.450e+00, 1.460e+01, 9.600e+01, 2.500e+00, 2.520e+00,\n",
       "         3.000e-01, 5.250e+00, 1.020e+00, 1.290e+03], dtype=float32), 0),\n",
       " (array([1.406e+01, 2.610e+00, 1.760e+01, 1.210e+02, 2.600e+00, 2.510e+00,\n",
       "         3.100e-01, 5.050e+00, 1.060e+00, 1.295e+03], dtype=float32), 0),\n",
       " (array([1.483e+01, 2.170e+00, 1.400e+01, 9.700e+01, 2.800e+00, 2.980e+00,\n",
       "         2.900e-01, 5.200e+00, 1.080e+00, 1.045e+03], dtype=float32), 0),\n",
       " (array([1.386e+01, 2.270e+00, 1.600e+01, 9.800e+01, 2.980e+00, 3.150e+00,\n",
       "         2.200e-01, 7.220e+00, 1.010e+00, 1.045e+03], dtype=float32), 0),\n",
       " (array([1.41e+01, 2.30e+00, 1.80e+01, 1.05e+02, 2.95e+00, 3.32e+00,\n",
       "         2.20e-01, 5.75e+00, 1.25e+00, 1.51e+03], dtype=float32), 0),\n",
       " (array([1.412e+01, 2.320e+00, 1.680e+01, 9.500e+01, 2.200e+00, 2.430e+00,\n",
       "         2.600e-01, 5.000e+00, 1.170e+00, 1.280e+03], dtype=float32), 0),\n",
       " (array([1.375e+01, 2.410e+00, 1.600e+01, 8.900e+01, 2.600e+00, 2.760e+00,\n",
       "         2.900e-01, 5.600e+00, 1.150e+00, 1.320e+03], dtype=float32), 0),\n",
       " (array([1.475e+01, 2.390e+00, 1.140e+01, 9.100e+01, 3.100e+00, 3.690e+00,\n",
       "         4.300e-01, 5.400e+00, 1.250e+00, 1.150e+03], dtype=float32), 0),\n",
       " (array([1.438e+01, 2.380e+00, 1.200e+01, 1.020e+02, 3.300e+00, 3.640e+00,\n",
       "         2.900e-01, 7.500e+00, 1.200e+00, 1.547e+03], dtype=float32), 0),\n",
       " (array([1.363e+01, 2.700e+00, 1.720e+01, 1.120e+02, 2.850e+00, 2.910e+00,\n",
       "         3.000e-01, 7.300e+00, 1.280e+00, 1.310e+03], dtype=float32), 0),\n",
       " (array([1.43e+01, 2.72e+00, 2.00e+01, 1.20e+02, 2.80e+00, 3.14e+00,\n",
       "         3.30e-01, 6.20e+00, 1.07e+00, 1.28e+03], dtype=float32), 0),\n",
       " (array([1.383e+01, 2.620e+00, 2.000e+01, 1.150e+02, 2.950e+00, 3.400e+00,\n",
       "         4.000e-01, 6.600e+00, 1.130e+00, 1.130e+03], dtype=float32), 0),\n",
       " (array([1.419e+01, 2.480e+00, 1.650e+01, 1.080e+02, 3.300e+00, 3.930e+00,\n",
       "         3.200e-01, 8.700e+00, 1.230e+00, 1.680e+03], dtype=float32), 0),\n",
       " (array([1.364e+01, 2.560e+00, 1.520e+01, 1.160e+02, 2.700e+00, 3.030e+00,\n",
       "         1.700e-01, 5.100e+00, 9.600e-01, 8.450e+02], dtype=float32), 0),\n",
       " (array([1.406e+01, 2.280e+00, 1.600e+01, 1.260e+02, 3.000e+00, 3.170e+00,\n",
       "         2.400e-01, 5.650e+00, 1.090e+00, 7.800e+02], dtype=float32), 0),\n",
       " (array([1.293e+01, 2.650e+00, 1.860e+01, 1.020e+02, 2.410e+00, 2.410e+00,\n",
       "         2.500e-01, 4.500e+00, 1.030e+00, 7.700e+02], dtype=float32), 0),\n",
       " (array([1.371e+01, 2.360e+00, 1.660e+01, 1.010e+02, 2.610e+00, 2.880e+00,\n",
       "         2.700e-01, 3.800e+00, 1.110e+00, 1.035e+03], dtype=float32), 0),\n",
       " (array([1.285e+01, 2.520e+00, 1.780e+01, 9.500e+01, 2.480e+00, 2.370e+00,\n",
       "         2.600e-01, 3.930e+00, 1.090e+00, 1.015e+03], dtype=float32), 0),\n",
       " (array([1.35e+01, 2.61e+00, 2.00e+01, 9.60e+01, 2.53e+00, 2.61e+00,\n",
       "         2.80e-01, 3.52e+00, 1.12e+00, 8.45e+02], dtype=float32), 0),\n",
       " (array([1.305e+01, 3.220e+00, 2.500e+01, 1.240e+02, 2.630e+00, 2.680e+00,\n",
       "         4.700e-01, 3.580e+00, 1.130e+00, 8.300e+02], dtype=float32), 0),\n",
       " (array([1.339e+01, 2.620e+00, 1.610e+01, 9.300e+01, 2.850e+00, 2.940e+00,\n",
       "         3.400e-01, 4.800e+00, 9.200e-01, 1.195e+03], dtype=float32), 0),\n",
       " (array([1.330e+01, 2.140e+00, 1.700e+01, 9.400e+01, 2.400e+00, 2.190e+00,\n",
       "         2.700e-01, 3.950e+00, 1.020e+00, 1.285e+03], dtype=float32), 0),\n",
       " (array([1.387e+01, 2.800e+00, 1.940e+01, 1.070e+02, 2.950e+00, 2.970e+00,\n",
       "         3.700e-01, 4.500e+00, 1.250e+00, 9.150e+02], dtype=float32), 0),\n",
       " (array([1.402e+01, 2.210e+00, 1.600e+01, 9.600e+01, 2.650e+00, 2.330e+00,\n",
       "         2.600e-01, 4.700e+00, 1.040e+00, 1.035e+03], dtype=float32), 0),\n",
       " (array([1.373e+01, 2.700e+00, 2.250e+01, 1.010e+02, 3.000e+00, 3.250e+00,\n",
       "         2.900e-01, 5.700e+00, 1.190e+00, 1.285e+03], dtype=float32), 0),\n",
       " (array([1.358e+01, 2.360e+00, 1.910e+01, 1.060e+02, 2.860e+00, 3.190e+00,\n",
       "         2.200e-01, 6.900e+00, 1.090e+00, 1.515e+03], dtype=float32), 0),\n",
       " (array([1.368e+01, 2.360e+00, 1.720e+01, 1.040e+02, 2.420e+00, 2.690e+00,\n",
       "         4.200e-01, 3.840e+00, 1.230e+00, 9.900e+02], dtype=float32), 0),\n",
       " (array([1.376e+01, 2.700e+00, 1.950e+01, 1.320e+02, 2.950e+00, 2.740e+00,\n",
       "         5.000e-01, 5.400e+00, 1.250e+00, 1.235e+03], dtype=float32), 0),\n",
       " (array([1.351e+01, 2.650e+00, 1.900e+01, 1.100e+02, 2.350e+00, 2.530e+00,\n",
       "         2.900e-01, 4.200e+00, 1.100e+00, 1.095e+03], dtype=float32), 0),\n",
       " (array([1.348e+01, 2.410e+00, 2.050e+01, 1.000e+02, 2.700e+00, 2.980e+00,\n",
       "         2.600e-01, 5.100e+00, 1.040e+00, 9.200e+02], dtype=float32), 0),\n",
       " (array([1.328e+01, 2.840e+00, 1.550e+01, 1.100e+02, 2.600e+00, 2.680e+00,\n",
       "         3.400e-01, 4.600e+00, 1.090e+00, 8.800e+02], dtype=float32), 0),\n",
       " (array([1.305e+01, 2.550e+00, 1.800e+01, 9.800e+01, 2.450e+00, 2.430e+00,\n",
       "         2.900e-01, 4.250e+00, 1.120e+00, 1.105e+03], dtype=float32), 0),\n",
       " (array([1.307e+01, 2.100e+00, 1.550e+01, 9.800e+01, 2.400e+00, 2.640e+00,\n",
       "         2.800e-01, 3.700e+00, 1.180e+00, 1.020e+03], dtype=float32), 0),\n",
       " (array([1.422e+01, 2.510e+00, 1.320e+01, 1.280e+02, 3.000e+00, 3.040e+00,\n",
       "         2.000e-01, 5.100e+00, 8.900e-01, 7.600e+02], dtype=float32), 0),\n",
       " (array([1.356e+01, 2.310e+00, 1.620e+01, 1.170e+02, 3.150e+00, 3.290e+00,\n",
       "         3.400e-01, 6.130e+00, 9.500e-01, 7.950e+02], dtype=float32), 0),\n",
       " (array([1.341e+01, 2.120e+00, 1.880e+01, 9.000e+01, 2.450e+00, 2.680e+00,\n",
       "         2.700e-01, 4.280e+00, 9.100e-01, 1.035e+03], dtype=float32), 0),\n",
       " (array([1.388e+01, 2.590e+00, 1.500e+01, 1.010e+02, 3.250e+00, 3.560e+00,\n",
       "         1.700e-01, 5.430e+00, 8.800e-01, 1.095e+03], dtype=float32), 0),\n",
       " (array([1.324e+01, 2.290e+00, 1.750e+01, 1.030e+02, 2.640e+00, 2.630e+00,\n",
       "         3.200e-01, 4.360e+00, 8.200e-01, 6.800e+02], dtype=float32), 0),\n",
       " (array([1.305e+01, 2.100e+00, 1.700e+01, 1.070e+02, 3.000e+00, 3.000e+00,\n",
       "         2.800e-01, 5.040e+00, 8.800e-01, 8.850e+02], dtype=float32), 0),\n",
       " (array([1.421e+01, 2.440e+00, 1.890e+01, 1.110e+02, 2.850e+00, 2.650e+00,\n",
       "         3.000e-01, 5.240e+00, 8.700e-01, 1.080e+03], dtype=float32), 0),\n",
       " (array([1.438e+01, 2.280e+00, 1.600e+01, 1.020e+02, 3.250e+00, 3.170e+00,\n",
       "         2.700e-01, 4.900e+00, 1.040e+00, 1.065e+03], dtype=float32), 0),\n",
       " (array([1.39e+01, 2.12e+00, 1.60e+01, 1.01e+02, 3.10e+00, 3.39e+00,\n",
       "         2.10e-01, 6.10e+00, 9.10e-01, 9.85e+02], dtype=float32), 0),\n",
       " (array([1.41e+01, 2.40e+00, 1.88e+01, 1.03e+02, 2.75e+00, 2.92e+00,\n",
       "         3.20e-01, 6.20e+00, 1.07e+00, 1.06e+03], dtype=float32), 0),\n",
       " (array([1.394e+01, 2.270e+00, 1.740e+01, 1.080e+02, 2.880e+00, 3.540e+00,\n",
       "         3.200e-01, 8.900e+00, 1.120e+00, 1.260e+03], dtype=float32), 0),\n",
       " (array([1.305e+01, 2.040e+00, 1.240e+01, 9.200e+01, 2.720e+00, 3.270e+00,\n",
       "         1.700e-01, 7.200e+00, 1.120e+00, 1.150e+03], dtype=float32), 0),\n",
       " (array([1.383e+01, 2.600e+00, 1.720e+01, 9.400e+01, 2.450e+00, 2.990e+00,\n",
       "         2.200e-01, 5.600e+00, 1.240e+00, 1.265e+03], dtype=float32), 0),\n",
       " (array([1.382e+01, 2.420e+00, 1.400e+01, 1.110e+02, 3.880e+00, 3.740e+00,\n",
       "         3.200e-01, 7.050e+00, 1.010e+00, 1.190e+03], dtype=float32), 0),\n",
       " (array([1.377e+01, 2.680e+00, 1.710e+01, 1.150e+02, 3.000e+00, 2.790e+00,\n",
       "         3.900e-01, 6.300e+00, 1.130e+00, 1.375e+03], dtype=float32), 0),\n",
       " (array([1.374e+01, 2.250e+00, 1.640e+01, 1.180e+02, 2.600e+00, 2.900e+00,\n",
       "         2.100e-01, 5.850e+00, 9.200e-01, 1.060e+03], dtype=float32), 0),\n",
       " (array([1.356e+01, 2.460e+00, 2.050e+01, 1.160e+02, 2.960e+00, 2.780e+00,\n",
       "         2.000e-01, 6.250e+00, 9.800e-01, 1.120e+03], dtype=float32), 0),\n",
       " (array([1.422e+01, 2.300e+00, 1.630e+01, 1.180e+02, 3.200e+00, 3.000e+00,\n",
       "         2.600e-01, 6.380e+00, 9.400e-01, 9.700e+02], dtype=float32), 0),\n",
       " (array([1.329e+01, 2.680e+00, 1.680e+01, 1.020e+02, 3.000e+00, 3.230e+00,\n",
       "         3.100e-01, 6.000e+00, 1.070e+00, 1.270e+03], dtype=float32), 0),\n",
       " (array([1.372e+01, 2.500e+00, 1.670e+01, 1.080e+02, 3.400e+00, 3.670e+00,\n",
       "         1.900e-01, 6.800e+00, 8.900e-01, 1.285e+03], dtype=float32), 0),\n",
       " (array([1.237e+01, 1.360e+00, 1.060e+01, 8.800e+01, 1.980e+00, 5.700e-01,\n",
       "         2.800e-01, 1.950e+00, 1.050e+00, 5.200e+02], dtype=float32), 1),\n",
       " (array([1.233e+01, 2.280e+00, 1.600e+01, 1.010e+02, 2.050e+00, 1.090e+00,\n",
       "         6.300e-01, 3.270e+00, 1.250e+00, 6.800e+02], dtype=float32), 1),\n",
       " (array([ 12.64,   2.02,  16.8 , 100.  ,   2.02,   1.41,   0.53,   5.75,\n",
       "           0.98, 450.  ], dtype=float32), 1),\n",
       " (array([1.367e+01, 1.920e+00, 1.800e+01, 9.400e+01, 2.100e+00, 1.790e+00,\n",
       "         3.200e-01, 3.800e+00, 1.230e+00, 6.300e+02], dtype=float32), 1),\n",
       " (array([1.237e+01, 2.160e+00, 1.900e+01, 8.700e+01, 3.500e+00, 3.100e+00,\n",
       "         1.900e-01, 4.450e+00, 1.220e+00, 4.200e+02], dtype=float32), 1),\n",
       " (array([ 12.17,   2.53,  19.  , 104.  ,   1.89,   1.75,   0.45,   2.95,\n",
       "           1.45, 355.  ], dtype=float32), 1),\n",
       " (array([1.237e+01, 2.560e+00, 1.810e+01, 9.800e+01, 2.420e+00, 2.650e+00,\n",
       "         3.700e-01, 4.600e+00, 1.190e+00, 6.780e+02], dtype=float32), 1),\n",
       " (array([1.311e+01, 1.700e+00, 1.500e+01, 7.800e+01, 2.980e+00, 3.180e+00,\n",
       "         2.600e-01, 5.300e+00, 1.120e+00, 5.020e+02], dtype=float32), 1),\n",
       " (array([1.237e+01, 1.920e+00, 1.960e+01, 7.800e+01, 2.110e+00, 2.000e+00,\n",
       "         2.700e-01, 4.680e+00, 1.120e+00, 5.100e+02], dtype=float32), 1),\n",
       " (array([1.334e+01, 2.360e+00, 1.700e+01, 1.100e+02, 2.530e+00, 1.300e+00,\n",
       "         5.500e-01, 3.170e+00, 1.020e+00, 7.500e+02], dtype=float32), 1),\n",
       " (array([1.221e+01, 1.750e+00, 1.680e+01, 1.510e+02, 1.850e+00, 1.280e+00,\n",
       "         1.400e-01, 2.850e+00, 1.280e+00, 7.180e+02], dtype=float32), 1),\n",
       " (array([1.229e+01, 2.210e+00, 2.040e+01, 1.030e+02, 1.100e+00, 1.020e+00,\n",
       "         3.700e-01, 3.050e+00, 9.060e-01, 8.700e+02], dtype=float32), 1),\n",
       " (array([1.386e+01, 2.670e+00, 2.500e+01, 8.600e+01, 2.950e+00, 2.860e+00,\n",
       "         2.100e-01, 3.380e+00, 1.360e+00, 4.100e+02], dtype=float32), 1),\n",
       " (array([1.349e+01, 2.240e+00, 2.400e+01, 8.700e+01, 1.880e+00, 1.840e+00,\n",
       "         2.700e-01, 3.740e+00, 9.800e-01, 4.720e+02], dtype=float32), 1),\n",
       " (array([1.299e+01, 2.600e+00, 3.000e+01, 1.390e+02, 3.300e+00, 2.890e+00,\n",
       "         2.100e-01, 3.350e+00, 1.310e+00, 9.850e+02], dtype=float32), 1),\n",
       " (array([1.196e+01, 2.300e+00, 2.100e+01, 1.010e+02, 3.380e+00, 2.140e+00,\n",
       "         1.300e-01, 3.210e+00, 9.900e-01, 8.860e+02], dtype=float32), 1),\n",
       " (array([1.166e+01, 1.920e+00, 1.600e+01, 9.700e+01, 1.610e+00, 1.570e+00,\n",
       "         3.400e-01, 3.800e+00, 1.230e+00, 4.280e+02], dtype=float32), 1),\n",
       " (array([1.303e+01, 1.710e+00, 1.600e+01, 8.600e+01, 1.950e+00, 2.030e+00,\n",
       "         2.400e-01, 4.600e+00, 1.190e+00, 3.920e+02], dtype=float32), 1),\n",
       " (array([1.184e+01, 2.230e+00, 1.800e+01, 1.120e+02, 1.720e+00, 1.320e+00,\n",
       "         4.300e-01, 2.650e+00, 9.600e-01, 5.000e+02], dtype=float32), 1),\n",
       " (array([1.233e+01, 1.950e+00, 1.480e+01, 1.360e+02, 1.900e+00, 1.850e+00,\n",
       "         3.500e-01, 3.400e+00, 1.060e+00, 7.500e+02], dtype=float32), 1),\n",
       " (array([1.27e+01, 2.40e+00, 2.30e+01, 1.01e+02, 2.83e+00, 2.55e+00,\n",
       "         4.30e-01, 2.57e+00, 1.19e+00, 4.63e+02], dtype=float32), 1),\n",
       " (array([ 12.  ,   2.  ,  19.  ,  86.  ,   2.42,   2.26,   0.3 ,   2.5 ,\n",
       "           1.38, 278.  ], dtype=float32), 1),\n",
       " (array([1.272e+01, 2.200e+00, 1.880e+01, 8.600e+01, 2.200e+00, 2.530e+00,\n",
       "         2.600e-01, 3.900e+00, 1.160e+00, 7.140e+02], dtype=float32), 1),\n",
       " (array([1.208e+01, 2.510e+00, 2.400e+01, 7.800e+01, 2.000e+00, 1.580e+00,\n",
       "         4.000e-01, 2.200e+00, 1.310e+00, 6.300e+02], dtype=float32), 1),\n",
       " (array([ 13.05,   2.32,  22.5 ,  85.  ,   1.65,   1.59,   0.61,   4.8 ,\n",
       "           0.84, 515.  ], dtype=float32), 1),\n",
       " (array([1.184e+01, 2.580e+00, 1.800e+01, 9.400e+01, 2.200e+00, 2.210e+00,\n",
       "         2.200e-01, 3.050e+00, 7.900e-01, 5.200e+02], dtype=float32), 1),\n",
       " (array([1.267e+01, 2.240e+00, 1.800e+01, 9.900e+01, 2.200e+00, 1.940e+00,\n",
       "         3.000e-01, 2.620e+00, 1.230e+00, 4.500e+02], dtype=float32), 1),\n",
       " (array([1.216e+01, 2.310e+00, 2.280e+01, 9.000e+01, 1.780e+00, 1.690e+00,\n",
       "         4.300e-01, 2.450e+00, 1.330e+00, 4.950e+02], dtype=float32), 1),\n",
       " (array([1.165e+01, 2.620e+00, 2.600e+01, 8.800e+01, 1.920e+00, 1.610e+00,\n",
       "         4.000e-01, 2.600e+00, 1.360e+00, 5.620e+02], dtype=float32), 1),\n",
       " (array([1.164e+01, 2.460e+00, 2.160e+01, 8.400e+01, 1.950e+00, 1.690e+00,\n",
       "         4.800e-01, 2.800e+00, 1.000e+00, 6.800e+02], dtype=float32), 1),\n",
       " (array([1.208e+01, 2.300e+00, 2.360e+01, 7.000e+01, 2.200e+00, 1.590e+00,\n",
       "         4.200e-01, 1.740e+00, 1.070e+00, 6.250e+02], dtype=float32), 1),\n",
       " (array([ 12.08,   2.32,  18.5 ,  81.  ,   1.6 ,   1.5 ,   0.52,   2.4 ,\n",
       "           1.08, 480.  ], dtype=float32), 1),\n",
       " (array([ 12.  ,   2.42,  22.  ,  86.  ,   1.45,   1.25,   0.5 ,   3.6 ,\n",
       "           1.05, 450.  ], dtype=float32), 1),\n",
       " (array([ 12.69,   2.26,  20.7 ,  80.  ,   1.38,   1.46,   0.58,   3.05,\n",
       "           0.96, 495.  ], dtype=float32), 1),\n",
       " (array([1.229e+01, 2.220e+00, 1.800e+01, 8.800e+01, 2.450e+00, 2.250e+00,\n",
       "         2.500e-01, 2.150e+00, 1.150e+00, 2.900e+02], dtype=float32), 1),\n",
       " (array([1.162e+01, 2.280e+00, 1.800e+01, 9.800e+01, 3.020e+00, 2.260e+00,\n",
       "         1.700e-01, 3.250e+00, 1.160e+00, 3.450e+02], dtype=float32), 1),\n",
       " (array([1.247e+01, 2.200e+00, 1.900e+01, 1.620e+02, 2.500e+00, 2.270e+00,\n",
       "         3.200e-01, 2.600e+00, 1.160e+00, 9.370e+02], dtype=float32), 1),\n",
       " (array([1.181e+01, 2.740e+00, 2.150e+01, 1.340e+02, 1.600e+00, 9.900e-01,\n",
       "         1.400e-01, 2.500e+00, 9.500e-01, 6.250e+02], dtype=float32), 1),\n",
       " (array([1.229e+01, 1.980e+00, 1.600e+01, 8.500e+01, 2.550e+00, 2.500e+00,\n",
       "         2.900e-01, 2.900e+00, 1.230e+00, 4.280e+02], dtype=float32), 1),\n",
       " (array([1.237e+01, 2.100e+00, 1.850e+01, 8.800e+01, 3.520e+00, 3.750e+00,\n",
       "         2.400e-01, 4.500e+00, 1.040e+00, 6.600e+02], dtype=float32), 1),\n",
       " (array([ 12.29,   2.21,  18.  ,  88.  ,   2.85,   2.99,   0.45,   2.3 ,\n",
       "           1.42, 406.  ], dtype=float32), 1),\n",
       " (array([1.208e+01, 1.700e+00, 1.750e+01, 9.700e+01, 2.230e+00, 2.170e+00,\n",
       "         2.600e-01, 3.300e+00, 1.270e+00, 7.100e+02], dtype=float32), 1),\n",
       " (array([1.26e+01, 1.90e+00, 1.85e+01, 8.80e+01, 1.45e+00, 1.36e+00,\n",
       "         2.90e-01, 2.45e+00, 1.04e+00, 5.62e+02], dtype=float32), 1),\n",
       " (array([1.234e+01, 2.460e+00, 2.100e+01, 9.800e+01, 2.560e+00, 2.110e+00,\n",
       "         3.400e-01, 2.800e+00, 8.000e-01, 4.380e+02], dtype=float32), 1),\n",
       " (array([1.182e+01, 1.880e+00, 1.950e+01, 8.600e+01, 2.500e+00, 1.640e+00,\n",
       "         3.700e-01, 2.060e+00, 9.400e-01, 4.150e+02], dtype=float32), 1),\n",
       " (array([1.251e+01, 1.980e+00, 2.050e+01, 8.500e+01, 2.200e+00, 1.920e+00,\n",
       "         3.200e-01, 2.940e+00, 1.040e+00, 6.720e+02], dtype=float32), 1),\n",
       " (array([ 12.42,   2.27,  22.  ,  90.  ,   1.68,   1.84,   0.66,   2.7 ,\n",
       "           0.86, 315.  ], dtype=float32), 1),\n",
       " (array([1.225e+01, 2.120e+00, 1.900e+01, 8.000e+01, 1.650e+00, 2.030e+00,\n",
       "         3.700e-01, 3.400e+00, 1.000e+00, 5.100e+02], dtype=float32), 1),\n",
       " (array([1.272e+01, 2.280e+00, 2.250e+01, 8.400e+01, 1.380e+00, 1.760e+00,\n",
       "         4.800e-01, 3.300e+00, 8.800e-01, 4.880e+02], dtype=float32), 1),\n",
       " (array([ 12.22,   1.94,  19.  ,  92.  ,   2.36,   2.04,   0.39,   2.7 ,\n",
       "           0.86, 312.  ], dtype=float32), 1),\n",
       " (array([1.161e+01, 2.700e+00, 2.000e+01, 9.400e+01, 2.740e+00, 2.920e+00,\n",
       "         2.900e-01, 2.650e+00, 9.600e-01, 6.800e+02], dtype=float32), 1),\n",
       " (array([1.146e+01, 1.820e+00, 1.950e+01, 1.070e+02, 3.180e+00, 2.580e+00,\n",
       "         2.400e-01, 2.900e+00, 7.500e-01, 5.620e+02], dtype=float32), 1),\n",
       " (array([1.252e+01, 2.170e+00, 2.100e+01, 8.800e+01, 2.550e+00, 2.270e+00,\n",
       "         2.600e-01, 2.000e+00, 9.000e-01, 3.250e+02], dtype=float32), 1),\n",
       " (array([1.176e+01, 2.920e+00, 2.000e+01, 1.030e+02, 1.750e+00, 2.030e+00,\n",
       "         6.000e-01, 3.800e+00, 1.230e+00, 6.070e+02], dtype=float32), 1),\n",
       " (array([1.141e+01, 2.500e+00, 2.100e+01, 8.800e+01, 2.480e+00, 2.010e+00,\n",
       "         4.200e-01, 3.080e+00, 1.100e+00, 4.340e+02], dtype=float32), 1),\n",
       " (array([ 12.08,   2.5 ,  22.5 ,  84.  ,   2.56,   2.29,   0.43,   2.9 ,\n",
       "           0.93, 385.  ], dtype=float32), 1),\n",
       " (array([ 11.03,   2.2 ,  21.5 ,  85.  ,   2.46,   2.17,   0.52,   1.9 ,\n",
       "           1.71, 407.  ], dtype=float32), 1),\n",
       " (array([1.182e+01, 1.990e+00, 2.080e+01, 8.600e+01, 1.980e+00, 1.600e+00,\n",
       "         3.000e-01, 1.950e+00, 9.500e-01, 4.950e+02], dtype=float32), 1),\n",
       " (array([1.242e+01, 2.190e+00, 2.250e+01, 1.080e+02, 2.000e+00, 2.090e+00,\n",
       "         3.400e-01, 2.060e+00, 1.060e+00, 3.450e+02], dtype=float32), 1),\n",
       " (array([ 12.77,   1.98,  16.  ,  80.  ,   1.63,   1.25,   0.43,   3.4 ,\n",
       "           0.7 , 372.  ], dtype=float32), 1),\n",
       " (array([1.20e+01, 2.00e+00, 1.90e+01, 8.70e+01, 2.00e+00, 1.64e+00,\n",
       "         3.70e-01, 1.28e+00, 9.30e-01, 5.64e+02], dtype=float32), 1),\n",
       " (array([1.145e+01, 2.420e+00, 2.000e+01, 9.600e+01, 2.900e+00, 2.790e+00,\n",
       "         3.200e-01, 3.250e+00, 8.000e-01, 6.250e+02], dtype=float32), 1),\n",
       " (array([ 11.56,   3.23,  28.5 , 119.  ,   3.18,   5.08,   0.47,   6.  ,\n",
       "           0.93, 465.  ], dtype=float32), 1),\n",
       " (array([ 12.42,   2.73,  26.5 , 102.  ,   2.2 ,   2.13,   0.43,   2.08,\n",
       "           0.92, 365.  ], dtype=float32), 1),\n",
       " (array([1.305e+01, 2.130e+00, 2.150e+01, 8.600e+01, 2.620e+00, 2.650e+00,\n",
       "         3.000e-01, 2.600e+00, 7.300e-01, 3.800e+02], dtype=float32), 1),\n",
       " (array([1.187e+01, 2.390e+00, 2.100e+01, 8.200e+01, 2.860e+00, 3.030e+00,\n",
       "         2.100e-01, 2.800e+00, 7.500e-01, 3.800e+02], dtype=float32), 1),\n",
       " (array([1.207e+01, 2.170e+00, 2.100e+01, 8.500e+01, 2.600e+00, 2.650e+00,\n",
       "         3.700e-01, 2.760e+00, 8.600e-01, 3.780e+02], dtype=float32), 1),\n",
       " (array([ 12.43,   2.29,  21.5 ,  86.  ,   2.74,   3.15,   0.39,   3.94,\n",
       "           0.69, 352.  ], dtype=float32), 1),\n",
       " (array([ 11.79,   2.78,  28.5 ,  92.  ,   2.13,   2.24,   0.58,   3.  ,\n",
       "           0.97, 466.  ], dtype=float32), 1),\n",
       " (array([ 12.37,   2.3 ,  24.5 ,  88.  ,   2.22,   2.45,   0.4 ,   2.12,\n",
       "           0.89, 342.  ], dtype=float32), 1),\n",
       " (array([1.204e+01, 2.380e+00, 2.200e+01, 8.000e+01, 2.100e+00, 1.750e+00,\n",
       "         4.200e-01, 2.600e+00, 7.900e-01, 5.800e+02], dtype=float32), 1),\n",
       " (array([1.286e+01, 2.320e+00, 1.800e+01, 1.220e+02, 1.510e+00, 1.250e+00,\n",
       "         2.100e-01, 4.100e+00, 7.600e-01, 6.300e+02], dtype=float32), 2),\n",
       " (array([1.288e+01, 2.400e+00, 2.000e+01, 1.040e+02, 1.300e+00, 1.220e+00,\n",
       "         2.400e-01, 5.400e+00, 7.400e-01, 5.300e+02], dtype=float32), 2),\n",
       " (array([1.281e+01, 2.400e+00, 2.400e+01, 9.800e+01, 1.150e+00, 1.090e+00,\n",
       "         2.700e-01, 5.700e+00, 6.600e-01, 5.600e+02], dtype=float32), 2),\n",
       " (array([1.27e+01, 2.36e+00, 2.15e+01, 1.06e+02, 1.70e+00, 1.20e+00,\n",
       "         1.70e-01, 5.00e+00, 7.80e-01, 6.00e+02], dtype=float32), 2),\n",
       " (array([1.251e+01, 2.250e+00, 1.750e+01, 8.500e+01, 2.000e+00, 5.800e-01,\n",
       "         6.000e-01, 5.450e+00, 7.500e-01, 6.500e+02], dtype=float32), 2),\n",
       " (array([1.26e+01, 2.20e+00, 1.85e+01, 9.40e+01, 1.62e+00, 6.60e-01,\n",
       "         6.30e-01, 7.10e+00, 7.30e-01, 6.95e+02], dtype=float32), 2),\n",
       " (array([1.225e+01, 2.540e+00, 2.100e+01, 8.900e+01, 1.380e+00, 4.700e-01,\n",
       "         5.300e-01, 3.850e+00, 7.500e-01, 7.200e+02], dtype=float32), 2),\n",
       " (array([ 12.53,   2.64,  25.  ,  96.  ,   1.79,   0.6 ,   0.63,   5.  ,\n",
       "           0.82, 515.  ], dtype=float32), 2),\n",
       " (array([1.349e+01, 2.190e+00, 1.950e+01, 8.800e+01, 1.620e+00, 4.800e-01,\n",
       "         5.800e-01, 5.700e+00, 8.100e-01, 5.800e+02], dtype=float32), 2),\n",
       " (array([1.284e+01, 2.610e+00, 2.400e+01, 1.010e+02, 2.320e+00, 6.000e-01,\n",
       "         5.300e-01, 4.920e+00, 8.900e-01, 5.900e+02], dtype=float32), 2),\n",
       " (array([1.293e+01, 2.700e+00, 2.100e+01, 9.600e+01, 1.540e+00, 5.000e-01,\n",
       "         5.300e-01, 4.600e+00, 7.700e-01, 6.000e+02], dtype=float32), 2),\n",
       " (array([1.336e+01, 2.350e+00, 2.000e+01, 8.900e+01, 1.400e+00, 5.000e-01,\n",
       "         3.700e-01, 5.600e+00, 7.000e-01, 7.800e+02], dtype=float32), 2),\n",
       " (array([1.352e+01, 2.720e+00, 2.350e+01, 9.700e+01, 1.550e+00, 5.200e-01,\n",
       "         5.000e-01, 4.350e+00, 8.900e-01, 5.200e+02], dtype=float32), 2),\n",
       " (array([1.362e+01, 2.350e+00, 2.000e+01, 9.200e+01, 2.000e+00, 8.000e-01,\n",
       "         4.700e-01, 4.400e+00, 9.100e-01, 5.500e+02], dtype=float32), 2),\n",
       " (array([1.225e+01, 2.200e+00, 1.850e+01, 1.120e+02, 1.380e+00, 7.800e-01,\n",
       "         2.900e-01, 8.210e+00, 6.500e-01, 8.550e+02], dtype=float32), 2),\n",
       " (array([1.316e+01, 2.150e+00, 2.100e+01, 1.020e+02, 1.500e+00, 5.500e-01,\n",
       "         4.300e-01, 4.000e+00, 6.000e-01, 8.300e+02], dtype=float32), 2),\n",
       " (array([1.388e+01, 2.230e+00, 2.000e+01, 8.000e+01, 9.800e-01, 3.400e-01,\n",
       "         4.000e-01, 4.900e+00, 5.800e-01, 4.150e+02], dtype=float32), 2),\n",
       " (array([1.287e+01, 2.480e+00, 2.150e+01, 8.600e+01, 1.700e+00, 6.500e-01,\n",
       "         4.700e-01, 7.650e+00, 5.400e-01, 6.250e+02], dtype=float32), 2),\n",
       " (array([1.332e+01, 2.380e+00, 2.150e+01, 9.200e+01, 1.930e+00, 7.600e-01,\n",
       "         4.500e-01, 8.420e+00, 5.500e-01, 6.500e+02], dtype=float32), 2),\n",
       " (array([1.308e+01, 2.360e+00, 2.150e+01, 1.130e+02, 1.410e+00, 1.390e+00,\n",
       "         3.400e-01, 9.400e+00, 5.700e-01, 5.500e+02], dtype=float32), 2),\n",
       " (array([1.35e+01, 2.62e+00, 2.40e+01, 1.23e+02, 1.40e+00, 1.57e+00,\n",
       "         2.20e-01, 8.60e+00, 5.90e-01, 5.00e+02], dtype=float32), 2),\n",
       " (array([1.279e+01, 2.480e+00, 2.200e+01, 1.120e+02, 1.480e+00, 1.360e+00,\n",
       "         2.400e-01, 1.080e+01, 4.800e-01, 4.800e+02], dtype=float32), 2),\n",
       " (array([1.311e+01, 2.750e+00, 2.550e+01, 1.160e+02, 2.200e+00, 1.280e+00,\n",
       "         2.600e-01, 7.100e+00, 6.100e-01, 4.250e+02], dtype=float32), 2),\n",
       " (array([1.323e+01, 2.280e+00, 1.850e+01, 9.800e+01, 1.800e+00, 8.300e-01,\n",
       "         6.100e-01, 1.052e+01, 5.600e-01, 6.750e+02], dtype=float32), 2),\n",
       " (array([1.258e+01, 2.100e+00, 2.000e+01, 1.030e+02, 1.480e+00, 5.800e-01,\n",
       "         5.300e-01, 7.600e+00, 5.800e-01, 6.400e+02], dtype=float32), 2),\n",
       " (array([1.317e+01, 2.320e+00, 2.200e+01, 9.300e+01, 1.740e+00, 6.300e-01,\n",
       "         6.100e-01, 7.900e+00, 6.000e-01, 7.250e+02], dtype=float32), 2),\n",
       " (array([ 13.84,   2.38,  19.5 ,  89.  ,   1.8 ,   0.83,   0.48,   9.01,\n",
       "           0.57, 480.  ], dtype=float32), 2),\n",
       " (array([1.245e+01, 2.640e+00, 2.700e+01, 9.700e+01, 1.900e+00, 5.800e-01,\n",
       "         6.300e-01, 7.500e+00, 6.700e-01, 8.800e+02], dtype=float32), 2),\n",
       " (array([1.434e+01, 2.700e+00, 2.500e+01, 9.800e+01, 2.800e+00, 1.310e+00,\n",
       "         5.300e-01, 1.300e+01, 5.700e-01, 6.600e+02], dtype=float32), 2),\n",
       " (array([1.348e+01, 2.640e+00, 2.250e+01, 8.900e+01, 2.600e+00, 1.100e+00,\n",
       "         5.200e-01, 1.175e+01, 5.700e-01, 6.200e+02], dtype=float32), 2),\n",
       " (array([1.236e+01, 2.380e+00, 2.100e+01, 8.800e+01, 2.300e+00, 9.200e-01,\n",
       "         5.000e-01, 7.650e+00, 5.600e-01, 5.200e+02], dtype=float32), 2),\n",
       " (array([1.369e+01, 2.540e+00, 2.000e+01, 1.070e+02, 1.830e+00, 5.600e-01,\n",
       "         5.000e-01, 5.880e+00, 9.600e-01, 6.800e+02], dtype=float32), 2),\n",
       " (array([ 12.85,   2.58,  22.  , 106.  ,   1.65,   0.6 ,   0.6 ,   5.58,\n",
       "           0.87, 570.  ], dtype=float32), 2),\n",
       " (array([1.296e+01, 2.350e+00, 1.850e+01, 1.060e+02, 1.390e+00, 7.000e-01,\n",
       "         4.000e-01, 5.280e+00, 6.800e-01, 6.750e+02], dtype=float32), 2),\n",
       " (array([1.378e+01, 2.300e+00, 2.200e+01, 9.000e+01, 1.350e+00, 6.800e-01,\n",
       "         4.100e-01, 9.580e+00, 7.000e-01, 6.150e+02], dtype=float32), 2),\n",
       " (array([1.373e+01, 2.260e+00, 2.250e+01, 8.800e+01, 1.280e+00, 4.700e-01,\n",
       "         5.200e-01, 6.620e+00, 7.800e-01, 5.200e+02], dtype=float32), 2),\n",
       " (array([1.345e+01, 2.600e+00, 2.300e+01, 1.110e+02, 1.700e+00, 9.200e-01,\n",
       "         4.300e-01, 1.068e+01, 8.500e-01, 6.950e+02], dtype=float32), 2),\n",
       " (array([1.282e+01, 2.300e+00, 1.950e+01, 8.800e+01, 1.480e+00, 6.600e-01,\n",
       "         4.000e-01, 1.026e+01, 7.200e-01, 6.850e+02], dtype=float32), 2),\n",
       " (array([1.358e+01, 2.690e+00, 2.450e+01, 1.050e+02, 1.550e+00, 8.400e-01,\n",
       "         3.900e-01, 8.660e+00, 7.400e-01, 7.500e+02], dtype=float32), 2),\n",
       " (array([1.34e+01, 2.86e+00, 2.50e+01, 1.12e+02, 1.98e+00, 9.60e-01,\n",
       "         2.70e-01, 8.50e+00, 6.70e-01, 6.30e+02], dtype=float32), 2),\n",
       " (array([1.22e+01, 2.32e+00, 1.90e+01, 9.60e+01, 1.25e+00, 4.90e-01,\n",
       "         4.00e-01, 5.50e+00, 6.60e-01, 5.10e+02], dtype=float32), 2),\n",
       " (array([ 12.77    ,   2.28    ,  19.5     ,  86.      ,   1.39    ,\n",
       "           0.51    ,   0.48    ,   9.899999,   0.57    , 470.      ],\n",
       "        dtype=float32), 2),\n",
       " (array([1.416e+01, 2.480e+00, 2.000e+01, 9.100e+01, 1.680e+00, 7.000e-01,\n",
       "         4.400e-01, 9.700e+00, 6.200e-01, 6.600e+02], dtype=float32), 2),\n",
       " (array([1.371e+01, 2.450e+00, 2.050e+01, 9.500e+01, 1.680e+00, 6.100e-01,\n",
       "         5.200e-01, 7.700e+00, 6.400e-01, 7.400e+02], dtype=float32), 2),\n",
       " (array([1.34e+01, 2.48e+00, 2.30e+01, 1.02e+02, 1.80e+00, 7.50e-01,\n",
       "         4.30e-01, 7.30e+00, 7.00e-01, 7.50e+02], dtype=float32), 2),\n",
       " (array([1.327e+01, 2.260e+00, 2.000e+01, 1.200e+02, 1.590e+00, 6.900e-01,\n",
       "         4.300e-01, 1.020e+01, 5.900e-01, 8.350e+02], dtype=float32), 2),\n",
       " (array([1.317e+01, 2.370e+00, 2.000e+01, 1.200e+02, 1.650e+00, 6.800e-01,\n",
       "         5.300e-01, 9.300e+00, 6.000e-01, 8.400e+02], dtype=float32), 2),\n",
       " (array([ 14.13,   2.74,  24.5 ,  96.  ,   2.05,   0.76,   0.56,   9.2 ,\n",
       "           0.61, 560.  ], dtype=float32), 2)]"
      ]
     },
     "execution_count": 24,
     "metadata": {},
     "output_type": "execute_result"
    }
   ],
   "source": [
    "dateset"
   ]
  },
  {
   "cell_type": "markdown",
   "metadata": {},
   "source": [
    "## 訓練データと検証データに分割\n",
    "Chainer内のものを使用する。"
   ]
  },
  {
   "cell_type": "code",
   "execution_count": 25,
   "metadata": {},
   "outputs": [],
   "source": [
    "import chainer"
   ]
  },
  {
   "cell_type": "code",
   "execution_count": 26,
   "metadata": {},
   "outputs": [
    {
     "data": {
      "text/plain": [
       "178"
      ]
     },
     "execution_count": 26,
     "metadata": {},
     "output_type": "execute_result"
    }
   ],
   "source": [
    "# 全体サイズ\n",
    "len(dateset)"
   ]
  },
  {
   "cell_type": "code",
   "execution_count": 27,
   "metadata": {},
   "outputs": [
    {
     "data": {
      "text/plain": [
       "124"
      ]
     },
     "execution_count": 27,
     "metadata": {},
     "output_type": "execute_result"
    }
   ],
   "source": [
    "# 学習データを7割にする。\n",
    "n_train = int(len(dateset)*0.7)\n",
    "n_train"
   ]
  },
  {
   "cell_type": "code",
   "execution_count": 28,
   "metadata": {},
   "outputs": [],
   "source": [
    "# 今回のデータは整列されて格納されているため、『random』で分割することが重要である。\n",
    "train, test = chainer.datasets.split_dataset_random(dateset, n_train, seed=1)  # シードを指定するのを忘れないようにする。"
   ]
  },
  {
   "cell_type": "code",
   "execution_count": 29,
   "metadata": {},
   "outputs": [
    {
     "data": {
      "text/plain": [
       "124"
      ]
     },
     "execution_count": 29,
     "metadata": {},
     "output_type": "execute_result"
    }
   ],
   "source": [
    "len(train)"
   ]
  },
  {
   "cell_type": "code",
   "execution_count": 30,
   "metadata": {},
   "outputs": [
    {
     "data": {
      "text/plain": [
       "54"
      ]
     },
     "execution_count": 30,
     "metadata": {},
     "output_type": "execute_result"
    }
   ],
   "source": [
    "len(test)"
   ]
  },
  {
   "cell_type": "markdown",
   "metadata": {},
   "source": [
    "## 学習するための設定\n",
    "  \n",
    "  \n",
    "#### Optimizerの設定\n",
    "\n",
    "重みを最適化するアルゴリズムを選択する部分  \n",
    "今回は、『確率的勾配降下法』を利用する。"
   ]
  },
  {
   "cell_type": "code",
   "execution_count": 31,
   "metadata": {},
   "outputs": [],
   "source": [
    "optimizer = chainer.optimizers.SGD()  # 確率的勾配降下法"
   ]
  },
  {
   "cell_type": "code",
   "execution_count": 32,
   "metadata": {},
   "outputs": [
    {
     "data": {
      "text/plain": [
       "<chainer.optimizers.sgd.SGD at 0x9feb630>"
      ]
     },
     "execution_count": 32,
     "metadata": {},
     "output_type": "execute_result"
    }
   ],
   "source": [
    "optimizer.setup(model)"
   ]
  },
  {
   "cell_type": "markdown",
   "metadata": {},
   "source": [
    "#### Iteratorの設定\n",
    "バッチサイズが重要になる  \n",
    "  \n",
    "- ミニバッチ学習  \n",
    "データが100万有ると仮定した場合、  \n",
    "『batchsize』を100に設定することで、  \n",
    "『1epoch』（全データを１回使って学習）で  \n",
    "『iteration』（パラメータの更新）が10000回  になる。\n",
    "  \n"
   ]
  },
  {
   "cell_type": "code",
   "execution_count": 33,
   "metadata": {},
   "outputs": [],
   "source": [
    "# データに応じてサイズを決定\n",
    "batchsize = 10"
   ]
  },
  {
   "cell_type": "code",
   "execution_count": 34,
   "metadata": {},
   "outputs": [],
   "source": [
    "# 学習とテスト用のIteratorを設定する。\n",
    "train_iter = chainer.iterators.SerialIterator(train, batchsize)\n",
    "# テストの設定をする。\n",
    "test_iter = chainer.iterators.SerialIterator(test, batchsize, repeat=False, shuffle=False)"
   ]
  },
  {
   "cell_type": "markdown",
   "metadata": {},
   "source": [
    "## Updaterの設定\n",
    "引数の『device』で使用するデバイスを設定する。\n",
    "- CPU: -1\n",
    "- GPU: 0～\n",
    "\n",
    "※GPUは使用する準備を行ってから設定しなければならない。  \n",
    "　GPU時の指定は、数字で使用するGPUの番号を指定する。"
   ]
  },
  {
   "cell_type": "code",
   "execution_count": 35,
   "metadata": {},
   "outputs": [],
   "source": [
    "from chainer import training"
   ]
  },
  {
   "cell_type": "code",
   "execution_count": 36,
   "metadata": {},
   "outputs": [],
   "source": [
    "updater = training.StandardUpdater(train_iter, optimizer, device=-1)"
   ]
  },
  {
   "cell_type": "markdown",
   "metadata": {},
   "source": [
    "## TrainerとExtensionsの設定\n",
    "\n"
   ]
  },
  {
   "cell_type": "code",
   "execution_count": 37,
   "metadata": {},
   "outputs": [],
   "source": [
    "from chainer.training import extensions"
   ]
  },
  {
   "cell_type": "code",
   "execution_count": 38,
   "metadata": {},
   "outputs": [],
   "source": [
    "# epochの数\n",
    "epoch = 50"
   ]
  },
  {
   "cell_type": "code",
   "execution_count": 39,
   "metadata": {},
   "outputs": [],
   "source": [
    "# Trainerの宣言\n",
    "# outは『Classifier』を利用している際に、出力されるログを保存するパスを記載する。\n",
    "trainer = training.Trainer(updater, (epoch, 'epoch'), out='result/wine')"
   ]
  },
  {
   "cell_type": "code",
   "execution_count": 40,
   "metadata": {},
   "outputs": [],
   "source": [
    "# 検証データで評価\n",
    "trainer.extend(extensions.Evaluator(test_iter, model, device=-1))  # ここでも『device』の設定が必要\n",
    "\n",
    "trainer.extend(extensions.LogReport(trigger=(1, 'epoch')))  # ログ出力の頻度は１エポックごとに出力\n",
    "\n"
   ]
  },
  {
   "cell_type": "markdown",
   "metadata": {},
   "source": [
    "1エポックごと（trigger）に\n",
    "- trainデータに対するloss\n",
    "- testデータに対するloss\n",
    "- testデータに対するaccuracy（どれだけ正解したか？）\n",
    "- 経過時間の出力\n",
    "  \n",
    "    "
   ]
  },
  {
   "cell_type": "code",
   "execution_count": 41,
   "metadata": {},
   "outputs": [],
   "source": [
    "trainer.extend(extensions.PrintReport(['epoch', 'main/accuracy', 'validation/main/accuracy', 'main/loss', 'validation/main/loss', 'elapsed_time']), trigger=(1, 'epoch'))"
   ]
  },
  {
   "cell_type": "markdown",
   "metadata": {},
   "source": [
    "# 設定の完了"
   ]
  },
  {
   "cell_type": "markdown",
   "metadata": {},
   "source": [
    "# 学習の実行"
   ]
  },
  {
   "cell_type": "code",
   "execution_count": 42,
   "metadata": {},
   "outputs": [
    {
     "name": "stdout",
     "output_type": "stream",
     "text": [
      "epoch       main/accuracy  validation/main/accuracy  main/loss   validation/main/loss  elapsed_time\n",
      "1           0.392308       0.341667                  72.689      1.09851               0.0282038     \n",
      "2           0.416667       0.341667                  1.09599     1.09857               0.0508741     \n",
      "3           0.430769       0.341667                  1.09368     1.09868               0.0741135     \n",
      "4           0.416667       0.341667                  1.09254     1.09885               0.0952662     \n",
      "5           0.408333       0.341667                  1.09244     1.09902               0.118455      \n",
      "6           0.407692       0.341667                  1.09246     1.0992                0.142554      \n",
      "7           0.441667       0.341667                  1.08667     1.09956               0.164296      \n",
      "8           0.407692       0.341667                  1.0896      1.09985               0.188189      \n",
      "9           0.425          0.341667                  1.08773     1.10014               0.209952      \n",
      "10          0.416667       0.341667                  1.08633     1.1005                0.233755      \n",
      "11          0.415385       0.341667                  1.08618     1.10089               0.258886      \n",
      "12          0.425          0.341667                  1.08545     1.10122               0.281567      \n",
      "13          0.423077       0.341667                  1.08488     1.10161               0.305312      \n",
      "14          0.4            0.341667                  1.08548     1.10197               0.328389      \n",
      "15          0.433333       0.341667                  1.08207     1.10239               0.352116      \n",
      "16          0.430769       0.341667                  1.08116     1.10288               0.376675      \n",
      "17          0.416667       0.341667                  1.08296     1.10326               0.401308      \n",
      "18          0.407692       0.341667                  1.08328     1.10366               0.426295      \n",
      "19          0.408333       0.341667                  1.0845      1.10395               0.448948      \n",
      "20          0.433333       0.341667                  1.0795      1.1044                0.472588      \n",
      "21          0.415385       0.341667                  1.08107     1.10483               0.497369      \n",
      "22          0.425          0.341667                  1.08114     1.10518               0.521643      \n",
      "23          0.4            0.341667                  1.08559     1.10539               0.545823      \n",
      "24          0.45           0.341667                  1.07272     1.10603               0.569867      \n",
      "25          0.408333       0.341667                  1.08198     1.10634               0.592527      \n",
      "26          0.423077       0.341667                  1.0798      1.10673               0.619051      \n",
      "27          0.416667       0.341667                  1.07866     1.10713               0.642561      \n",
      "28          0.430769       0.341667                  1.07667     1.10762               0.668103      \n",
      "29          0.408333       0.341667                  1.08411     1.10776               0.692768      \n",
      "30          0.416667       0.341667                  1.07815     1.10814               0.717776      \n",
      "31          0.430769       0.341667                  1.07626     1.10861               0.74218       \n",
      "32          0.408333       0.341667                  1.08253     1.10879               0.767512      \n",
      "33          0.430769       0.341667                  1.07431     1.10931               0.792453      \n",
      "34          0.4            0.341667                  1.08396     1.10942               0.816683      \n",
      "35          0.425          0.341667                  1.07745     1.10976               0.840971      \n",
      "36          0.415385       0.341667                  1.07833     1.11007               0.867447      \n",
      "37          0.416667       0.341667                  1.08065     1.11025               0.891989      \n",
      "38          0.423077       0.341667                  1.07518     1.11069               0.917451      \n",
      "39          0.408333       0.341667                  1.08219     1.11081               0.9433        \n",
      "40          0.433333       0.341667                  1.07536     1.11117               0.969389      \n",
      "41          0.407692       0.341667                  1.08129     1.11131               0.993915      \n",
      "42          0.433333       0.341667                  1.07332     1.11173               1.0199        \n",
      "43          0.415385       0.341667                  1.08123     1.11183               1.04457       \n",
      "44          0.416667       0.341667                  1.07846     1.11203               1.06975       \n",
      "45          0.425          0.341667                  1.07501     1.11235               1.09335       \n",
      "46          0.423077       0.341667                  1.07634     1.11264               1.12036       \n",
      "47          0.425          0.341667                  1.07637     1.11289               1.14417       \n",
      "48          0.415385       0.341667                  1.07769     1.11311               1.17166       \n",
      "49          0.425          0.341667                  1.07653     1.11335               1.19566       \n",
      "50          0.408333       0.341667                  1.08187     1.11337               1.22099       \n"
     ]
    }
   ],
   "source": [
    "trainer.run()"
   ]
  },
  {
   "cell_type": "markdown",
   "metadata": {},
   "source": [
    "訓練データに対しては40％近くになっている  \n",
    "テストデータに対しては30％程  \n",
    "→上手くいってない。"
   ]
  },
  {
   "cell_type": "markdown",
   "metadata": {},
   "source": [
    "## 実行結果を確認する\n",
    "出力したログファイルを読み込む"
   ]
  },
  {
   "cell_type": "code",
   "execution_count": 43,
   "metadata": {},
   "outputs": [],
   "source": [
    "import json"
   ]
  },
  {
   "cell_type": "code",
   "execution_count": 44,
   "metadata": {},
   "outputs": [],
   "source": [
    "with open('result/wine/log') as f:\n",
    "    logs = json.load(f)"
   ]
  },
  {
   "cell_type": "code",
   "execution_count": 45,
   "metadata": {},
   "outputs": [
    {
     "data": {
      "text/plain": [
       "{'main/loss': 72.68901051924779,\n",
       " 'main/accuracy': 0.39230769643416774,\n",
       " 'validation/main/loss': 1.0985065698623657,\n",
       " 'validation/main/accuracy': 0.34166667113701504,\n",
       " 'epoch': 1,\n",
       " 'iteration': 13,\n",
       " 'elapsed_time': 0.02820381999999455}"
      ]
     },
     "execution_count": 45,
     "metadata": {},
     "output_type": "execute_result"
    }
   ],
   "source": [
    "# 辞書型のリストになっている。\n",
    "logs[0]"
   ]
  },
  {
   "cell_type": "code",
   "execution_count": 46,
   "metadata": {},
   "outputs": [
    {
     "data": {
      "text/plain": [
       "0.39230769643416774"
      ]
     },
     "execution_count": 46,
     "metadata": {},
     "output_type": "execute_result"
    }
   ],
   "source": [
    "# 辞書型なので、以下のようにアクセスできる\n",
    "logs[0]['main/accuracy']"
   ]
  },
  {
   "cell_type": "markdown",
   "metadata": {},
   "source": [
    "辞書型のリストは扱いにくいので、Pandasを利用する。"
   ]
  },
  {
   "cell_type": "code",
   "execution_count": 47,
   "metadata": {},
   "outputs": [],
   "source": [
    "results = pd.DataFrame(logs)"
   ]
  },
  {
   "cell_type": "code",
   "execution_count": 48,
   "metadata": {},
   "outputs": [
    {
     "data": {
      "text/html": [
       "<div>\n",
       "<style scoped>\n",
       "    .dataframe tbody tr th:only-of-type {\n",
       "        vertical-align: middle;\n",
       "    }\n",
       "\n",
       "    .dataframe tbody tr th {\n",
       "        vertical-align: top;\n",
       "    }\n",
       "\n",
       "    .dataframe thead th {\n",
       "        text-align: right;\n",
       "    }\n",
       "</style>\n",
       "<table border=\"1\" class=\"dataframe\">\n",
       "  <thead>\n",
       "    <tr style=\"text-align: right;\">\n",
       "      <th></th>\n",
       "      <th>main/loss</th>\n",
       "      <th>main/accuracy</th>\n",
       "      <th>validation/main/loss</th>\n",
       "      <th>validation/main/accuracy</th>\n",
       "      <th>epoch</th>\n",
       "      <th>iteration</th>\n",
       "      <th>elapsed_time</th>\n",
       "    </tr>\n",
       "  </thead>\n",
       "  <tbody>\n",
       "    <tr>\n",
       "      <th>0</th>\n",
       "      <td>72.689011</td>\n",
       "      <td>0.392308</td>\n",
       "      <td>1.098507</td>\n",
       "      <td>0.341667</td>\n",
       "      <td>1</td>\n",
       "      <td>13</td>\n",
       "      <td>0.028204</td>\n",
       "    </tr>\n",
       "    <tr>\n",
       "      <th>1</th>\n",
       "      <td>1.095988</td>\n",
       "      <td>0.416667</td>\n",
       "      <td>1.098565</td>\n",
       "      <td>0.341667</td>\n",
       "      <td>2</td>\n",
       "      <td>25</td>\n",
       "      <td>0.050874</td>\n",
       "    </tr>\n",
       "    <tr>\n",
       "      <th>2</th>\n",
       "      <td>1.093678</td>\n",
       "      <td>0.430769</td>\n",
       "      <td>1.098679</td>\n",
       "      <td>0.341667</td>\n",
       "      <td>3</td>\n",
       "      <td>38</td>\n",
       "      <td>0.074114</td>\n",
       "    </tr>\n",
       "    <tr>\n",
       "      <th>3</th>\n",
       "      <td>1.092542</td>\n",
       "      <td>0.416667</td>\n",
       "      <td>1.098854</td>\n",
       "      <td>0.341667</td>\n",
       "      <td>4</td>\n",
       "      <td>50</td>\n",
       "      <td>0.095266</td>\n",
       "    </tr>\n",
       "    <tr>\n",
       "      <th>4</th>\n",
       "      <td>1.092435</td>\n",
       "      <td>0.408333</td>\n",
       "      <td>1.099025</td>\n",
       "      <td>0.341667</td>\n",
       "      <td>5</td>\n",
       "      <td>62</td>\n",
       "      <td>0.118455</td>\n",
       "    </tr>\n",
       "  </tbody>\n",
       "</table>\n",
       "</div>"
      ],
      "text/plain": [
       "   main/loss  main/accuracy  validation/main/loss  validation/main/accuracy  \\\n",
       "0  72.689011       0.392308              1.098507                  0.341667   \n",
       "1   1.095988       0.416667              1.098565                  0.341667   \n",
       "2   1.093678       0.430769              1.098679                  0.341667   \n",
       "3   1.092542       0.416667              1.098854                  0.341667   \n",
       "4   1.092435       0.408333              1.099025                  0.341667   \n",
       "\n",
       "   epoch  iteration  elapsed_time  \n",
       "0      1         13      0.028204  \n",
       "1      2         25      0.050874  \n",
       "2      3         38      0.074114  \n",
       "3      4         50      0.095266  \n",
       "4      5         62      0.118455  "
      ]
     },
     "execution_count": 48,
     "metadata": {},
     "output_type": "execute_result"
    }
   ],
   "source": [
    "results.head()"
   ]
  },
  {
   "cell_type": "markdown",
   "metadata": {},
   "source": [
    "### 精度の部分の学習の状況を表示する。"
   ]
  },
  {
   "cell_type": "code",
   "execution_count": 49,
   "metadata": {},
   "outputs": [
    {
     "data": {
      "text/html": [
       "<div>\n",
       "<style scoped>\n",
       "    .dataframe tbody tr th:only-of-type {\n",
       "        vertical-align: middle;\n",
       "    }\n",
       "\n",
       "    .dataframe tbody tr th {\n",
       "        vertical-align: top;\n",
       "    }\n",
       "\n",
       "    .dataframe thead th {\n",
       "        text-align: right;\n",
       "    }\n",
       "</style>\n",
       "<table border=\"1\" class=\"dataframe\">\n",
       "  <thead>\n",
       "    <tr style=\"text-align: right;\">\n",
       "      <th></th>\n",
       "      <th>main/accuracy</th>\n",
       "      <th>validation/main/accuracy</th>\n",
       "    </tr>\n",
       "  </thead>\n",
       "  <tbody>\n",
       "    <tr>\n",
       "      <th>0</th>\n",
       "      <td>0.392308</td>\n",
       "      <td>0.341667</td>\n",
       "    </tr>\n",
       "    <tr>\n",
       "      <th>1</th>\n",
       "      <td>0.416667</td>\n",
       "      <td>0.341667</td>\n",
       "    </tr>\n",
       "    <tr>\n",
       "      <th>2</th>\n",
       "      <td>0.430769</td>\n",
       "      <td>0.341667</td>\n",
       "    </tr>\n",
       "    <tr>\n",
       "      <th>3</th>\n",
       "      <td>0.416667</td>\n",
       "      <td>0.341667</td>\n",
       "    </tr>\n",
       "    <tr>\n",
       "      <th>4</th>\n",
       "      <td>0.408333</td>\n",
       "      <td>0.341667</td>\n",
       "    </tr>\n",
       "  </tbody>\n",
       "</table>\n",
       "</div>"
      ],
      "text/plain": [
       "   main/accuracy  validation/main/accuracy\n",
       "0       0.392308                  0.341667\n",
       "1       0.416667                  0.341667\n",
       "2       0.430769                  0.341667\n",
       "3       0.416667                  0.341667\n",
       "4       0.408333                  0.341667"
      ]
     },
     "execution_count": 49,
     "metadata": {},
     "output_type": "execute_result"
    }
   ],
   "source": [
    "results[['main/accuracy', 'validation/main/accuracy']].head()"
   ]
  },
  {
   "cell_type": "markdown",
   "metadata": {},
   "source": [
    "### 上記のデータを可視化する\n",
    "Pandas内で、matplotlibのグラフ描画を表示する事ができる。"
   ]
  },
  {
   "cell_type": "code",
   "execution_count": 50,
   "metadata": {},
   "outputs": [],
   "source": [
    "# NoteBook上でグラフを表示するために。\n",
    "%matplotlib inline"
   ]
  },
  {
   "cell_type": "code",
   "execution_count": 51,
   "metadata": {},
   "outputs": [
    {
     "data": {
      "text/plain": [
       "<matplotlib.axes._subplots.AxesSubplot at 0xa5f8198>"
      ]
     },
     "execution_count": 51,
     "metadata": {},
     "output_type": "execute_result"
    },
    {
     "data": {
      "image/png": "[encoded data removed]",
      "text/plain": [
       "<Figure size 432x288 with 1 Axes>"
      ]
     },
     "metadata": {
      "needs_background": "light"
     },
     "output_type": "display_data"
    }
   ],
   "source": [
    "# 凡例も表示してくれている。\n",
    "results[['main/accuracy', 'validation/main/accuracy']].plot()"
   ]
  },
  {
   "cell_type": "markdown",
   "metadata": {},
   "source": [
    "学習に関しても上がったり、下がったり、している  \n",
    "という事は、余り良い状態ではない。\n",
    "\n",
    "### loss（損失関数）についても表示してみる"
   ]
  },
  {
   "cell_type": "code",
   "execution_count": 52,
   "metadata": {
    "scrolled": false
   },
   "outputs": [
    {
     "data": {
      "text/plain": [
       "<matplotlib.axes._subplots.AxesSubplot at 0xa5f80b8>"
      ]
     },
     "execution_count": 52,
     "metadata": {},
     "output_type": "execute_result"
    },
    {
     "data": {
      "image/png": "[encoded data removed]",
      "text/plain": [
       "<Figure size 432x288 with 1 Axes>"
      ]
     },
     "metadata": {
      "needs_background": "light"
     },
     "output_type": "display_data"
    }
   ],
   "source": [
    "results[['main/loss', 'validation/main/loss']].plot()"
   ]
  },
  {
   "cell_type": "markdown",
   "metadata": {},
   "source": [
    "一応下がってるが、精度としては上手くいっていない。  \n",
    "実運用できる精度ではない。"
   ]
  },
  {
   "cell_type": "markdown",
   "metadata": {},
   "source": [
    "### 精度向上について\n",
    "今のモデルより、精度がいい物を作ろう！！  \n",
    "  \n",
    "精度を向上させる為のポイント  \n",
    "\n",
    "- 入力層の数を増やす\n",
    "- 中間層を増やす\n",
    "- optimizerの設定を変更する\n",
    "- エポックを増やす\n",
    "- 活性化関数の変更\n",
    "\n",
    "ハイパーパラメータを調整する"
   ]
  },
  {
   "cell_type": "markdown",
   "metadata": {},
   "source": [
    "# ニューラルネットワークのモデルを定義（改良版）"
   ]
  },
  {
   "cell_type": "code",
   "execution_count": 53,
   "metadata": {},
   "outputs": [],
   "source": [
    "import chainer.functions as F\n",
    "import chainer.links as L\n",
    "import chainer"
   ]
  },
  {
   "cell_type": "code",
   "execution_count": 87,
   "metadata": {},
   "outputs": [],
   "source": [
    "class NN(chainer.Chain):\n",
    "    \n",
    "    # モデルの構造\n",
    "    def __init__(self, n_mid_units1=100, n_mid_units2=80, n_mid_units3=50, n_out=3):  # 中間層と出力層のはインスタンス化時に、引数として受けとる。\n",
    "        super().__init__()\n",
    "        with self.init_scope():\n",
    "            self.fc1 = L.Linear(None, n_mid_units1)  # Chainerは入力層を『None』にすると、自動で認識してくれる。\n",
    "            self.fc2 = L.Linear(None, n_mid_units2)\n",
    "            self.fc3 = L.Linear(None, n_mid_units3)\n",
    "            self.fc4 = L.Linear(None, n_out)\n",
    "            \n",
    "    # 順伝播\n",
    "    def __call__(self, x):\n",
    "        h = self.fc1(x)  # 変数の確保を１つにする。\n",
    "        h = F.relu(h)\n",
    "        h = self.fc2(h)\n",
    "        h = F.relu(h)\n",
    "        h = self.fc3(h)\n",
    "        h = F.relu(h)\n",
    "        h = self.fc4(h)\n",
    "        return h"
   ]
  },
  {
   "cell_type": "markdown",
   "metadata": {},
   "source": [
    "## インスタンス化\n",
    "\n",
    "シードの固定を忘れないようにする。"
   ]
  },
  {
   "cell_type": "code",
   "execution_count": 88,
   "metadata": {},
   "outputs": [],
   "source": [
    "import numpy as np"
   ]
  },
  {
   "cell_type": "code",
   "execution_count": 89,
   "metadata": {},
   "outputs": [],
   "source": [
    "np.random.seed(3)\n",
    "nn = NN()  # 引数は省略可能"
   ]
  },
  {
   "cell_type": "markdown",
   "metadata": {},
   "source": [
    "モデルの学習方法等を管理するための、『Classifier』を利用する。"
   ]
  },
  {
   "cell_type": "code",
   "execution_count": 90,
   "metadata": {},
   "outputs": [],
   "source": [
    "model = L.Classifier(nn)"
   ]
  },
  {
   "cell_type": "markdown",
   "metadata": {},
   "source": [
    "## データセットの作成\n",
    "Chainerで推奨されている形式に変換する必要がある。\n",
    "\n",
    "データをタプルでかこう必要がある。\"zip()\"でできる。\n",
    "\n",
    "そのデータをリストにする。"
   ]
  },
  {
   "cell_type": "code",
   "execution_count": 91,
   "metadata": {},
   "outputs": [],
   "source": [
    "dateset = list(zip(x, t))"
   ]
  },
  {
   "cell_type": "code",
   "execution_count": 92,
   "metadata": {},
   "outputs": [
    {
     "data": {
      "text/plain": [
       "[(array([1.423e+01, 2.430e+00, 1.560e+01, 1.270e+02, 2.800e+00, 3.060e+00,\n",
       "         2.800e-01, 5.640e+00, 1.040e+00, 1.065e+03], dtype=float32), 0),\n",
       " (array([1.32e+01, 2.14e+00, 1.12e+01, 1.00e+02, 2.65e+00, 2.76e+00,\n",
       "         2.60e-01, 4.38e+00, 1.05e+00, 1.05e+03], dtype=float32), 0),\n",
       " (array([1.316e+01, 2.670e+00, 1.860e+01, 1.010e+02, 2.800e+00, 3.240e+00,\n",
       "         3.000e-01, 5.680e+00, 1.030e+00, 1.185e+03], dtype=float32), 0),\n",
       " (array([1.437e+01, 2.500e+00, 1.680e+01, 1.130e+02, 3.850e+00, 3.490e+00,\n",
       "         2.400e-01, 7.800e+00, 8.600e-01, 1.480e+03], dtype=float32), 0),\n",
       " (array([1.324e+01, 2.870e+00, 2.100e+01, 1.180e+02, 2.800e+00, 2.690e+00,\n",
       "         3.900e-01, 4.320e+00, 1.040e+00, 7.350e+02], dtype=float32), 0),\n",
       " (array([1.42e+01, 2.45e+00, 1.52e+01, 1.12e+02, 3.27e+00, 3.39e+00,\n",
       "         3.40e-01, 6.75e+00, 1.05e+00, 1.45e+03], dtype=float32), 0),\n",
       " (array([1.439e+01, 2.450e+00, 1.460e+01, 9.600e+01, 2.500e+00, 2.520e+00,\n",
       "         3.000e-01, 5.250e+00, 1.020e+00, 1.290e+03], dtype=float32), 0),\n",
       " (array([1.406e+01, 2.610e+00, 1.760e+01, 1.210e+02, 2.600e+00, 2.510e+00,\n",
       "         3.100e-01, 5.050e+00, 1.060e+00, 1.295e+03], dtype=float32), 0),\n",
       " (array([1.483e+01, 2.170e+00, 1.400e+01, 9.700e+01, 2.800e+00, 2.980e+00,\n",
       "         2.900e-01, 5.200e+00, 1.080e+00, 1.045e+03], dtype=float32), 0),\n",
       " (array([1.386e+01, 2.270e+00, 1.600e+01, 9.800e+01, 2.980e+00, 3.150e+00,\n",
       "         2.200e-01, 7.220e+00, 1.010e+00, 1.045e+03], dtype=float32), 0),\n",
       " (array([1.41e+01, 2.30e+00, 1.80e+01, 1.05e+02, 2.95e+00, 3.32e+00,\n",
       "         2.20e-01, 5.75e+00, 1.25e+00, 1.51e+03], dtype=float32), 0),\n",
       " (array([1.412e+01, 2.320e+00, 1.680e+01, 9.500e+01, 2.200e+00, 2.430e+00,\n",
       "         2.600e-01, 5.000e+00, 1.170e+00, 1.280e+03], dtype=float32), 0),\n",
       " (array([1.375e+01, 2.410e+00, 1.600e+01, 8.900e+01, 2.600e+00, 2.760e+00,\n",
       "         2.900e-01, 5.600e+00, 1.150e+00, 1.320e+03], dtype=float32), 0),\n",
       " (array([1.475e+01, 2.390e+00, 1.140e+01, 9.100e+01, 3.100e+00, 3.690e+00,\n",
       "         4.300e-01, 5.400e+00, 1.250e+00, 1.150e+03], dtype=float32), 0),\n",
       " (array([1.438e+01, 2.380e+00, 1.200e+01, 1.020e+02, 3.300e+00, 3.640e+00,\n",
       "         2.900e-01, 7.500e+00, 1.200e+00, 1.547e+03], dtype=float32), 0),\n",
       " (array([1.363e+01, 2.700e+00, 1.720e+01, 1.120e+02, 2.850e+00, 2.910e+00,\n",
       "         3.000e-01, 7.300e+00, 1.280e+00, 1.310e+03], dtype=float32), 0),\n",
       " (array([1.43e+01, 2.72e+00, 2.00e+01, 1.20e+02, 2.80e+00, 3.14e+00,\n",
       "         3.30e-01, 6.20e+00, 1.07e+00, 1.28e+03], dtype=float32), 0),\n",
       " (array([1.383e+01, 2.620e+00, 2.000e+01, 1.150e+02, 2.950e+00, 3.400e+00,\n",
       "         4.000e-01, 6.600e+00, 1.130e+00, 1.130e+03], dtype=float32), 0),\n",
       " (array([1.419e+01, 2.480e+00, 1.650e+01, 1.080e+02, 3.300e+00, 3.930e+00,\n",
       "         3.200e-01, 8.700e+00, 1.230e+00, 1.680e+03], dtype=float32), 0),\n",
       " (array([1.364e+01, 2.560e+00, 1.520e+01, 1.160e+02, 2.700e+00, 3.030e+00,\n",
       "         1.700e-01, 5.100e+00, 9.600e-01, 8.450e+02], dtype=float32), 0),\n",
       " (array([1.406e+01, 2.280e+00, 1.600e+01, 1.260e+02, 3.000e+00, 3.170e+00,\n",
       "         2.400e-01, 5.650e+00, 1.090e+00, 7.800e+02], dtype=float32), 0),\n",
       " (array([1.293e+01, 2.650e+00, 1.860e+01, 1.020e+02, 2.410e+00, 2.410e+00,\n",
       "         2.500e-01, 4.500e+00, 1.030e+00, 7.700e+02], dtype=float32), 0),\n",
       " (array([1.371e+01, 2.360e+00, 1.660e+01, 1.010e+02, 2.610e+00, 2.880e+00,\n",
       "         2.700e-01, 3.800e+00, 1.110e+00, 1.035e+03], dtype=float32), 0),\n",
       " (array([1.285e+01, 2.520e+00, 1.780e+01, 9.500e+01, 2.480e+00, 2.370e+00,\n",
       "         2.600e-01, 3.930e+00, 1.090e+00, 1.015e+03], dtype=float32), 0),\n",
       " (array([1.35e+01, 2.61e+00, 2.00e+01, 9.60e+01, 2.53e+00, 2.61e+00,\n",
       "         2.80e-01, 3.52e+00, 1.12e+00, 8.45e+02], dtype=float32), 0),\n",
       " (array([1.305e+01, 3.220e+00, 2.500e+01, 1.240e+02, 2.630e+00, 2.680e+00,\n",
       "         4.700e-01, 3.580e+00, 1.130e+00, 8.300e+02], dtype=float32), 0),\n",
       " (array([1.339e+01, 2.620e+00, 1.610e+01, 9.300e+01, 2.850e+00, 2.940e+00,\n",
       "         3.400e-01, 4.800e+00, 9.200e-01, 1.195e+03], dtype=float32), 0),\n",
       " (array([1.330e+01, 2.140e+00, 1.700e+01, 9.400e+01, 2.400e+00, 2.190e+00,\n",
       "         2.700e-01, 3.950e+00, 1.020e+00, 1.285e+03], dtype=float32), 0),\n",
       " (array([1.387e+01, 2.800e+00, 1.940e+01, 1.070e+02, 2.950e+00, 2.970e+00,\n",
       "         3.700e-01, 4.500e+00, 1.250e+00, 9.150e+02], dtype=float32), 0),\n",
       " (array([1.402e+01, 2.210e+00, 1.600e+01, 9.600e+01, 2.650e+00, 2.330e+00,\n",
       "         2.600e-01, 4.700e+00, 1.040e+00, 1.035e+03], dtype=float32), 0),\n",
       " (array([1.373e+01, 2.700e+00, 2.250e+01, 1.010e+02, 3.000e+00, 3.250e+00,\n",
       "         2.900e-01, 5.700e+00, 1.190e+00, 1.285e+03], dtype=float32), 0),\n",
       " (array([1.358e+01, 2.360e+00, 1.910e+01, 1.060e+02, 2.860e+00, 3.190e+00,\n",
       "         2.200e-01, 6.900e+00, 1.090e+00, 1.515e+03], dtype=float32), 0),\n",
       " (array([1.368e+01, 2.360e+00, 1.720e+01, 1.040e+02, 2.420e+00, 2.690e+00,\n",
       "         4.200e-01, 3.840e+00, 1.230e+00, 9.900e+02], dtype=float32), 0),\n",
       " (array([1.376e+01, 2.700e+00, 1.950e+01, 1.320e+02, 2.950e+00, 2.740e+00,\n",
       "         5.000e-01, 5.400e+00, 1.250e+00, 1.235e+03], dtype=float32), 0),\n",
       " (array([1.351e+01, 2.650e+00, 1.900e+01, 1.100e+02, 2.350e+00, 2.530e+00,\n",
       "         2.900e-01, 4.200e+00, 1.100e+00, 1.095e+03], dtype=float32), 0),\n",
       " (array([1.348e+01, 2.410e+00, 2.050e+01, 1.000e+02, 2.700e+00, 2.980e+00,\n",
       "         2.600e-01, 5.100e+00, 1.040e+00, 9.200e+02], dtype=float32), 0),\n",
       " (array([1.328e+01, 2.840e+00, 1.550e+01, 1.100e+02, 2.600e+00, 2.680e+00,\n",
       "         3.400e-01, 4.600e+00, 1.090e+00, 8.800e+02], dtype=float32), 0),\n",
       " (array([1.305e+01, 2.550e+00, 1.800e+01, 9.800e+01, 2.450e+00, 2.430e+00,\n",
       "         2.900e-01, 4.250e+00, 1.120e+00, 1.105e+03], dtype=float32), 0),\n",
       " (array([1.307e+01, 2.100e+00, 1.550e+01, 9.800e+01, 2.400e+00, 2.640e+00,\n",
       "         2.800e-01, 3.700e+00, 1.180e+00, 1.020e+03], dtype=float32), 0),\n",
       " (array([1.422e+01, 2.510e+00, 1.320e+01, 1.280e+02, 3.000e+00, 3.040e+00,\n",
       "         2.000e-01, 5.100e+00, 8.900e-01, 7.600e+02], dtype=float32), 0),\n",
       " (array([1.356e+01, 2.310e+00, 1.620e+01, 1.170e+02, 3.150e+00, 3.290e+00,\n",
       "         3.400e-01, 6.130e+00, 9.500e-01, 7.950e+02], dtype=float32), 0),\n",
       " (array([1.341e+01, 2.120e+00, 1.880e+01, 9.000e+01, 2.450e+00, 2.680e+00,\n",
       "         2.700e-01, 4.280e+00, 9.100e-01, 1.035e+03], dtype=float32), 0),\n",
       " (array([1.388e+01, 2.590e+00, 1.500e+01, 1.010e+02, 3.250e+00, 3.560e+00,\n",
       "         1.700e-01, 5.430e+00, 8.800e-01, 1.095e+03], dtype=float32), 0),\n",
       " (array([1.324e+01, 2.290e+00, 1.750e+01, 1.030e+02, 2.640e+00, 2.630e+00,\n",
       "         3.200e-01, 4.360e+00, 8.200e-01, 6.800e+02], dtype=float32), 0),\n",
       " (array([1.305e+01, 2.100e+00, 1.700e+01, 1.070e+02, 3.000e+00, 3.000e+00,\n",
       "         2.800e-01, 5.040e+00, 8.800e-01, 8.850e+02], dtype=float32), 0),\n",
       " (array([1.421e+01, 2.440e+00, 1.890e+01, 1.110e+02, 2.850e+00, 2.650e+00,\n",
       "         3.000e-01, 5.240e+00, 8.700e-01, 1.080e+03], dtype=float32), 0),\n",
       " (array([1.438e+01, 2.280e+00, 1.600e+01, 1.020e+02, 3.250e+00, 3.170e+00,\n",
       "         2.700e-01, 4.900e+00, 1.040e+00, 1.065e+03], dtype=float32), 0),\n",
       " (array([1.39e+01, 2.12e+00, 1.60e+01, 1.01e+02, 3.10e+00, 3.39e+00,\n",
       "         2.10e-01, 6.10e+00, 9.10e-01, 9.85e+02], dtype=float32), 0),\n",
       " (array([1.41e+01, 2.40e+00, 1.88e+01, 1.03e+02, 2.75e+00, 2.92e+00,\n",
       "         3.20e-01, 6.20e+00, 1.07e+00, 1.06e+03], dtype=float32), 0),\n",
       " (array([1.394e+01, 2.270e+00, 1.740e+01, 1.080e+02, 2.880e+00, 3.540e+00,\n",
       "         3.200e-01, 8.900e+00, 1.120e+00, 1.260e+03], dtype=float32), 0),\n",
       " (array([1.305e+01, 2.040e+00, 1.240e+01, 9.200e+01, 2.720e+00, 3.270e+00,\n",
       "         1.700e-01, 7.200e+00, 1.120e+00, 1.150e+03], dtype=float32), 0),\n",
       " (array([1.383e+01, 2.600e+00, 1.720e+01, 9.400e+01, 2.450e+00, 2.990e+00,\n",
       "         2.200e-01, 5.600e+00, 1.240e+00, 1.265e+03], dtype=float32), 0),\n",
       " (array([1.382e+01, 2.420e+00, 1.400e+01, 1.110e+02, 3.880e+00, 3.740e+00,\n",
       "         3.200e-01, 7.050e+00, 1.010e+00, 1.190e+03], dtype=float32), 0),\n",
       " (array([1.377e+01, 2.680e+00, 1.710e+01, 1.150e+02, 3.000e+00, 2.790e+00,\n",
       "         3.900e-01, 6.300e+00, 1.130e+00, 1.375e+03], dtype=float32), 0),\n",
       " (array([1.374e+01, 2.250e+00, 1.640e+01, 1.180e+02, 2.600e+00, 2.900e+00,\n",
       "         2.100e-01, 5.850e+00, 9.200e-01, 1.060e+03], dtype=float32), 0),\n",
       " (array([1.356e+01, 2.460e+00, 2.050e+01, 1.160e+02, 2.960e+00, 2.780e+00,\n",
       "         2.000e-01, 6.250e+00, 9.800e-01, 1.120e+03], dtype=float32), 0),\n",
       " (array([1.422e+01, 2.300e+00, 1.630e+01, 1.180e+02, 3.200e+00, 3.000e+00,\n",
       "         2.600e-01, 6.380e+00, 9.400e-01, 9.700e+02], dtype=float32), 0),\n",
       " (array([1.329e+01, 2.680e+00, 1.680e+01, 1.020e+02, 3.000e+00, 3.230e+00,\n",
       "         3.100e-01, 6.000e+00, 1.070e+00, 1.270e+03], dtype=float32), 0),\n",
       " (array([1.372e+01, 2.500e+00, 1.670e+01, 1.080e+02, 3.400e+00, 3.670e+00,\n",
       "         1.900e-01, 6.800e+00, 8.900e-01, 1.285e+03], dtype=float32), 0),\n",
       " (array([1.237e+01, 1.360e+00, 1.060e+01, 8.800e+01, 1.980e+00, 5.700e-01,\n",
       "         2.800e-01, 1.950e+00, 1.050e+00, 5.200e+02], dtype=float32), 1),\n",
       " (array([1.233e+01, 2.280e+00, 1.600e+01, 1.010e+02, 2.050e+00, 1.090e+00,\n",
       "         6.300e-01, 3.270e+00, 1.250e+00, 6.800e+02], dtype=float32), 1),\n",
       " (array([ 12.64,   2.02,  16.8 , 100.  ,   2.02,   1.41,   0.53,   5.75,\n",
       "           0.98, 450.  ], dtype=float32), 1),\n",
       " (array([1.367e+01, 1.920e+00, 1.800e+01, 9.400e+01, 2.100e+00, 1.790e+00,\n",
       "         3.200e-01, 3.800e+00, 1.230e+00, 6.300e+02], dtype=float32), 1),\n",
       " (array([1.237e+01, 2.160e+00, 1.900e+01, 8.700e+01, 3.500e+00, 3.100e+00,\n",
       "         1.900e-01, 4.450e+00, 1.220e+00, 4.200e+02], dtype=float32), 1),\n",
       " (array([ 12.17,   2.53,  19.  , 104.  ,   1.89,   1.75,   0.45,   2.95,\n",
       "           1.45, 355.  ], dtype=float32), 1),\n",
       " (array([1.237e+01, 2.560e+00, 1.810e+01, 9.800e+01, 2.420e+00, 2.650e+00,\n",
       "         3.700e-01, 4.600e+00, 1.190e+00, 6.780e+02], dtype=float32), 1),\n",
       " (array([1.311e+01, 1.700e+00, 1.500e+01, 7.800e+01, 2.980e+00, 3.180e+00,\n",
       "         2.600e-01, 5.300e+00, 1.120e+00, 5.020e+02], dtype=float32), 1),\n",
       " (array([1.237e+01, 1.920e+00, 1.960e+01, 7.800e+01, 2.110e+00, 2.000e+00,\n",
       "         2.700e-01, 4.680e+00, 1.120e+00, 5.100e+02], dtype=float32), 1),\n",
       " (array([1.334e+01, 2.360e+00, 1.700e+01, 1.100e+02, 2.530e+00, 1.300e+00,\n",
       "         5.500e-01, 3.170e+00, 1.020e+00, 7.500e+02], dtype=float32), 1),\n",
       " (array([1.221e+01, 1.750e+00, 1.680e+01, 1.510e+02, 1.850e+00, 1.280e+00,\n",
       "         1.400e-01, 2.850e+00, 1.280e+00, 7.180e+02], dtype=float32), 1),\n",
       " (array([1.229e+01, 2.210e+00, 2.040e+01, 1.030e+02, 1.100e+00, 1.020e+00,\n",
       "         3.700e-01, 3.050e+00, 9.060e-01, 8.700e+02], dtype=float32), 1),\n",
       " (array([1.386e+01, 2.670e+00, 2.500e+01, 8.600e+01, 2.950e+00, 2.860e+00,\n",
       "         2.100e-01, 3.380e+00, 1.360e+00, 4.100e+02], dtype=float32), 1),\n",
       " (array([1.349e+01, 2.240e+00, 2.400e+01, 8.700e+01, 1.880e+00, 1.840e+00,\n",
       "         2.700e-01, 3.740e+00, 9.800e-01, 4.720e+02], dtype=float32), 1),\n",
       " (array([1.299e+01, 2.600e+00, 3.000e+01, 1.390e+02, 3.300e+00, 2.890e+00,\n",
       "         2.100e-01, 3.350e+00, 1.310e+00, 9.850e+02], dtype=float32), 1),\n",
       " (array([1.196e+01, 2.300e+00, 2.100e+01, 1.010e+02, 3.380e+00, 2.140e+00,\n",
       "         1.300e-01, 3.210e+00, 9.900e-01, 8.860e+02], dtype=float32), 1),\n",
       " (array([1.166e+01, 1.920e+00, 1.600e+01, 9.700e+01, 1.610e+00, 1.570e+00,\n",
       "         3.400e-01, 3.800e+00, 1.230e+00, 4.280e+02], dtype=float32), 1),\n",
       " (array([1.303e+01, 1.710e+00, 1.600e+01, 8.600e+01, 1.950e+00, 2.030e+00,\n",
       "         2.400e-01, 4.600e+00, 1.190e+00, 3.920e+02], dtype=float32), 1),\n",
       " (array([1.184e+01, 2.230e+00, 1.800e+01, 1.120e+02, 1.720e+00, 1.320e+00,\n",
       "         4.300e-01, 2.650e+00, 9.600e-01, 5.000e+02], dtype=float32), 1),\n",
       " (array([1.233e+01, 1.950e+00, 1.480e+01, 1.360e+02, 1.900e+00, 1.850e+00,\n",
       "         3.500e-01, 3.400e+00, 1.060e+00, 7.500e+02], dtype=float32), 1),\n",
       " (array([1.27e+01, 2.40e+00, 2.30e+01, 1.01e+02, 2.83e+00, 2.55e+00,\n",
       "         4.30e-01, 2.57e+00, 1.19e+00, 4.63e+02], dtype=float32), 1),\n",
       " (array([ 12.  ,   2.  ,  19.  ,  86.  ,   2.42,   2.26,   0.3 ,   2.5 ,\n",
       "           1.38, 278.  ], dtype=float32), 1),\n",
       " (array([1.272e+01, 2.200e+00, 1.880e+01, 8.600e+01, 2.200e+00, 2.530e+00,\n",
       "         2.600e-01, 3.900e+00, 1.160e+00, 7.140e+02], dtype=float32), 1),\n",
       " (array([1.208e+01, 2.510e+00, 2.400e+01, 7.800e+01, 2.000e+00, 1.580e+00,\n",
       "         4.000e-01, 2.200e+00, 1.310e+00, 6.300e+02], dtype=float32), 1),\n",
       " (array([ 13.05,   2.32,  22.5 ,  85.  ,   1.65,   1.59,   0.61,   4.8 ,\n",
       "           0.84, 515.  ], dtype=float32), 1),\n",
       " (array([1.184e+01, 2.580e+00, 1.800e+01, 9.400e+01, 2.200e+00, 2.210e+00,\n",
       "         2.200e-01, 3.050e+00, 7.900e-01, 5.200e+02], dtype=float32), 1),\n",
       " (array([1.267e+01, 2.240e+00, 1.800e+01, 9.900e+01, 2.200e+00, 1.940e+00,\n",
       "         3.000e-01, 2.620e+00, 1.230e+00, 4.500e+02], dtype=float32), 1),\n",
       " (array([1.216e+01, 2.310e+00, 2.280e+01, 9.000e+01, 1.780e+00, 1.690e+00,\n",
       "         4.300e-01, 2.450e+00, 1.330e+00, 4.950e+02], dtype=float32), 1),\n",
       " (array([1.165e+01, 2.620e+00, 2.600e+01, 8.800e+01, 1.920e+00, 1.610e+00,\n",
       "         4.000e-01, 2.600e+00, 1.360e+00, 5.620e+02], dtype=float32), 1),\n",
       " (array([1.164e+01, 2.460e+00, 2.160e+01, 8.400e+01, 1.950e+00, 1.690e+00,\n",
       "         4.800e-01, 2.800e+00, 1.000e+00, 6.800e+02], dtype=float32), 1),\n",
       " (array([1.208e+01, 2.300e+00, 2.360e+01, 7.000e+01, 2.200e+00, 1.590e+00,\n",
       "         4.200e-01, 1.740e+00, 1.070e+00, 6.250e+02], dtype=float32), 1),\n",
       " (array([ 12.08,   2.32,  18.5 ,  81.  ,   1.6 ,   1.5 ,   0.52,   2.4 ,\n",
       "           1.08, 480.  ], dtype=float32), 1),\n",
       " (array([ 12.  ,   2.42,  22.  ,  86.  ,   1.45,   1.25,   0.5 ,   3.6 ,\n",
       "           1.05, 450.  ], dtype=float32), 1),\n",
       " (array([ 12.69,   2.26,  20.7 ,  80.  ,   1.38,   1.46,   0.58,   3.05,\n",
       "           0.96, 495.  ], dtype=float32), 1),\n",
       " (array([1.229e+01, 2.220e+00, 1.800e+01, 8.800e+01, 2.450e+00, 2.250e+00,\n",
       "         2.500e-01, 2.150e+00, 1.150e+00, 2.900e+02], dtype=float32), 1),\n",
       " (array([1.162e+01, 2.280e+00, 1.800e+01, 9.800e+01, 3.020e+00, 2.260e+00,\n",
       "         1.700e-01, 3.250e+00, 1.160e+00, 3.450e+02], dtype=float32), 1),\n",
       " (array([1.247e+01, 2.200e+00, 1.900e+01, 1.620e+02, 2.500e+00, 2.270e+00,\n",
       "         3.200e-01, 2.600e+00, 1.160e+00, 9.370e+02], dtype=float32), 1),\n",
       " (array([1.181e+01, 2.740e+00, 2.150e+01, 1.340e+02, 1.600e+00, 9.900e-01,\n",
       "         1.400e-01, 2.500e+00, 9.500e-01, 6.250e+02], dtype=float32), 1),\n",
       " (array([1.229e+01, 1.980e+00, 1.600e+01, 8.500e+01, 2.550e+00, 2.500e+00,\n",
       "         2.900e-01, 2.900e+00, 1.230e+00, 4.280e+02], dtype=float32), 1),\n",
       " (array([1.237e+01, 2.100e+00, 1.850e+01, 8.800e+01, 3.520e+00, 3.750e+00,\n",
       "         2.400e-01, 4.500e+00, 1.040e+00, 6.600e+02], dtype=float32), 1),\n",
       " (array([ 12.29,   2.21,  18.  ,  88.  ,   2.85,   2.99,   0.45,   2.3 ,\n",
       "           1.42, 406.  ], dtype=float32), 1),\n",
       " (array([1.208e+01, 1.700e+00, 1.750e+01, 9.700e+01, 2.230e+00, 2.170e+00,\n",
       "         2.600e-01, 3.300e+00, 1.270e+00, 7.100e+02], dtype=float32), 1),\n",
       " (array([1.26e+01, 1.90e+00, 1.85e+01, 8.80e+01, 1.45e+00, 1.36e+00,\n",
       "         2.90e-01, 2.45e+00, 1.04e+00, 5.62e+02], dtype=float32), 1),\n",
       " (array([1.234e+01, 2.460e+00, 2.100e+01, 9.800e+01, 2.560e+00, 2.110e+00,\n",
       "         3.400e-01, 2.800e+00, 8.000e-01, 4.380e+02], dtype=float32), 1),\n",
       " (array([1.182e+01, 1.880e+00, 1.950e+01, 8.600e+01, 2.500e+00, 1.640e+00,\n",
       "         3.700e-01, 2.060e+00, 9.400e-01, 4.150e+02], dtype=float32), 1),\n",
       " (array([1.251e+01, 1.980e+00, 2.050e+01, 8.500e+01, 2.200e+00, 1.920e+00,\n",
       "         3.200e-01, 2.940e+00, 1.040e+00, 6.720e+02], dtype=float32), 1),\n",
       " (array([ 12.42,   2.27,  22.  ,  90.  ,   1.68,   1.84,   0.66,   2.7 ,\n",
       "           0.86, 315.  ], dtype=float32), 1),\n",
       " (array([1.225e+01, 2.120e+00, 1.900e+01, 8.000e+01, 1.650e+00, 2.030e+00,\n",
       "         3.700e-01, 3.400e+00, 1.000e+00, 5.100e+02], dtype=float32), 1),\n",
       " (array([1.272e+01, 2.280e+00, 2.250e+01, 8.400e+01, 1.380e+00, 1.760e+00,\n",
       "         4.800e-01, 3.300e+00, 8.800e-01, 4.880e+02], dtype=float32), 1),\n",
       " (array([ 12.22,   1.94,  19.  ,  92.  ,   2.36,   2.04,   0.39,   2.7 ,\n",
       "           0.86, 312.  ], dtype=float32), 1),\n",
       " (array([1.161e+01, 2.700e+00, 2.000e+01, 9.400e+01, 2.740e+00, 2.920e+00,\n",
       "         2.900e-01, 2.650e+00, 9.600e-01, 6.800e+02], dtype=float32), 1),\n",
       " (array([1.146e+01, 1.820e+00, 1.950e+01, 1.070e+02, 3.180e+00, 2.580e+00,\n",
       "         2.400e-01, 2.900e+00, 7.500e-01, 5.620e+02], dtype=float32), 1),\n",
       " (array([1.252e+01, 2.170e+00, 2.100e+01, 8.800e+01, 2.550e+00, 2.270e+00,\n",
       "         2.600e-01, 2.000e+00, 9.000e-01, 3.250e+02], dtype=float32), 1),\n",
       " (array([1.176e+01, 2.920e+00, 2.000e+01, 1.030e+02, 1.750e+00, 2.030e+00,\n",
       "         6.000e-01, 3.800e+00, 1.230e+00, 6.070e+02], dtype=float32), 1),\n",
       " (array([1.141e+01, 2.500e+00, 2.100e+01, 8.800e+01, 2.480e+00, 2.010e+00,\n",
       "         4.200e-01, 3.080e+00, 1.100e+00, 4.340e+02], dtype=float32), 1),\n",
       " (array([ 12.08,   2.5 ,  22.5 ,  84.  ,   2.56,   2.29,   0.43,   2.9 ,\n",
       "           0.93, 385.  ], dtype=float32), 1),\n",
       " (array([ 11.03,   2.2 ,  21.5 ,  85.  ,   2.46,   2.17,   0.52,   1.9 ,\n",
       "           1.71, 407.  ], dtype=float32), 1),\n",
       " (array([1.182e+01, 1.990e+00, 2.080e+01, 8.600e+01, 1.980e+00, 1.600e+00,\n",
       "         3.000e-01, 1.950e+00, 9.500e-01, 4.950e+02], dtype=float32), 1),\n",
       " (array([1.242e+01, 2.190e+00, 2.250e+01, 1.080e+02, 2.000e+00, 2.090e+00,\n",
       "         3.400e-01, 2.060e+00, 1.060e+00, 3.450e+02], dtype=float32), 1),\n",
       " (array([ 12.77,   1.98,  16.  ,  80.  ,   1.63,   1.25,   0.43,   3.4 ,\n",
       "           0.7 , 372.  ], dtype=float32), 1),\n",
       " (array([1.20e+01, 2.00e+00, 1.90e+01, 8.70e+01, 2.00e+00, 1.64e+00,\n",
       "         3.70e-01, 1.28e+00, 9.30e-01, 5.64e+02], dtype=float32), 1),\n",
       " (array([1.145e+01, 2.420e+00, 2.000e+01, 9.600e+01, 2.900e+00, 2.790e+00,\n",
       "         3.200e-01, 3.250e+00, 8.000e-01, 6.250e+02], dtype=float32), 1),\n",
       " (array([ 11.56,   3.23,  28.5 , 119.  ,   3.18,   5.08,   0.47,   6.  ,\n",
       "           0.93, 465.  ], dtype=float32), 1),\n",
       " (array([ 12.42,   2.73,  26.5 , 102.  ,   2.2 ,   2.13,   0.43,   2.08,\n",
       "           0.92, 365.  ], dtype=float32), 1),\n",
       " (array([1.305e+01, 2.130e+00, 2.150e+01, 8.600e+01, 2.620e+00, 2.650e+00,\n",
       "         3.000e-01, 2.600e+00, 7.300e-01, 3.800e+02], dtype=float32), 1),\n",
       " (array([1.187e+01, 2.390e+00, 2.100e+01, 8.200e+01, 2.860e+00, 3.030e+00,\n",
       "         2.100e-01, 2.800e+00, 7.500e-01, 3.800e+02], dtype=float32), 1),\n",
       " (array([1.207e+01, 2.170e+00, 2.100e+01, 8.500e+01, 2.600e+00, 2.650e+00,\n",
       "         3.700e-01, 2.760e+00, 8.600e-01, 3.780e+02], dtype=float32), 1),\n",
       " (array([ 12.43,   2.29,  21.5 ,  86.  ,   2.74,   3.15,   0.39,   3.94,\n",
       "           0.69, 352.  ], dtype=float32), 1),\n",
       " (array([ 11.79,   2.78,  28.5 ,  92.  ,   2.13,   2.24,   0.58,   3.  ,\n",
       "           0.97, 466.  ], dtype=float32), 1),\n",
       " (array([ 12.37,   2.3 ,  24.5 ,  88.  ,   2.22,   2.45,   0.4 ,   2.12,\n",
       "           0.89, 342.  ], dtype=float32), 1),\n",
       " (array([1.204e+01, 2.380e+00, 2.200e+01, 8.000e+01, 2.100e+00, 1.750e+00,\n",
       "         4.200e-01, 2.600e+00, 7.900e-01, 5.800e+02], dtype=float32), 1),\n",
       " (array([1.286e+01, 2.320e+00, 1.800e+01, 1.220e+02, 1.510e+00, 1.250e+00,\n",
       "         2.100e-01, 4.100e+00, 7.600e-01, 6.300e+02], dtype=float32), 2),\n",
       " (array([1.288e+01, 2.400e+00, 2.000e+01, 1.040e+02, 1.300e+00, 1.220e+00,\n",
       "         2.400e-01, 5.400e+00, 7.400e-01, 5.300e+02], dtype=float32), 2),\n",
       " (array([1.281e+01, 2.400e+00, 2.400e+01, 9.800e+01, 1.150e+00, 1.090e+00,\n",
       "         2.700e-01, 5.700e+00, 6.600e-01, 5.600e+02], dtype=float32), 2),\n",
       " (array([1.27e+01, 2.36e+00, 2.15e+01, 1.06e+02, 1.70e+00, 1.20e+00,\n",
       "         1.70e-01, 5.00e+00, 7.80e-01, 6.00e+02], dtype=float32), 2),\n",
       " (array([1.251e+01, 2.250e+00, 1.750e+01, 8.500e+01, 2.000e+00, 5.800e-01,\n",
       "         6.000e-01, 5.450e+00, 7.500e-01, 6.500e+02], dtype=float32), 2),\n",
       " (array([1.26e+01, 2.20e+00, 1.85e+01, 9.40e+01, 1.62e+00, 6.60e-01,\n",
       "         6.30e-01, 7.10e+00, 7.30e-01, 6.95e+02], dtype=float32), 2),\n",
       " (array([1.225e+01, 2.540e+00, 2.100e+01, 8.900e+01, 1.380e+00, 4.700e-01,\n",
       "         5.300e-01, 3.850e+00, 7.500e-01, 7.200e+02], dtype=float32), 2),\n",
       " (array([ 12.53,   2.64,  25.  ,  96.  ,   1.79,   0.6 ,   0.63,   5.  ,\n",
       "           0.82, 515.  ], dtype=float32), 2),\n",
       " (array([1.349e+01, 2.190e+00, 1.950e+01, 8.800e+01, 1.620e+00, 4.800e-01,\n",
       "         5.800e-01, 5.700e+00, 8.100e-01, 5.800e+02], dtype=float32), 2),\n",
       " (array([1.284e+01, 2.610e+00, 2.400e+01, 1.010e+02, 2.320e+00, 6.000e-01,\n",
       "         5.300e-01, 4.920e+00, 8.900e-01, 5.900e+02], dtype=float32), 2),\n",
       " (array([1.293e+01, 2.700e+00, 2.100e+01, 9.600e+01, 1.540e+00, 5.000e-01,\n",
       "         5.300e-01, 4.600e+00, 7.700e-01, 6.000e+02], dtype=float32), 2),\n",
       " (array([1.336e+01, 2.350e+00, 2.000e+01, 8.900e+01, 1.400e+00, 5.000e-01,\n",
       "         3.700e-01, 5.600e+00, 7.000e-01, 7.800e+02], dtype=float32), 2),\n",
       " (array([1.352e+01, 2.720e+00, 2.350e+01, 9.700e+01, 1.550e+00, 5.200e-01,\n",
       "         5.000e-01, 4.350e+00, 8.900e-01, 5.200e+02], dtype=float32), 2),\n",
       " (array([1.362e+01, 2.350e+00, 2.000e+01, 9.200e+01, 2.000e+00, 8.000e-01,\n",
       "         4.700e-01, 4.400e+00, 9.100e-01, 5.500e+02], dtype=float32), 2),\n",
       " (array([1.225e+01, 2.200e+00, 1.850e+01, 1.120e+02, 1.380e+00, 7.800e-01,\n",
       "         2.900e-01, 8.210e+00, 6.500e-01, 8.550e+02], dtype=float32), 2),\n",
       " (array([1.316e+01, 2.150e+00, 2.100e+01, 1.020e+02, 1.500e+00, 5.500e-01,\n",
       "         4.300e-01, 4.000e+00, 6.000e-01, 8.300e+02], dtype=float32), 2),\n",
       " (array([1.388e+01, 2.230e+00, 2.000e+01, 8.000e+01, 9.800e-01, 3.400e-01,\n",
       "         4.000e-01, 4.900e+00, 5.800e-01, 4.150e+02], dtype=float32), 2),\n",
       " (array([1.287e+01, 2.480e+00, 2.150e+01, 8.600e+01, 1.700e+00, 6.500e-01,\n",
       "         4.700e-01, 7.650e+00, 5.400e-01, 6.250e+02], dtype=float32), 2),\n",
       " (array([1.332e+01, 2.380e+00, 2.150e+01, 9.200e+01, 1.930e+00, 7.600e-01,\n",
       "         4.500e-01, 8.420e+00, 5.500e-01, 6.500e+02], dtype=float32), 2),\n",
       " (array([1.308e+01, 2.360e+00, 2.150e+01, 1.130e+02, 1.410e+00, 1.390e+00,\n",
       "         3.400e-01, 9.400e+00, 5.700e-01, 5.500e+02], dtype=float32), 2),\n",
       " (array([1.35e+01, 2.62e+00, 2.40e+01, 1.23e+02, 1.40e+00, 1.57e+00,\n",
       "         2.20e-01, 8.60e+00, 5.90e-01, 5.00e+02], dtype=float32), 2),\n",
       " (array([1.279e+01, 2.480e+00, 2.200e+01, 1.120e+02, 1.480e+00, 1.360e+00,\n",
       "         2.400e-01, 1.080e+01, 4.800e-01, 4.800e+02], dtype=float32), 2),\n",
       " (array([1.311e+01, 2.750e+00, 2.550e+01, 1.160e+02, 2.200e+00, 1.280e+00,\n",
       "         2.600e-01, 7.100e+00, 6.100e-01, 4.250e+02], dtype=float32), 2),\n",
       " (array([1.323e+01, 2.280e+00, 1.850e+01, 9.800e+01, 1.800e+00, 8.300e-01,\n",
       "         6.100e-01, 1.052e+01, 5.600e-01, 6.750e+02], dtype=float32), 2),\n",
       " (array([1.258e+01, 2.100e+00, 2.000e+01, 1.030e+02, 1.480e+00, 5.800e-01,\n",
       "         5.300e-01, 7.600e+00, 5.800e-01, 6.400e+02], dtype=float32), 2),\n",
       " (array([1.317e+01, 2.320e+00, 2.200e+01, 9.300e+01, 1.740e+00, 6.300e-01,\n",
       "         6.100e-01, 7.900e+00, 6.000e-01, 7.250e+02], dtype=float32), 2),\n",
       " (array([ 13.84,   2.38,  19.5 ,  89.  ,   1.8 ,   0.83,   0.48,   9.01,\n",
       "           0.57, 480.  ], dtype=float32), 2),\n",
       " (array([1.245e+01, 2.640e+00, 2.700e+01, 9.700e+01, 1.900e+00, 5.800e-01,\n",
       "         6.300e-01, 7.500e+00, 6.700e-01, 8.800e+02], dtype=float32), 2),\n",
       " (array([1.434e+01, 2.700e+00, 2.500e+01, 9.800e+01, 2.800e+00, 1.310e+00,\n",
       "         5.300e-01, 1.300e+01, 5.700e-01, 6.600e+02], dtype=float32), 2),\n",
       " (array([1.348e+01, 2.640e+00, 2.250e+01, 8.900e+01, 2.600e+00, 1.100e+00,\n",
       "         5.200e-01, 1.175e+01, 5.700e-01, 6.200e+02], dtype=float32), 2),\n",
       " (array([1.236e+01, 2.380e+00, 2.100e+01, 8.800e+01, 2.300e+00, 9.200e-01,\n",
       "         5.000e-01, 7.650e+00, 5.600e-01, 5.200e+02], dtype=float32), 2),\n",
       " (array([1.369e+01, 2.540e+00, 2.000e+01, 1.070e+02, 1.830e+00, 5.600e-01,\n",
       "         5.000e-01, 5.880e+00, 9.600e-01, 6.800e+02], dtype=float32), 2),\n",
       " (array([ 12.85,   2.58,  22.  , 106.  ,   1.65,   0.6 ,   0.6 ,   5.58,\n",
       "           0.87, 570.  ], dtype=float32), 2),\n",
       " (array([1.296e+01, 2.350e+00, 1.850e+01, 1.060e+02, 1.390e+00, 7.000e-01,\n",
       "         4.000e-01, 5.280e+00, 6.800e-01, 6.750e+02], dtype=float32), 2),\n",
       " (array([1.378e+01, 2.300e+00, 2.200e+01, 9.000e+01, 1.350e+00, 6.800e-01,\n",
       "         4.100e-01, 9.580e+00, 7.000e-01, 6.150e+02], dtype=float32), 2),\n",
       " (array([1.373e+01, 2.260e+00, 2.250e+01, 8.800e+01, 1.280e+00, 4.700e-01,\n",
       "         5.200e-01, 6.620e+00, 7.800e-01, 5.200e+02], dtype=float32), 2),\n",
       " (array([1.345e+01, 2.600e+00, 2.300e+01, 1.110e+02, 1.700e+00, 9.200e-01,\n",
       "         4.300e-01, 1.068e+01, 8.500e-01, 6.950e+02], dtype=float32), 2),\n",
       " (array([1.282e+01, 2.300e+00, 1.950e+01, 8.800e+01, 1.480e+00, 6.600e-01,\n",
       "         4.000e-01, 1.026e+01, 7.200e-01, 6.850e+02], dtype=float32), 2),\n",
       " (array([1.358e+01, 2.690e+00, 2.450e+01, 1.050e+02, 1.550e+00, 8.400e-01,\n",
       "         3.900e-01, 8.660e+00, 7.400e-01, 7.500e+02], dtype=float32), 2),\n",
       " (array([1.34e+01, 2.86e+00, 2.50e+01, 1.12e+02, 1.98e+00, 9.60e-01,\n",
       "         2.70e-01, 8.50e+00, 6.70e-01, 6.30e+02], dtype=float32), 2),\n",
       " (array([1.22e+01, 2.32e+00, 1.90e+01, 9.60e+01, 1.25e+00, 4.90e-01,\n",
       "         4.00e-01, 5.50e+00, 6.60e-01, 5.10e+02], dtype=float32), 2),\n",
       " (array([ 12.77    ,   2.28    ,  19.5     ,  86.      ,   1.39    ,\n",
       "           0.51    ,   0.48    ,   9.899999,   0.57    , 470.      ],\n",
       "        dtype=float32), 2),\n",
       " (array([1.416e+01, 2.480e+00, 2.000e+01, 9.100e+01, 1.680e+00, 7.000e-01,\n",
       "         4.400e-01, 9.700e+00, 6.200e-01, 6.600e+02], dtype=float32), 2),\n",
       " (array([1.371e+01, 2.450e+00, 2.050e+01, 9.500e+01, 1.680e+00, 6.100e-01,\n",
       "         5.200e-01, 7.700e+00, 6.400e-01, 7.400e+02], dtype=float32), 2),\n",
       " (array([1.34e+01, 2.48e+00, 2.30e+01, 1.02e+02, 1.80e+00, 7.50e-01,\n",
       "         4.30e-01, 7.30e+00, 7.00e-01, 7.50e+02], dtype=float32), 2),\n",
       " (array([1.327e+01, 2.260e+00, 2.000e+01, 1.200e+02, 1.590e+00, 6.900e-01,\n",
       "         4.300e-01, 1.020e+01, 5.900e-01, 8.350e+02], dtype=float32), 2),\n",
       " (array([1.317e+01, 2.370e+00, 2.000e+01, 1.200e+02, 1.650e+00, 6.800e-01,\n",
       "         5.300e-01, 9.300e+00, 6.000e-01, 8.400e+02], dtype=float32), 2),\n",
       " (array([ 14.13,   2.74,  24.5 ,  96.  ,   2.05,   0.76,   0.56,   9.2 ,\n",
       "           0.61, 560.  ], dtype=float32), 2)]"
      ]
     },
     "execution_count": 92,
     "metadata": {},
     "output_type": "execute_result"
    }
   ],
   "source": [
    "dateset"
   ]
  },
  {
   "cell_type": "markdown",
   "metadata": {},
   "source": [
    "## 訓練データと検証データに分割\n",
    "Chainer内のものを使用する。"
   ]
  },
  {
   "cell_type": "code",
   "execution_count": 93,
   "metadata": {},
   "outputs": [],
   "source": [
    "import chainer"
   ]
  },
  {
   "cell_type": "code",
   "execution_count": 94,
   "metadata": {},
   "outputs": [
    {
     "data": {
      "text/plain": [
       "178"
      ]
     },
     "execution_count": 94,
     "metadata": {},
     "output_type": "execute_result"
    }
   ],
   "source": [
    "# 全体サイズ\n",
    "len(dateset)"
   ]
  },
  {
   "cell_type": "code",
   "execution_count": 95,
   "metadata": {},
   "outputs": [
    {
     "data": {
      "text/plain": [
       "124"
      ]
     },
     "execution_count": 95,
     "metadata": {},
     "output_type": "execute_result"
    }
   ],
   "source": [
    "# 学習データを7割にする。\n",
    "n_train = int(len(dateset)*0.7)\n",
    "n_train"
   ]
  },
  {
   "cell_type": "code",
   "execution_count": 96,
   "metadata": {},
   "outputs": [],
   "source": [
    "# 今回のデータは整列されて格納されているため、『random』で分割することが重要である。\n",
    "train, test = chainer.datasets.split_dataset_random(dateset, n_train, seed=1)  # シードを指定するのを忘れないようにする。"
   ]
  },
  {
   "cell_type": "code",
   "execution_count": 97,
   "metadata": {},
   "outputs": [
    {
     "data": {
      "text/plain": [
       "124"
      ]
     },
     "execution_count": 97,
     "metadata": {},
     "output_type": "execute_result"
    }
   ],
   "source": [
    "len(train)"
   ]
  },
  {
   "cell_type": "code",
   "execution_count": 98,
   "metadata": {},
   "outputs": [
    {
     "data": {
      "text/plain": [
       "54"
      ]
     },
     "execution_count": 98,
     "metadata": {},
     "output_type": "execute_result"
    }
   ],
   "source": [
    "len(test)"
   ]
  },
  {
   "cell_type": "markdown",
   "metadata": {},
   "source": [
    "## 学習するための設定\n",
    "  \n",
    "  \n",
    "#### Optimizerの設定\n",
    "\n",
    "重みを最適化するアルゴリズムを選択する部分  \n",
    "今回は、『確率的勾配降下法』を利用する。"
   ]
  },
  {
   "cell_type": "code",
   "execution_count": 99,
   "metadata": {},
   "outputs": [],
   "source": [
    "optimizer = chainer.optimizers.Adam()"
   ]
  },
  {
   "cell_type": "code",
   "execution_count": 100,
   "metadata": {},
   "outputs": [
    {
     "data": {
      "text/plain": [
       "<chainer.optimizers.adam.Adam at 0xb6a2e80>"
      ]
     },
     "execution_count": 100,
     "metadata": {},
     "output_type": "execute_result"
    }
   ],
   "source": [
    "optimizer.setup(model)"
   ]
  },
  {
   "cell_type": "markdown",
   "metadata": {},
   "source": [
    "#### Iteratorの設定\n",
    "バッチサイズが重要になる  \n",
    "  \n",
    "- ミニバッチ学習  \n",
    "データが100万有ると仮定した場合、  \n",
    "『batchsize』を100に設定することで、  \n",
    "『1epoch』（全データを１回使って学習）で  \n",
    "『iteration』（パラメータの更新）が10000回  になる。\n",
    "  \n"
   ]
  },
  {
   "cell_type": "code",
   "execution_count": 101,
   "metadata": {},
   "outputs": [],
   "source": [
    "# データに応じてサイズを決定\n",
    "batchsize = 10"
   ]
  },
  {
   "cell_type": "code",
   "execution_count": 102,
   "metadata": {},
   "outputs": [],
   "source": [
    "# 学習とテスト用のIteratorを設定する。\n",
    "train_iter = chainer.iterators.SerialIterator(train, batchsize)\n",
    "# テストの設定をする。\n",
    "test_iter = chainer.iterators.SerialIterator(test, batchsize, repeat=False, shuffle=False)"
   ]
  },
  {
   "cell_type": "markdown",
   "metadata": {},
   "source": [
    "## Updaterの設定\n",
    "引数の『device』で使用するデバイスを設定する。\n",
    "- CPU: -1\n",
    "- GPU: 0～\n",
    "\n",
    "※GPUは使用する準備を行ってから設定しなければならない。  \n",
    "　GPU時の指定は、数字で使用するGPUの番号を指定する。"
   ]
  },
  {
   "cell_type": "code",
   "execution_count": 103,
   "metadata": {},
   "outputs": [],
   "source": [
    "from chainer import training"
   ]
  },
  {
   "cell_type": "code",
   "execution_count": 104,
   "metadata": {},
   "outputs": [],
   "source": [
    "updater = training.StandardUpdater(train_iter, optimizer, device=-1)"
   ]
  },
  {
   "cell_type": "markdown",
   "metadata": {},
   "source": [
    "## TrainerとExtensionsの設定\n",
    "\n"
   ]
  },
  {
   "cell_type": "code",
   "execution_count": 105,
   "metadata": {},
   "outputs": [],
   "source": [
    "from chainer.training import extensions"
   ]
  },
  {
   "cell_type": "code",
   "execution_count": 106,
   "metadata": {},
   "outputs": [],
   "source": [
    "# epochの数\n",
    "epoch = 500"
   ]
  },
  {
   "cell_type": "code",
   "execution_count": 107,
   "metadata": {},
   "outputs": [],
   "source": [
    "# Trainerの宣言\n",
    "# outは『Classifier』を利用している際に、出力されるログを保存するパスを記載する。\n",
    "trainer = training.Trainer(updater, (epoch, 'epoch'), out='result/wine')"
   ]
  },
  {
   "cell_type": "code",
   "execution_count": 108,
   "metadata": {},
   "outputs": [],
   "source": [
    "# 検証データで評価\n",
    "trainer.extend(extensions.Evaluator(test_iter, model, device=-1))  # ここでも『device』の設定が必要\n",
    "\n",
    "trainer.extend(extensions.LogReport(trigger=(1, 'epoch')))  # ログ出力の頻度は１エポックごとに出力\n",
    "\n"
   ]
  },
  {
   "cell_type": "markdown",
   "metadata": {},
   "source": [
    "1エポックごと（trigger）に\n",
    "- trainデータに対するloss\n",
    "- testデータに対するloss\n",
    "- testデータに対するaccuracy（どれだけ正解したか？）\n",
    "- 経過時間の出力\n",
    "  \n",
    "    "
   ]
  },
  {
   "cell_type": "code",
   "execution_count": 109,
   "metadata": {},
   "outputs": [],
   "source": [
    "trainer.extend(extensions.PrintReport(['epoch', 'main/accuracy', 'validation/main/accuracy', 'main/loss', 'validation/main/loss', 'elapsed_time']), trigger=(1, 'epoch'))"
   ]
  },
  {
   "cell_type": "markdown",
   "metadata": {},
   "source": [
    "# 設定の完了"
   ]
  },
  {
   "cell_type": "markdown",
   "metadata": {},
   "source": [
    "# 学習の実行"
   ]
  },
  {
   "cell_type": "code",
   "execution_count": 110,
   "metadata": {},
   "outputs": [
    {
     "name": "stdout",
     "output_type": "stream",
     "text": [
      "epoch       main/accuracy  validation/main/accuracy  main/loss   validation/main/loss  elapsed_time\n",
      "1           0.415385       0.408333                  11.7659     2.08349               0.0632121     \n",
      "2           0.483333       0.55                      1.94642     1.85287               0.108036      \n",
      "3           0.615385       0.516667                  1.1097      1.29756               0.166575      \n",
      "4           0.516667       0.566667                  1.95282     2.11433               0.212347      \n",
      "5           0.533333       0.675                     2.83484     1.1874                0.261582      \n",
      "6           0.6            0.55                      2.15843     1.70172               0.304248      \n",
      "7           0.625          0.575                     1.49283     0.997277              0.347337      \n",
      "8           0.592308       0.566667                  1.56808     1.68033               0.391145      \n",
      "9           0.616667       0.55                      1.17152     1.16915               0.434405      \n",
      "10          0.658333       0.65                      0.869356    0.866432              0.479364      \n",
      "11          0.692308       0.65                      1.29016     1.59524               0.535458      \n",
      "12          0.708333       0.708333                  1.04238     0.78409               0.586997      \n",
      "13          0.653846       0.725                     1.17941     1.41523               0.636549      \n",
      "14          0.608333       0.6                       1.26108     0.984681              0.681001      \n",
      "15          0.666667       0.541667                  1.33413     1.894                 0.724524      \n",
      "16          0.630769       0.566667                  1.67126     1.64105               0.77921       \n",
      "17          0.7            0.591667                  1.27954     2.67908               0.829758      \n",
      "18          0.546154       0.566667                  2.21046     3.76937               0.887839      \n",
      "19          0.566667       0.583333                  3.04502     2.12954               0.936375      \n",
      "20          0.658333       0.75                      1.44752     1.15555               0.989941      \n",
      "21          0.561538       0.616667                  2.82389     1.97427               1.04814       \n",
      "22          0.691667       0.691667                  1.02296     0.914734              1.09384       \n",
      "23          0.738462       0.566667                  1.01641     1.41676               1.14725       \n",
      "24          0.65           0.733333                  1.2703      0.909353              1.20037       \n",
      "25          0.766667       0.675                     1.01693     0.881934              1.25049       \n",
      "26          0.746154       0.783333                  1.01293     0.827115              1.30473       \n",
      "27          0.741667       0.675                     0.84789     0.967779              1.35503       \n",
      "28          0.692308       0.625                     1.16018     1.20842               1.40718       \n",
      "29          0.583333       0.616667                  1.71129     3.12102               1.45308       \n",
      "30          0.675          0.633333                  1.44214     1.24447               1.50405       \n",
      "31          0.7            0.641667                  1.23884     0.829557              1.55565       \n",
      "32          0.641667       0.691667                  1.50333     1.09496               1.60491       \n",
      "33          0.653846       0.583333                  1.18368     1.65565               1.66462       \n",
      "34          0.75           0.641667                  0.909071    0.738872              1.71332       \n",
      "35          0.741667       0.741667                  0.669283    0.666679              1.75497       \n",
      "36          0.746154       0.6                       0.744137    2.51497               1.81126       \n",
      "37          0.625          0.583333                  1.79013     3.11971               1.86356       \n",
      "38          0.676923       0.741667                  1.34547     0.986588              1.91287       \n",
      "39          0.666667       0.691667                  1.41691     1.30424               1.96254       \n",
      "40          0.65           0.683333                  1.048       0.761928              2.00484       \n",
      "41          0.784615       0.775                     0.639229    0.767789              2.06006       \n",
      "42          0.7            0.666667                  1.07993     1.00246               2.11628       \n",
      "43          0.7            0.708333                  1.11329     0.914903              2.17185       \n",
      "44          0.716667       0.583333                  0.854713    1.43754               2.22009       \n",
      "45          0.725          0.608333                  0.777626    1.05464               2.26836       \n",
      "46          0.7            0.65                      1.06134     0.725265              2.3176        \n",
      "47          0.708333       0.566667                  1.04894     1.06997               2.36587       \n",
      "48          0.684615       0.608333                  0.878485    1.41318               2.42381       \n",
      "49          0.7            0.85                      0.906548    0.606271              2.47844       \n",
      "50          0.708333       0.616667                  0.835112    0.903117              2.53004       \n",
      "51          0.784615       0.641667                  0.702262    0.927105              2.58099       \n",
      "52          0.716667       0.666667                  0.788219    0.839044              2.63248       \n",
      "53          0.7            0.583333                  1.0034      2.50485               2.68571       \n",
      "54          0.641667       0.633333                  1.56073     1.09585               2.73419       \n",
      "55          0.725          0.775                     1.12375     0.618043              2.78569       \n",
      "56          0.676923       0.708333                  1.25267     0.714029              2.83917       \n",
      "57          0.716667       0.566667                  0.908952    0.891872              2.89264       \n",
      "58          0.746154       0.616667                  0.982196    1.38812               2.94246       \n",
      "59          0.775          0.783333                  0.745977    1.14953               2.99172       \n",
      "60          0.75           0.616667                  0.821374    1.21056               3.04651       \n",
      "61          0.769231       0.833333                  0.571775    0.576944              3.09878       \n",
      "62          0.775          0.65                      0.659063    0.947355              3.1412        \n",
      "63          0.815385       0.758333                  0.489144    0.557248              3.20082       \n",
      "64          0.825          0.633333                  0.525195    0.847144              3.25467       \n",
      "65          0.916667       0.825                     0.32891     0.586576              3.30518       \n",
      "66          0.9            0.741667                  0.317208    0.439176              3.36252       \n",
      "67          0.858333       0.733333                  0.426748    0.498962              3.41674       \n",
      "68          0.823077       0.816667                  0.501034    0.575323              3.4764        \n",
      "69          0.825          0.85                      0.468783    0.4953                3.52993       \n",
      "70          0.825          0.8                       0.679725    1.10525               3.58401       \n",
      "71          0.715385       0.833333                  1.02336     0.381462              3.63246       \n",
      "72          0.791667       0.733333                  0.81703     0.681601              3.68546       \n",
      "73          0.8            0.816667                  0.976847    1.05316               3.7394        \n",
      "74          0.825          0.85                      0.497124    0.642267              3.79286       \n",
      "75          0.841667       0.733333                  0.455821    0.621325              3.84255       \n",
      "76          0.923077       0.833333                  0.35465     0.453052              3.90493       \n",
      "77          0.866667       0.6                       0.414466    1.26077               3.95984       \n",
      "78          0.830769       0.9                       0.497351    0.335452              4.00925       \n",
      "79          0.875          0.883333                  0.536339    0.400684              4.05837       \n",
      "80          0.908333       0.683333                  0.406771    0.704357              4.10957       \n"
     ]
    },
    {
     "name": "stdout",
     "output_type": "stream",
     "text": [
      "81          0.869231       0.9                       0.299472    0.391776              4.16834       \n",
      "82          0.825          0.916667                  0.611644    0.412506              4.21992       \n",
      "83          0.830769       0.7                       0.506989    0.920496              4.27186       \n",
      "84          0.8            0.883333                  0.622993    0.69183               4.32875       \n",
      "85          0.808333       0.666667                  0.621488    0.946975              4.38714       \n",
      "86          0.815385       0.883333                  0.514753    0.454486              4.44701       \n",
      "87          0.75           0.791667                  0.757426    0.390503              4.50236       \n",
      "88          0.807692       0.85                      0.707772    0.375738              4.56483       \n",
      "89          0.883333       0.866667                  0.37117     0.667175              4.61563       \n",
      "90          0.891667       0.9                       0.392637    0.602006              4.66631       \n",
      "91          0.915385       0.883333                  0.345256    0.348258              4.72574       \n",
      "92          0.9            0.775                     0.334103    0.417625              4.78234       \n",
      "93          0.853846       0.866667                  0.414719    0.515741              4.84333       \n",
      "94          0.891667       0.866667                  0.422333    0.410206              4.89699       \n",
      "95          0.833333       0.791667                  0.346548    0.360125              4.94384       \n",
      "96          0.838462       0.633333                  0.413178    0.933132              5.00313       \n",
      "97          0.866667       0.666667                  0.46003     0.918944              5.06371       \n",
      "98          0.876923       0.883333                  0.423892    0.272492              5.12252       \n",
      "99          0.875          0.65                      0.387151    0.882084              5.18047       \n",
      "100         0.825          0.95                      0.421161    0.256274              5.23406       \n",
      "101         0.892308       0.7                       0.294215    0.667112              5.29646       \n",
      "102         0.833333       0.65                      0.423061    0.977215              5.34683       \n",
      "103         0.838462       0.725                     0.385376    1.2844                5.40441       \n",
      "104         0.75           0.825                     0.867168    0.692508              5.45847       \n",
      "105         0.841667       0.85                      0.461278    0.827466              5.50829       \n",
      "106         0.9            0.7                       0.377475    0.733779              5.56325       \n",
      "107         0.841667       0.9                       0.407777    0.308003              5.61241       \n",
      "108         0.930769       0.9                       0.264953    0.275022              5.67029       \n",
      "109         0.916667       0.666667                  0.375163    0.828126              5.72174       \n",
      "110         0.908333       0.933333                  0.236969    0.34169               5.77356       \n",
      "111         0.938462       0.95                      0.247185    0.267344              5.83069       \n",
      "112         0.841667       0.716667                  0.389656    0.491271              5.88603       \n",
      "113         0.876923       0.883333                  0.30229     0.318516              5.94063       \n",
      "114         0.816667       0.683333                  0.385955    0.713126              5.9926        \n",
      "115         0.883333       0.9                       0.36925     0.314991              6.0416        \n",
      "116         0.923077       0.766667                  0.236293    0.438853              6.09694       \n",
      "117         0.916667       0.733333                  0.22683     0.458923              6.14596       \n",
      "118         0.9            0.933333                  0.242743    0.304832              6.20026       \n",
      "119         0.866667       0.716667                  0.353935    0.547569              6.24663       \n",
      "120         0.883333       0.7                       0.269423    0.601311              6.29702       \n",
      "121         0.869231       0.775                     0.430126    0.455591              6.3504        \n",
      "122         0.825          0.95                      0.397294    0.246385              6.39939       \n",
      "123         0.846154       0.816667                  0.440553    0.377093              6.45849       \n",
      "124         0.85           0.65                      0.286383    1.0758                6.51663       \n",
      "125         0.866667       0.9                       0.374405    0.489122              6.57074       \n",
      "126         0.807692       0.933333                  0.477223    0.219668              6.62389       \n",
      "127         0.808333       0.666667                  0.429055    0.916553              6.67519       \n",
      "128         0.884615       0.916667                  0.277949    0.439499              6.72331       \n",
      "129         0.925          0.916667                  0.193506    0.191557              6.77709       \n",
      "130         0.883333       0.916667                  0.237806    0.212209              6.82313       \n",
      "131         0.892308       0.883333                  0.243059    0.373033              6.88205       \n",
      "132         0.966667       0.783333                  0.217388    0.34796               6.93082       \n",
      "133         0.923077       0.7                       0.22383     0.564746              6.98408       \n",
      "134         0.866667       0.933333                  0.306932    0.275241              7.04061       \n",
      "135         0.941667       0.9                       0.17794     0.231575              7.09429       \n",
      "136         0.938462       0.866667                  0.226573    0.273027              7.14264       \n",
      "137         0.9            0.866667                  0.32154     0.326003              7.19286       \n",
      "138         0.838462       0.85                      0.394935    0.570898              7.24407       \n",
      "139         0.866667       0.933333                  0.364321    0.281511              7.30116       \n",
      "140         0.9            0.916667                  0.306535    0.335711              7.36209       \n",
      "141         0.861538       0.683333                  0.345479    0.714343              7.41764       \n",
      "142         0.825          0.716667                  0.559032    0.497295              7.47834       \n",
      "143         0.869231       0.866667                  0.271475    0.440706              7.54053       \n",
      "144         0.8            0.716667                  0.493981    0.690884              7.59131       \n",
      "145         0.858333       0.85                      0.543392    0.474506              7.65464       \n",
      "146         0.784615       0.8                       1.12345     0.842117              7.71904       \n",
      "147         0.691667       0.716667                  1.59426     0.77269               7.77621       \n",
      "148         0.730769       0.7                       1.37178     0.899309              7.83745       \n",
      "149         0.825          0.85                      0.58402     0.95032               7.8951        \n",
      "150         0.875          0.916667                  0.519635    0.225169              7.95331       \n",
      "151         0.876923       0.683333                  0.501179    0.600248              8.01781       \n",
      "152         0.925          0.916667                  0.294061    0.249698              8.08046       \n",
      "153         0.938462       0.916667                  0.23337     0.248448              8.13894       \n",
      "154         0.875          0.7                       0.365631    0.744543              8.19618       \n",
      "155         0.916667       0.75                      0.242559    0.440639              8.25661       \n",
      "156         0.930769       0.75                      0.168799    0.486222              8.31822       \n",
      "157         0.941667       0.916667                  0.229562    0.177522              8.36598       \n",
      "158         0.892308       0.733333                  0.293359    0.499228              8.41908       \n",
      "159         0.941667       0.916667                  0.182023    0.177348              8.47687       \n",
      "160         0.958333       0.883333                  0.134127    0.333964              8.52946       \n",
      "161         0.930769       0.866667                  0.176137    0.371812              8.58425       \n"
     ]
    },
    {
     "name": "stdout",
     "output_type": "stream",
     "text": [
      "162         0.941667       0.683333                  0.158332    0.931093              8.64299       \n",
      "163         0.761538       0.916667                  0.757307    0.283601              8.71141       \n",
      "164         0.866667       0.933333                  0.369465    0.240121              8.7711        \n",
      "165         0.916667       0.916667                  0.223278    0.220241              8.82942       \n",
      "166         0.892308       0.916667                  0.266298    0.22099               8.89286       \n",
      "167         0.916667       0.866667                  0.350238    0.303539              8.9501        \n",
      "168         0.915385       0.933333                  0.298431    0.170714              9.01948       \n",
      "169         0.916667       0.933333                  0.289119    0.170987              9.07238       \n",
      "170         0.908333       0.916667                  0.399738    0.189909              9.12904       \n",
      "171         0.876923       0.883333                  0.397606    0.305687              9.18124       \n",
      "172         0.875          0.766667                  0.334592    0.726069              9.23818       \n",
      "173         0.853846       0.7                       0.383106    1.02347               9.29333       \n",
      "174         0.883333       0.716667                  0.444889    0.639098              9.34669       \n",
      "175         0.875          0.716667                  0.289415    0.750415              9.40101       \n",
      "176         0.861538       0.7                       0.312743    0.9927                9.45758       \n",
      "177         0.891667       0.733333                  0.298587    0.3659                9.50977       \n",
      "178         0.915385       0.933333                  0.241013    0.163519              9.56746       \n",
      "179         0.95           0.933333                  0.21415     0.202364              9.62507       \n",
      "180         0.891667       0.883333                  0.278781    0.41351               9.67976       \n",
      "181         0.815385       0.616667                  0.71007     1.59807               9.73923       \n",
      "182         0.841667       0.616667                  0.427723    1.90687               9.79109       \n",
      "183         0.746154       0.7                       0.936079    0.685253              9.84358       \n",
      "184         0.833333       0.9                       0.5856      0.229729              9.8955        \n",
      "185         0.9            0.9                       0.274705    0.192994              9.94795       \n",
      "186         0.930769       0.916667                  0.225865    0.160931              10.0032       \n",
      "187         0.933333       0.916667                  0.196151    0.161655              10.0523       \n",
      "188         0.930769       0.916667                  0.216966    0.163009              10.1104       \n",
      "189         0.941667       0.933333                  0.138485    0.154643              10.1677       \n",
      "190         0.95           0.716667                  0.141791    0.433683              10.2213       \n",
      "191         0.915385       0.716667                  0.232163    0.649226              10.2773       \n",
      "192         0.85           0.9                       0.528088    0.180371              10.3399       \n",
      "193         0.884615       0.9                       0.473076    0.253804              10.4016       \n",
      "194         0.908333       0.883333                  0.22428     0.344452              10.4607       \n",
      "195         0.891667       0.883333                  0.338848    0.419523              10.5216       \n",
      "196         0.915385       0.95                      0.220143    0.170613              10.5806       \n",
      "197         0.958333       0.883333                  0.135759    0.236244              10.6334       \n",
      "198         0.869231       0.916667                  0.511181    0.320901              10.6955       \n",
      "199         0.9            0.933333                  0.241094    0.169468              10.7524       \n",
      "200         0.908333       0.916667                  0.231521    0.201113              10.8088       \n",
      "201         0.930769       0.883333                  0.158324    0.41011               10.8642       \n",
      "202         0.908333       0.9                       0.269069    0.276903              10.914        \n",
      "203         0.930769       0.916667                  0.158128    0.317546              10.9663       \n",
      "204         0.916667       0.95                      0.230209    0.209406              11.0151       \n",
      "205         0.916667       0.791667                  0.191756    0.823455              11.0676       \n",
      "206         0.8            0.825                     0.674896    0.771048              11.1244       \n",
      "207         0.841667       0.825                     0.613164    0.430913              11.1784       \n",
      "208         0.9            0.883333                  0.278215    0.238633              11.2371       \n",
      "209         0.891667       0.75                      0.264705    0.503783              11.2933       \n",
      "210         0.933333       0.9                       0.248468    0.354185              11.3486       \n",
      "211         0.930769       0.933333                  0.199127    0.227758              11.4045       \n",
      "212         0.916667       0.933333                  0.230188    0.305485              11.461        \n",
      "213         0.938462       0.716667                  0.20521     0.451703              11.5174       \n",
      "214         0.9            0.9                       0.188303    0.371378              11.5703       \n",
      "215         0.891667       0.95                      0.263309    0.18148               11.6288       \n",
      "216         0.961538       0.85                      0.134922    0.325542              11.6856       \n",
      "217         0.85           0.866667                  0.334401    0.313808              11.7371       \n",
      "218         0.930769       0.75                      0.220179    0.402227              11.8003       \n",
      "219         0.95           0.7                       0.162608    0.831091              11.8565       \n",
      "220         0.866667       0.883333                  0.440983    0.250537              11.9118       \n",
      "221         0.953846       0.916667                  0.168418    0.177037              11.9707       \n",
      "222         0.95           0.933333                  0.204403    0.177034              12.0232       \n",
      "223         0.915385       0.916667                  0.221733    0.337994              12.0806       \n",
      "224         0.925          0.916667                  0.206954    0.384644              12.1364       \n",
      "225         0.933333       0.916667                  0.249641    0.187726              12.1949       \n",
      "226         0.892308       0.9                       0.211897    0.280708              12.2595       \n",
      "227         0.858333       0.933333                  0.282594    0.186445              12.3105       \n",
      "228         0.923077       0.816667                  0.247136    0.423297              12.3703       \n",
      "229         0.916667       0.9                       0.257105    0.195325              12.4215       \n",
      "230         0.95           0.933333                  0.14875     0.275196              12.4777       \n",
      "231         0.953846       0.95                      0.12093     0.177188              12.535        \n",
      "232         0.958333       0.95                      0.148492    0.161166              12.5891       \n",
      "233         0.969231       0.866667                  0.112186    0.319792              12.6508       \n",
      "234         0.966667       0.85                      0.161682    0.478866              12.7076       \n",
      "235         0.891667       0.733333                  0.24235     0.505399              12.7663       \n",
      "236         0.930769       0.916667                  0.157072    0.288041              12.8279       \n",
      "237         0.95           0.9                       0.124537    0.235973              12.8936       \n",
      "238         0.938462       0.916667                  0.151109    0.17525               12.9553       \n",
      "239         0.933333       0.916667                  0.168514    0.191112              13.0112       \n",
      "240         0.933333       0.95                      0.170528    0.152582              13.0687       \n",
      "241         0.869231       0.716667                  0.389268    0.612925              13.1223       \n",
      "242         0.916667       0.733333                  0.175209    0.552815              13.1836       \n"
     ]
    },
    {
     "name": "stdout",
     "output_type": "stream",
     "text": [
      "243         0.961538       0.716667                  0.123621    0.567409              13.2499       \n",
      "244         0.841667       0.65                      0.312519    1.45441               13.316        \n",
      "245         0.933333       0.7                       0.202099    0.717201              13.38         \n",
      "246         0.9            0.683333                  0.268594    0.932753              13.4496       \n",
      "247         0.875          0.758333                  0.316129    0.531448              13.5102       \n",
      "248         0.884615       0.683333                  0.301483    1.12026               13.5793       \n",
      "249         0.908333       0.916667                  0.284283    0.233424              13.643        \n",
      "250         0.933333       0.95                      0.186693    0.174091              13.7092       \n",
      "251         0.930769       0.916667                  0.144677    0.246126              13.7737       \n",
      "252         0.958333       0.933333                  0.118527    0.192692              13.833        \n",
      "253         0.946154       0.933333                  0.158825    0.164772              13.9021       \n",
      "254         0.941667       0.95                      0.133629    0.125457              13.9571       \n",
      "255         0.933333       0.933333                  0.16446     0.222835              14.0065       \n",
      "256         0.953846       0.933333                  0.152874    0.206814              14.0732       \n",
      "257         0.933333       0.95                      0.178911    0.18856               14.1311       \n",
      "258         0.953846       0.933333                  0.153521    0.187045              14.1896       \n",
      "259         0.941667       0.883333                  0.144315    0.277517              14.247        \n",
      "260         0.9            0.933333                  0.207475    0.134011              14.3036       \n",
      "261         0.953846       0.933333                  0.150486    0.150698              14.3656       \n",
      "262         0.95           0.916667                  0.113906    0.2543                14.4265       \n",
      "263         0.969231       0.9                       0.120397    0.247119              14.487        \n",
      "264         0.941667       0.9                       0.180566    0.26613               14.5462       \n",
      "265         0.966667       0.95                      0.122197    0.15485               14.6005       \n",
      "266         0.930769       0.95                      0.185226    0.185717              14.68         \n",
      "267         0.891667       0.75                      0.254015    0.411845              14.7363       \n",
      "268         0.969231       0.9                       0.11665     0.222015              14.7926       \n",
      "269         0.95           0.95                      0.119104    0.187546              14.8493       \n",
      "270         0.966667       0.966667                  0.133483    0.161116              14.9033       \n",
      "271         0.953846       0.9                       0.112124    0.269862              14.9643       \n",
      "272         0.975          0.916667                  0.109963    0.182309              15.0205       \n",
      "273         0.969231       0.95                      0.113221    0.147121              15.0887       \n",
      "274         0.941667       0.9                       0.177536    0.171235              15.1472       \n",
      "275         0.908333       0.916667                  0.225941    0.244957              15.203        \n",
      "276         0.846154       0.95                      0.447765    0.145918              15.2672       \n",
      "277         0.95           0.883333                  0.157509    0.272163              15.3256       \n",
      "278         0.9            0.883333                  0.240539    0.348565              15.383        \n",
      "279         0.841667       0.866667                  0.430716    0.453816              15.4402       \n",
      "280         0.95           0.7                       0.157689    0.764273              15.4929       \n",
      "281         0.923077       0.933333                  0.219082    0.211968              15.5581       \n",
      "282         0.95           0.916667                  0.130414    0.154234              15.6112       \n",
      "283         0.938462       0.933333                  0.159039    0.192654              15.6733       \n",
      "284         0.958333       0.9                       0.109064    0.240159              15.7268       \n",
      "285         0.916667       0.933333                  0.249863    0.153127              15.7932       \n",
      "286         0.923077       0.916667                  0.18847     0.142614              15.8619       \n",
      "287         0.933333       0.933333                  0.126818    0.200007              15.9246       \n",
      "288         0.938462       0.866667                  0.152162    0.352499              15.9799       \n",
      "289         0.933333       0.95                      0.170687    0.152723              16.0411       \n",
      "290         0.95           0.933333                  0.119205    0.221302              16.0941       \n",
      "291         0.961538       0.95                      0.115839    0.150829              16.1545       \n",
      "292         0.966667       0.916667                  0.0943852   0.307595              16.2101       \n",
      "293         0.923077       0.916667                  0.181147    0.279699              16.2739       \n",
      "294         0.9            0.7                       0.197354    0.809181              16.3344       \n",
      "295         0.941667       0.733333                  0.182568    0.408057              16.3978       \n",
      "296         0.892308       0.7                       0.237346    0.597146              16.4615       \n",
      "297         0.908333       0.7                       0.229657    1.07911               16.5252       \n",
      "298         0.915385       0.916667                  0.223365    0.273768              16.5954       \n",
      "299         0.966667       0.9                       0.123539    0.325943              16.6519       \n",
      "300         0.95           0.9                       0.096877    0.258473              16.7195       \n",
      "301         0.938462       0.9                       0.199196    0.229346              16.7845       \n",
      "302         0.925          0.9                       0.175653    0.221874              16.846        \n",
      "303         0.969231       0.808333                  0.0836682   0.379945              16.9067       \n",
      "304         0.95           0.916667                  0.158613    0.268717              16.9656       \n",
      "305         0.933333       0.916667                  0.169657    0.129829              17.0235       \n",
      "306         0.953846       0.916667                  0.139379    0.215704              17.0877       \n",
      "307         0.933333       0.916667                  0.148798    0.194455              17.151        \n",
      "308         0.938462       0.916667                  0.155942    0.222847              17.2214       \n",
      "309         0.966667       0.7                       0.110948    0.60735               17.2914       \n",
      "310         0.95           0.866667                  0.159375    0.379674              17.3496       \n",
      "311         0.930769       0.933333                  0.177823    0.17089               17.4157       \n",
      "312         0.975          0.95                      0.101459    0.132215              17.4824       \n",
      "313         0.946154       0.916667                  0.0978714   0.258194              17.5482       \n",
      "314         0.958333       0.916667                  0.105679    0.144747              17.608        \n",
      "315         0.958333       0.916667                  0.101074    0.229952              17.6752       \n",
      "316         0.969231       0.916667                  0.143346    0.189713              17.7451       \n",
      "317         0.908333       0.916667                  0.245172    0.271583              17.804        \n",
      "318         0.938462       0.9                       0.201993    0.281535              17.8746       \n",
      "319         0.95           0.916667                  0.130928    0.20475               17.9371       \n",
      "320         0.975          0.966667                  0.123309    0.150097              18.002        \n",
      "321         0.946154       0.9                       0.138699    0.299714              18.0659       \n",
      "322         0.941667       0.916667                  0.162001    0.255014              18.1287       \n",
      "323         0.953846       0.883333                  0.116549    0.316574              18.1921       \n"
     ]
    },
    {
     "name": "stdout",
     "output_type": "stream",
     "text": [
      "324         0.916667       0.791667                  0.258916    0.642925              18.2556       \n",
      "325         0.833333       0.916667                  0.447067    0.202288              18.3267       \n",
      "326         0.884615       0.916667                  0.314494    0.24668               18.3921       \n",
      "327         0.891667       0.791667                  0.310962    0.518524              18.4565       \n",
      "328         0.792308       0.666667                  0.720274    1.31859               18.5248       \n",
      "329         0.775          0.65                      0.970413    2.13995               18.5884       \n",
      "330         0.891667       0.866667                  0.300826    0.303579              18.6506       \n",
      "331         0.946154       0.933333                  0.147825    0.117437              18.7147       \n",
      "332         0.916667       0.883333                  0.190477    0.229885              18.7763       \n",
      "333         0.907692       0.966667                  0.258051    0.128737              18.8461       \n",
      "334         0.933333       0.916667                  0.158109    0.112266              18.9097       \n",
      "335         0.933333       0.933333                  0.111748    0.24063               18.9723       \n",
      "336         0.915385       0.733333                  0.157793    0.468617              19.0325       \n",
      "337         0.866667       0.733333                  0.278433    0.559227              19.0962       \n",
      "338         0.915385       0.733333                  0.220618    0.673051              19.1612       \n",
      "339         0.908333       0.9                       0.289697    0.210813              19.2211       \n",
      "340         0.925          0.966667                  0.19544     0.138923              19.2857       \n",
      "341         0.953846       0.95                      0.11679     0.161582              19.3527       \n",
      "342         0.958333       0.95                      0.113851    0.151355              19.4189       \n",
      "343         0.946154       0.933333                  0.128875    0.122419              19.4792       \n",
      "344         0.95           0.966667                  0.116739    0.155822              19.5387       \n",
      "345         0.958333       0.95                      0.102241    0.158492              19.6002       \n",
      "346         0.961538       0.95                      0.104887    0.162043              19.6625       \n",
      "347         0.933333       0.933333                  0.155789    0.162578              19.7234       \n",
      "348         0.923077       0.95                      0.196637    0.162687              19.7834       \n",
      "349         0.941667       0.775                     0.170598    0.397262              19.8509       \n",
      "350         0.866667       0.716667                  0.318749    0.535739              19.9132       \n",
      "351         0.915385       0.7                       0.268829    0.851411              19.9747       \n",
      "352         0.858333       0.716667                  0.414048    0.62727               20.0392       \n",
      "353         0.876923       0.75                      0.296746    0.461268              20.1032       \n",
      "354         0.883333       0.9                       0.347433    0.273923              20.165        \n",
      "355         0.9            0.933333                  0.251407    0.151772              20.2316       \n",
      "356         0.969231       0.933333                  0.152227    0.334302              20.2944       \n",
      "357         0.916667       0.916667                  0.197505    0.329178              20.3638       \n",
      "358         0.915385       0.9                       0.23267     0.204488              20.4357       \n",
      "359         0.95           0.833333                  0.132499    0.406698              20.5036       \n",
      "360         0.916667       0.666667                  0.224293    1.18227               20.5651       \n",
      "361         0.876923       0.683333                  0.273839    1.18211               20.6322       \n",
      "362         0.858333       0.75                      0.364693    0.494988              20.6985       \n",
      "363         0.861538       0.85                      0.487564    0.355272              20.7694       \n",
      "364         0.933333       0.933333                  0.154173    0.165783              20.8471       \n",
      "365         0.941667       0.933333                  0.144521    0.185524              20.9134       \n",
      "366         0.953846       0.883333                  0.136477    0.265421              20.9785       \n",
      "367         0.95           0.9                       0.131167    0.251711              21.0382       \n",
      "368         0.969231       0.883333                  0.156837    0.3001                21.108        \n",
      "369         0.95           0.95                      0.132983    0.197973              21.1779       \n",
      "370         0.941667       0.933333                  0.142358    0.132682              21.2478       \n",
      "371         0.938462       0.95                      0.130302    0.151423              21.312        \n",
      "372         0.958333       0.95                      0.100863    0.151421              21.3743       \n",
      "373         0.946154       0.733333                  0.117457    0.68666               21.4418       \n",
      "374         0.958333       0.883333                  0.149342    0.290055              21.5048       \n",
      "375         0.95           0.916667                  0.178852    0.225813              21.5706       \n",
      "376         0.946154       0.933333                  0.151327    0.126268              21.6379       \n",
      "377         0.916667       0.966667                  0.134061    0.135515              21.7001       \n",
      "378         0.961538       0.95                      0.10407     0.165089              21.7671       \n",
      "379         0.966667       0.9                       0.0902703   0.246449              21.8308       \n",
      "380         0.975          0.933333                  0.0981402   0.167909              21.8925       \n",
      "381         0.938462       0.933333                  0.206043    0.237603              21.9568       \n",
      "382         0.933333       0.916667                  0.136307    0.179662              22.024        \n",
      "383         0.892308       0.883333                  0.381882    0.262548              22.0966       \n",
      "384         0.916667       0.95                      0.281655    0.130712              22.1605       \n",
      "385         0.95           0.95                      0.150404    0.178923              22.2295       \n",
      "386         0.969231       0.95                      0.0928692   0.165891              22.3021       \n",
      "387         0.958333       0.933333                  0.107638    0.27222               22.3605       \n",
      "388         0.969231       0.916667                  0.10846     0.192181              22.4349       \n",
      "389         0.958333       0.933333                  0.103954    0.143663              22.4989       \n",
      "390         0.95           0.933333                  0.112211    0.166724              22.5669       \n",
      "391         0.953846       0.933333                  0.109425    0.167379              22.6374       \n",
      "392         0.941667       0.9                       0.127925    0.263869              22.6953       \n",
      "393         0.953846       0.775                     0.139205    0.399991              22.7594       \n",
      "394         0.941667       0.916667                  0.183244    0.4346                22.8237       \n",
      "395         0.908333       0.916667                  0.248616    0.166074              22.8868       \n",
      "396         0.9            0.916667                  0.227328    0.170829              22.9547       \n",
      "397         0.925          0.916667                  0.163592    0.191105              23.0228       \n",
      "398         0.946154       0.966667                  0.146009    0.15208               23.0923       \n",
      "399         0.966667       0.833333                  0.0955356   0.334361              23.1571       \n",
      "400         0.95           0.916667                  0.147877    0.232456              23.2182       \n",
      "401         0.892308       0.933333                  0.177052    0.120883              23.2872       \n",
      "402         0.958333       0.916667                  0.114359    0.153475              23.3503       \n",
      "403         0.938462       0.916667                  0.160689    0.365173              23.415        \n",
      "404         0.916667       0.883333                  0.252955    0.358553              23.4776       \n"
     ]
    },
    {
     "name": "stdout",
     "output_type": "stream",
     "text": [
      "405         0.958333       0.75                      0.116639    0.509442              23.5442       \n",
      "406         0.953846       0.791667                  0.139104    0.330011              23.6137       \n",
      "407         0.925          0.866667                  0.150402    0.367419              23.6769       \n",
      "408         0.976923       0.916667                  0.128596    0.247514              23.7434       \n",
      "409         0.975          0.9                       0.111196    0.273701              23.8147       \n",
      "410         0.975          0.9                       0.112953    0.278665              23.888        \n",
      "411         0.946154       0.775                     0.124895    0.462579              23.9555       \n",
      "412         0.916667       0.833333                  0.228068    0.380811              24.0257       \n",
      "413         0.9            0.933333                  0.233241    0.233596              24.0874       \n",
      "414         0.85           0.933333                  0.460529    0.253526              24.1539       \n",
      "415         0.9            0.716667                  0.225219    0.720089              24.2234       \n",
      "416         0.938462       0.75                      0.168109    0.382577              24.292        \n",
      "417         0.941667       0.933333                  0.184652    0.21323               24.3664       \n",
      "418         0.938462       0.916667                  0.163492    0.186971              24.4346       \n",
      "419         0.933333       0.95                      0.112721    0.127096              24.5108       \n",
      "420         0.958333       0.95                      0.119596    0.127097              24.5805       \n",
      "421         0.953846       0.95                      0.113693    0.126577              24.6527       \n",
      "422         0.941667       0.916667                  0.128572    0.153429              24.7138       \n",
      "423         0.969231       0.95                      0.099815    0.166202              24.7843       \n",
      "424         0.975          0.933333                  0.0953327   0.116104              24.8539       \n",
      "425         0.941667       0.916667                  0.128314    0.349219              24.9198       \n",
      "426         0.946154       0.933333                  0.175977    0.123564              24.9931       \n",
      "427         0.916667       0.833333                  0.242809    0.391592              25.0554       \n",
      "428         0.907692       0.966667                  0.236814    0.139837              25.1227       \n",
      "429         0.958333       0.866667                  0.124097    0.362131              25.1846       \n",
      "430         0.883333       0.916667                  0.293735    0.283451              25.2525       \n",
      "431         0.923077       0.9                       0.214531    0.236319              25.3238       \n",
      "432         0.958333       0.95                      0.136059    0.11059               25.3898       \n",
      "433         0.938462       0.916667                  0.145629    0.223615              25.454        \n",
      "434         0.908333       0.933333                  0.299056    0.170319              25.5214       \n",
      "435         0.891667       0.825                     0.306772    0.340851              25.5913       \n",
      "436         0.923077       0.933333                  0.162299    0.165457              25.661        \n",
      "437         0.966667       0.933333                  0.0981251   0.180661              25.7309       \n",
      "438         0.969231       0.9                       0.0999057   0.201093              25.8076       \n",
      "439         0.925          0.916667                  0.126313    0.182375              25.8792       \n",
      "440         0.941667       0.883333                  0.140954    0.295452              25.9434       \n",
      "441         0.938462       0.966667                  0.181373    0.16283               26.0112       \n",
      "442         0.958333       0.933333                  0.093766    0.295827              26.0799       \n",
      "443         0.930769       0.95                      0.174105    0.117429              26.1527       \n",
      "444         0.975          0.95                      0.104846    0.138696              26.2165       \n",
      "445         0.95           0.9                       0.130277    0.24094               26.2819       \n",
      "446         0.930769       0.808333                  0.175832    0.317517              26.3477       \n",
      "447         0.95           0.933333                  0.177049    0.178553              26.4132       \n",
      "448         0.938462       0.9                       0.131875    0.30642               26.4829       \n",
      "449         0.933333       0.716667                  0.175962    0.503887              26.5585       \n",
      "450         0.875          0.9                       0.336818    0.179908              26.6326       \n",
      "451         0.938462       0.916667                  0.194602    0.214761              26.703        \n",
      "452         0.941667       0.716667                  0.166696    0.55634               26.7695       \n",
      "453         0.930769       0.883333                  0.155028    0.292302              26.8434       \n",
      "454         0.916667       0.916667                  0.192723    0.169743              26.9112       \n",
      "455         0.95           0.916667                  0.10926     0.229082              26.9856       \n",
      "456         0.930769       0.825                     0.154254    0.347723              27.0547       \n",
      "457         0.966667       0.858333                  0.143798    0.273767              27.1271       \n",
      "458         0.961538       0.791667                  0.131514    0.496341              27.2076       \n",
      "459         0.925          0.9                       0.158965    0.254445              27.2792       \n",
      "460         0.933333       0.916667                  0.139848    0.172752              27.3419       \n",
      "461         0.938462       0.95                      0.141429    0.108571              27.4145       \n",
      "462         0.908333       0.933333                  0.183008    0.158628              27.4832       \n",
      "463         0.946154       0.9                       0.164857    0.283049              27.5582       \n",
      "464         0.966667       0.966667                  0.0842067   0.143678              27.62         \n",
      "465         0.966667       0.966667                  0.089648    0.140913              27.6905       \n",
      "466         0.969231       0.966667                  0.0872331   0.145697              27.7657       \n",
      "467         0.966667       0.916667                  0.107013    0.219656              27.8273       \n",
      "468         0.976923       0.916667                  0.0793639   0.191053              27.9017       \n",
      "469         0.966667       0.933333                  0.109998    0.195347              27.9709       \n",
      "470         0.983333       0.933333                  0.0916011   0.116492              28.0424       \n",
      "471         0.969231       0.916667                  0.103584    0.24463               28.1129       \n",
      "472         0.958333       0.933333                  0.0883384   0.185721              28.1844       \n",
      "473         0.976923       0.95                      0.0898757   0.14418               28.2624       \n",
      "474         0.966667       0.891667                  0.110931    0.257149              28.3329       \n",
      "475         0.966667       0.95                      0.114004    0.183205              28.3994       \n",
      "476         0.915385       0.883333                  0.171956    0.291198              28.4714       \n",
      "477         0.85           0.916667                  0.342826    0.240756              28.5452       \n",
      "478         0.938462       0.916667                  0.166138    0.221726              28.6182       \n",
      "479         0.941667       0.866667                  0.116007    0.269596              28.6939       \n",
      "480         0.958333       0.933333                  0.118205    0.137344              28.7602       \n",
      "481         0.930769       0.933333                  0.165778    0.136714              28.8341       \n",
      "482         0.966667       0.9                       0.10601     0.215187              28.9102       \n",
      "483         0.953846       0.95                      0.115776    0.148409              28.9769       \n",
      "484         0.966667       0.966667                  0.0940805   0.145049              29.0525       \n",
      "485         0.958333       0.916667                  0.0973876   0.218386              29.1206       \n"
     ]
    },
    {
     "name": "stdout",
     "output_type": "stream",
     "text": [
      "486         0.961538       0.95                      0.103591    0.155147              29.2029       \n",
      "487         0.966667       0.966667                  0.0934997   0.140342              29.2793       \n",
      "488         0.969231       0.9                       0.0835837   0.280936              29.3543       \n",
      "489         0.933333       0.875                     0.105759    0.198824              29.4229       \n",
      "490         0.95           0.766667                  0.177936    0.448869              29.5071       \n",
      "491         0.938462       0.933333                  0.115576    0.11826               29.5895       \n",
      "492         0.925          0.808333                  0.135884    0.511909              29.6689       \n",
      "493         0.938462       0.95                      0.112663    0.118925              29.7473       \n",
      "494         0.933333       0.95                      0.162607    0.110317              29.8225       \n",
      "495         0.958333       0.933333                  0.0938741   0.195147              29.8959       \n",
      "496         0.946154       0.916667                  0.0924339   0.180327              29.9562       \n",
      "497         0.941667       0.808333                  0.141598    0.416662              30.021        \n",
      "498         0.969231       0.95                      0.10244     0.115597              30.0949       \n",
      "499         0.95           0.933333                  0.133694    0.132749              30.1643       \n",
      "500         0.933333       0.933333                  0.150603    0.163358              30.2343       \n"
     ]
    }
   ],
   "source": [
    "trainer.run()"
   ]
  },
  {
   "cell_type": "markdown",
   "metadata": {},
   "source": [
    "訓練データに対しては93％近くになっている  \n",
    "テストデータに対しても93％程  \n",
    "上手くいっている。"
   ]
  },
  {
   "cell_type": "markdown",
   "metadata": {},
   "source": [
    "## 実行結果を確認する\n",
    "出力したログファイルを読み込む"
   ]
  },
  {
   "cell_type": "code",
   "execution_count": 111,
   "metadata": {},
   "outputs": [],
   "source": [
    "import json"
   ]
  },
  {
   "cell_type": "code",
   "execution_count": 112,
   "metadata": {},
   "outputs": [],
   "source": [
    "with open('result/wine/log') as f:\n",
    "    logs = json.load(f)"
   ]
  },
  {
   "cell_type": "markdown",
   "metadata": {},
   "source": [
    "辞書型のリストは扱いにくいので、Pandasを利用する。"
   ]
  },
  {
   "cell_type": "code",
   "execution_count": 113,
   "metadata": {},
   "outputs": [],
   "source": [
    "results = pd.DataFrame(logs)"
   ]
  },
  {
   "cell_type": "markdown",
   "metadata": {},
   "source": [
    "### 精度の部分の学習の状況を表示する。"
   ]
  },
  {
   "cell_type": "code",
   "execution_count": 114,
   "metadata": {},
   "outputs": [],
   "source": [
    "# NoteBook上でグラフを表示するために。\n",
    "%matplotlib inline"
   ]
  },
  {
   "cell_type": "code",
   "execution_count": 115,
   "metadata": {},
   "outputs": [
    {
     "data": {
      "text/html": [
       "<div>\n",
       "<style scoped>\n",
       "    .dataframe tbody tr th:only-of-type {\n",
       "        vertical-align: middle;\n",
       "    }\n",
       "\n",
       "    .dataframe tbody tr th {\n",
       "        vertical-align: top;\n",
       "    }\n",
       "\n",
       "    .dataframe thead th {\n",
       "        text-align: right;\n",
       "    }\n",
       "</style>\n",
       "<table border=\"1\" class=\"dataframe\">\n",
       "  <thead>\n",
       "    <tr style=\"text-align: right;\">\n",
       "      <th></th>\n",
       "      <th>main/accuracy</th>\n",
       "      <th>validation/main/accuracy</th>\n",
       "    </tr>\n",
       "  </thead>\n",
       "  <tbody>\n",
       "    <tr>\n",
       "      <th>0</th>\n",
       "      <td>0.415385</td>\n",
       "      <td>0.408333</td>\n",
       "    </tr>\n",
       "    <tr>\n",
       "      <th>1</th>\n",
       "      <td>0.483333</td>\n",
       "      <td>0.550000</td>\n",
       "    </tr>\n",
       "    <tr>\n",
       "      <th>2</th>\n",
       "      <td>0.615385</td>\n",
       "      <td>0.516667</td>\n",
       "    </tr>\n",
       "    <tr>\n",
       "      <th>3</th>\n",
       "      <td>0.516667</td>\n",
       "      <td>0.566667</td>\n",
       "    </tr>\n",
       "    <tr>\n",
       "      <th>4</th>\n",
       "      <td>0.533333</td>\n",
       "      <td>0.675000</td>\n",
       "    </tr>\n",
       "  </tbody>\n",
       "</table>\n",
       "</div>"
      ],
      "text/plain": [
       "   main/accuracy  validation/main/accuracy\n",
       "0       0.415385                  0.408333\n",
       "1       0.483333                  0.550000\n",
       "2       0.615385                  0.516667\n",
       "3       0.516667                  0.566667\n",
       "4       0.533333                  0.675000"
      ]
     },
     "execution_count": 115,
     "metadata": {},
     "output_type": "execute_result"
    }
   ],
   "source": [
    "# 凡例も表示してくれている。\n",
    "results[['main/accuracy', 'validation/main/accuracy']].head()"
   ]
  },
  {
   "cell_type": "code",
   "execution_count": 116,
   "metadata": {},
   "outputs": [
    {
     "data": {
      "text/plain": [
       "<matplotlib.axes._subplots.AxesSubplot at 0x6b265c0>"
      ]
     },
     "execution_count": 116,
     "metadata": {},
     "output_type": "execute_result"
    },
    {
     "data": {
      "image/png": "[encoded data removed]",
      "text/plain": [
       "<Figure size 432x288 with 1 Axes>"
      ]
     },
     "metadata": {
      "needs_background": "light"
     },
     "output_type": "display_data"
    }
   ],
   "source": [
    "# 凡例も表示してくれている。\n",
    "results[['main/accuracy', 'validation/main/accuracy']].plot()"
   ]
  },
  {
   "cell_type": "markdown",
   "metadata": {},
   "source": [
    "### loss（損失関数）についても表示してみる"
   ]
  },
  {
   "cell_type": "code",
   "execution_count": 117,
   "metadata": {
    "scrolled": false
   },
   "outputs": [
    {
     "data": {
      "text/plain": [
       "<matplotlib.axes._subplots.AxesSubplot at 0x6887a58>"
      ]
     },
     "execution_count": 117,
     "metadata": {},
     "output_type": "execute_result"
    },
    {
     "data": {
      "image/png": "[encoded data removed]",
      "text/plain": [
       "<Figure size 432x288 with 1 Axes>"
      ]
     },
     "metadata": {
      "needs_background": "light"
     },
     "output_type": "display_data"
    }
   ],
   "source": [
    "results[['main/loss', 'validation/main/loss']].plot()"
   ]
  },
  {
   "cell_type": "markdown",
   "metadata": {},
   "source": [
    "一応下がってるが、精度としては上手くいっていない。  \n",
    "実運用できる精度ではない。"
   ]
  },
  {
   "cell_type": "markdown",
   "metadata": {},
   "source": [
    "# 実務でもよく使うものについて\n",
    "バッチノーマリゼーション  \n",
    "バッチごとに標準化を行う  \n",
    "- 標準化 → 平均0・標準偏差1にする  \n",
    "  \n",
    "今回のケースはとても精度が向上した。"
   ]
  },
  {
   "cell_type": "code",
   "execution_count": 118,
   "metadata": {},
   "outputs": [],
   "source": [
    "class NN(chainer.Chain):\n",
    "    \n",
    "    # モデルの構造\n",
    "    def __init__(self, n_mid_units=5, n_out=3):  # 中間層と出力層のはインスタンス化時に、引数として受けとる。\n",
    "        super().__init__()\n",
    "        with self.init_scope():\n",
    "            self.fc1 = L.Linear(None, n_mid_units)  # Chainerは入力層を『None』にすると、自動で認識してくれる。\n",
    "            self.fc2 = L.Linear(None, n_out)\n",
    "            # Batch Normalization\n",
    "            self.bn = L.BatchNormalization(10)  # 追記\n",
    "            \n",
    "    # 順伝播\n",
    "    def __call__(self, x):\n",
    "        h = self.bn(x)\n",
    "        h = self.fc1(h)  # 変数の確保を１つにする。\n",
    "        h = F.relu(h)\n",
    "        h = self.fc2(h)\n",
    "        return h"
   ]
  },
  {
   "cell_type": "markdown",
   "metadata": {},
   "source": [
    "## インスタンス化\n",
    "\n",
    "シードの固定を忘れないようにする。"
   ]
  },
  {
   "cell_type": "code",
   "execution_count": 119,
   "metadata": {},
   "outputs": [],
   "source": [
    "import numpy as np"
   ]
  },
  {
   "cell_type": "code",
   "execution_count": 120,
   "metadata": {},
   "outputs": [],
   "source": [
    "np.random.seed(3)\n",
    "nn = NN(n_mid_units=5, n_out=3)  # 引数は省略可能"
   ]
  },
  {
   "cell_type": "markdown",
   "metadata": {},
   "source": [
    "モデルの学習方法等を管理するための、『Classifier』を利用する。"
   ]
  },
  {
   "cell_type": "code",
   "execution_count": 121,
   "metadata": {},
   "outputs": [],
   "source": [
    "model = L.Classifier(nn)"
   ]
  },
  {
   "cell_type": "markdown",
   "metadata": {},
   "source": [
    "## データセットの作成\n",
    "Chainerで推奨されている形式に変換する必要がある。\n",
    "\n",
    "データをタプルでかこう必要がある。\"zip()\"でできる。\n",
    "\n",
    "そのデータをリストにする。"
   ]
  },
  {
   "cell_type": "code",
   "execution_count": 122,
   "metadata": {},
   "outputs": [],
   "source": [
    "dateset = list(zip(x, t))"
   ]
  },
  {
   "cell_type": "markdown",
   "metadata": {},
   "source": [
    "## 訓練データと検証データに分割\n",
    "Chainer内のものを使用する。"
   ]
  },
  {
   "cell_type": "code",
   "execution_count": 123,
   "metadata": {},
   "outputs": [],
   "source": [
    "import chainer"
   ]
  },
  {
   "cell_type": "code",
   "execution_count": 124,
   "metadata": {},
   "outputs": [
    {
     "data": {
      "text/plain": [
       "124"
      ]
     },
     "execution_count": 124,
     "metadata": {},
     "output_type": "execute_result"
    }
   ],
   "source": [
    "# 学習データを7割にする。\n",
    "n_train = int(len(dateset)*0.7)\n",
    "n_train"
   ]
  },
  {
   "cell_type": "code",
   "execution_count": 125,
   "metadata": {},
   "outputs": [],
   "source": [
    "# 今回のデータは整列されて格納されているため、『random』で分割することが重要である。\n",
    "train, test = chainer.datasets.split_dataset_random(dateset, n_train, seed=1)  # シードを指定するのを忘れないようにする。"
   ]
  },
  {
   "cell_type": "markdown",
   "metadata": {},
   "source": [
    "## 学習するための設定\n",
    "  \n",
    "  \n",
    "#### Optimizerの設定\n",
    "\n",
    "重みを最適化するアルゴリズムを選択する部分  \n",
    "今回は、『確率的勾配降下法』を利用する。"
   ]
  },
  {
   "cell_type": "code",
   "execution_count": 126,
   "metadata": {},
   "outputs": [],
   "source": [
    "optimizer = chainer.optimizers.SGD()  # 確率的勾配降下法"
   ]
  },
  {
   "cell_type": "code",
   "execution_count": 127,
   "metadata": {},
   "outputs": [
    {
     "data": {
      "text/plain": [
       "<chainer.optimizers.sgd.SGD at 0x10e86550>"
      ]
     },
     "execution_count": 127,
     "metadata": {},
     "output_type": "execute_result"
    }
   ],
   "source": [
    "optimizer.setup(model)"
   ]
  },
  {
   "cell_type": "markdown",
   "metadata": {},
   "source": [
    "#### Iteratorの設定\n",
    "バッチサイズが重要になる  \n",
    "  \n",
    "- ミニバッチ学習  \n",
    "データが100万有ると仮定した場合、  \n",
    "『batchsize』を100に設定することで、  \n",
    "『1epoch』（全データを１回使って学習）で  \n",
    "『iteration』（パラメータの更新）が10000回  になる。\n",
    "  \n"
   ]
  },
  {
   "cell_type": "code",
   "execution_count": 128,
   "metadata": {},
   "outputs": [],
   "source": [
    "# データに応じてサイズを決定\n",
    "batchsize = 10"
   ]
  },
  {
   "cell_type": "code",
   "execution_count": 129,
   "metadata": {},
   "outputs": [],
   "source": [
    "# 学習とテスト用のIteratorを設定する。\n",
    "train_iter = chainer.iterators.SerialIterator(train, batchsize)\n",
    "# テストの設定をする。\n",
    "test_iter = chainer.iterators.SerialIterator(test, batchsize, repeat=False, shuffle=False)"
   ]
  },
  {
   "cell_type": "markdown",
   "metadata": {},
   "source": [
    "## Updaterの設定\n",
    "引数の『device』で使用するデバイスを設定する。\n",
    "- CPU: -1\n",
    "- GPU: 0～\n",
    "\n",
    "※GPUは使用する準備を行ってから設定しなければならない。  \n",
    "　GPU時の指定は、数字で使用するGPUの番号を指定する。"
   ]
  },
  {
   "cell_type": "code",
   "execution_count": 130,
   "metadata": {},
   "outputs": [],
   "source": [
    "from chainer import training"
   ]
  },
  {
   "cell_type": "code",
   "execution_count": 131,
   "metadata": {},
   "outputs": [],
   "source": [
    "updater = training.StandardUpdater(train_iter, optimizer, device=-1)"
   ]
  },
  {
   "cell_type": "markdown",
   "metadata": {},
   "source": [
    "## TrainerとExtensionsの設定\n",
    "\n"
   ]
  },
  {
   "cell_type": "code",
   "execution_count": 132,
   "metadata": {},
   "outputs": [],
   "source": [
    "from chainer.training import extensions"
   ]
  },
  {
   "cell_type": "code",
   "execution_count": 133,
   "metadata": {},
   "outputs": [],
   "source": [
    "# epochの数\n",
    "epoch = 50"
   ]
  },
  {
   "cell_type": "code",
   "execution_count": 134,
   "metadata": {},
   "outputs": [],
   "source": [
    "# Trainerの宣言\n",
    "# outは『Classifier』を利用している際に、出力されるログを保存するパスを記載する。\n",
    "trainer = training.Trainer(updater, (epoch, 'epoch'), out='result/wine')"
   ]
  },
  {
   "cell_type": "code",
   "execution_count": 135,
   "metadata": {},
   "outputs": [],
   "source": [
    "# 検証データで評価\n",
    "trainer.extend(extensions.Evaluator(test_iter, model, device=-1))  # ここでも『device』の設定が必要\n",
    "\n",
    "trainer.extend(extensions.LogReport(trigger=(1, 'epoch')))  # ログ出力の頻度は１エポックごとに出力"
   ]
  },
  {
   "cell_type": "markdown",
   "metadata": {},
   "source": [
    "1エポックごと（trigger）に\n",
    "- trainデータに対するloss\n",
    "- testデータに対するloss\n",
    "- testデータに対するaccuracy（どれだけ正解したか？）\n",
    "- 経過時間の出力\n",
    "  \n",
    "    "
   ]
  },
  {
   "cell_type": "code",
   "execution_count": 136,
   "metadata": {},
   "outputs": [],
   "source": [
    "trainer.extend(extensions.PrintReport(['epoch', 'main/accuracy', 'validation/main/accuracy', 'main/loss', 'validation/main/loss', 'elapsed_time']), trigger=(1, 'epoch'))"
   ]
  },
  {
   "cell_type": "markdown",
   "metadata": {},
   "source": [
    "# 設定の完了"
   ]
  },
  {
   "cell_type": "markdown",
   "metadata": {},
   "source": [
    "# 学習の実行"
   ]
  },
  {
   "cell_type": "code",
   "execution_count": 137,
   "metadata": {},
   "outputs": [
    {
     "name": "stdout",
     "output_type": "stream",
     "text": [
      "epoch       main/accuracy  validation/main/accuracy  main/loss   validation/main/loss  elapsed_time\n",
      "1           0.346154       0.325                     1.21069     2.05515               0.0889319     \n",
      "2           0.458333       0.341667                  1.07995     1.1645                0.115479      \n",
      "3           0.461538       0.491667                  1.02054     1.02466               0.144803      \n",
      "4           0.541667       0.591667                  0.96666     0.969563              0.171898      \n",
      "5           0.566667       0.608333                  0.927429    0.925309              0.198827      \n",
      "6           0.646154       0.625                     0.891625    0.873216              0.226226      \n",
      "7           0.6            0.641667                  0.895698    0.833839              0.253571      \n",
      "8           0.669231       0.658333                  0.821431    0.814351              0.282601      \n",
      "9           0.7            0.675                     0.779918    0.773943              0.309974      \n",
      "10          0.725          0.675                     0.749414    0.741281              0.337774      \n",
      "11          0.753846       0.691667                  0.734163    0.714827              0.367465      \n",
      "12          0.716667       0.708333                  0.712599    0.688214              0.396129      \n",
      "13          0.746154       0.708333                  0.727678    0.661724              0.424971      \n",
      "14          0.841667       0.725                     0.647566    0.658176              0.452786      \n",
      "15          0.808333       0.741667                  0.695989    0.632337              0.480503      \n",
      "16          0.8            0.783333                  0.656389    0.613146              0.510805      \n",
      "17          0.858333       0.8                       0.623183    0.601513              0.540905      \n",
      "18          0.846154       0.816667                  0.608498    0.581529              0.571219      \n",
      "19          0.816667       0.833333                  0.578025    0.565878              0.599896      \n",
      "20          0.841667       0.833333                  0.594106    0.55044               0.62743       \n",
      "21          0.884615       0.833333                  0.524672    0.53559               0.65684       \n",
      "22          0.85           0.833333                  0.545396    0.521706              0.684995      \n",
      "23          0.876923       0.866667                  0.556864    0.508759              0.71734       \n",
      "24          0.875          0.85                      0.532888    0.490873              0.746653      \n",
      "25          0.875          0.9                       0.508804    0.477293              0.775639      \n",
      "26          0.907692       0.9                       0.47763     0.475245              0.806632      \n",
      "27          0.908333       0.883333                  0.47835     0.463835              0.835855      \n",
      "28          0.915385       0.9                       0.467827    0.447388              0.865568      \n",
      "29          0.9            0.916667                  0.454896    0.45111               0.893623      \n",
      "30          0.908333       0.916667                  0.461127    0.437655              0.922602      \n",
      "31          0.892308       0.916667                  0.47117     0.427312              0.953106      \n",
      "32          0.883333       0.916667                  0.471436    0.418553              0.98185       \n",
      "33          0.876923       0.916667                  0.441368    0.41719               1.01305       \n",
      "34          0.916667       0.916667                  0.425216    0.407398              1.04147       \n",
      "35          0.858333       0.916667                  0.4472      0.398924              1.07011       \n",
      "36          0.938462       0.916667                  0.382068    0.393838              1.10181       \n",
      "37          0.916667       0.933333                  0.419956    0.385221              1.1314        \n",
      "38          0.869231       0.933333                  0.432255    0.379112              1.16155       \n",
      "39          0.908333       0.933333                  0.410509    0.375276              1.18988       \n",
      "40          0.891667       0.933333                  0.448698    0.36487               1.21906       \n",
      "41          0.923077       0.933333                  0.380964    0.369119              1.24989       \n",
      "42          0.925          0.933333                  0.36666     0.355601              1.27946       \n",
      "43          0.907692       0.933333                  0.390547    0.34939               1.30945       \n",
      "44          0.941667       0.933333                  0.373337    0.345519              1.34242       \n",
      "45          0.883333       0.933333                  0.43067     0.336673              1.37323       \n",
      "46          0.923077       0.933333                  0.395795    0.338756              1.40671       \n",
      "47          0.958333       0.933333                  0.333569    0.334066              1.43598       \n",
      "48          0.907692       0.933333                  0.359105    0.329381              1.46836       \n",
      "49          0.858333       0.933333                  0.430835    0.318415              1.49975       \n",
      "50          0.983333       0.933333                  0.306922    0.320865              1.53251       \n"
     ]
    }
   ],
   "source": [
    "trainer.run()"
   ]
  },
  {
   "cell_type": "markdown",
   "metadata": {},
   "source": [
    "バッチノーマライゼーションをするだけで相当精度が向上した。"
   ]
  },
  {
   "cell_type": "markdown",
   "metadata": {},
   "source": [
    "## 実行結果を確認する\n",
    "出力したログファイルを読み込む"
   ]
  },
  {
   "cell_type": "code",
   "execution_count": 138,
   "metadata": {},
   "outputs": [],
   "source": [
    "import json"
   ]
  },
  {
   "cell_type": "code",
   "execution_count": 139,
   "metadata": {},
   "outputs": [],
   "source": [
    "with open('result/wine/log') as f:\n",
    "    logs = json.load(f)"
   ]
  },
  {
   "cell_type": "code",
   "execution_count": 140,
   "metadata": {},
   "outputs": [],
   "source": [
    "results = pd.DataFrame(logs)"
   ]
  },
  {
   "cell_type": "markdown",
   "metadata": {},
   "source": [
    "### 精度の部分の学習の状況を表示する。"
   ]
  },
  {
   "cell_type": "code",
   "execution_count": 141,
   "metadata": {},
   "outputs": [
    {
     "data": {
      "text/html": [
       "<div>\n",
       "<style scoped>\n",
       "    .dataframe tbody tr th:only-of-type {\n",
       "        vertical-align: middle;\n",
       "    }\n",
       "\n",
       "    .dataframe tbody tr th {\n",
       "        vertical-align: top;\n",
       "    }\n",
       "\n",
       "    .dataframe thead th {\n",
       "        text-align: right;\n",
       "    }\n",
       "</style>\n",
       "<table border=\"1\" class=\"dataframe\">\n",
       "  <thead>\n",
       "    <tr style=\"text-align: right;\">\n",
       "      <th></th>\n",
       "      <th>main/accuracy</th>\n",
       "      <th>validation/main/accuracy</th>\n",
       "    </tr>\n",
       "  </thead>\n",
       "  <tbody>\n",
       "    <tr>\n",
       "      <th>0</th>\n",
       "      <td>0.346154</td>\n",
       "      <td>0.325000</td>\n",
       "    </tr>\n",
       "    <tr>\n",
       "      <th>1</th>\n",
       "      <td>0.458333</td>\n",
       "      <td>0.341667</td>\n",
       "    </tr>\n",
       "    <tr>\n",
       "      <th>2</th>\n",
       "      <td>0.461538</td>\n",
       "      <td>0.491667</td>\n",
       "    </tr>\n",
       "    <tr>\n",
       "      <th>3</th>\n",
       "      <td>0.541667</td>\n",
       "      <td>0.591667</td>\n",
       "    </tr>\n",
       "    <tr>\n",
       "      <th>4</th>\n",
       "      <td>0.566667</td>\n",
       "      <td>0.608333</td>\n",
       "    </tr>\n",
       "  </tbody>\n",
       "</table>\n",
       "</div>"
      ],
      "text/plain": [
       "   main/accuracy  validation/main/accuracy\n",
       "0       0.346154                  0.325000\n",
       "1       0.458333                  0.341667\n",
       "2       0.461538                  0.491667\n",
       "3       0.541667                  0.591667\n",
       "4       0.566667                  0.608333"
      ]
     },
     "execution_count": 141,
     "metadata": {},
     "output_type": "execute_result"
    }
   ],
   "source": [
    "results[['main/accuracy', 'validation/main/accuracy']].head()"
   ]
  },
  {
   "cell_type": "markdown",
   "metadata": {},
   "source": [
    "### 上記のデータを可視化する\n",
    "Pandas内で、matplotlibのグラフ描画を表示する事ができる。"
   ]
  },
  {
   "cell_type": "code",
   "execution_count": 142,
   "metadata": {},
   "outputs": [],
   "source": [
    "# NoteBook上でグラフを表示するために。\n",
    "%matplotlib inline"
   ]
  },
  {
   "cell_type": "code",
   "execution_count": 143,
   "metadata": {},
   "outputs": [
    {
     "data": {
      "text/plain": [
       "<matplotlib.axes._subplots.AxesSubplot at 0xf999860>"
      ]
     },
     "execution_count": 143,
     "metadata": {},
     "output_type": "execute_result"
    },
    {
     "data": {
      "image/png": "[encoded data removed]",
      "text/plain": [
       "<Figure size 432x288 with 1 Axes>"
      ]
     },
     "metadata": {
      "needs_background": "light"
     },
     "output_type": "display_data"
    }
   ],
   "source": [
    "# 凡例も表示してくれている。\n",
    "results[['main/accuracy', 'validation/main/accuracy']].plot()"
   ]
  },
  {
   "cell_type": "markdown",
   "metadata": {},
   "source": [
    "学習に関しても上がったり、下がったり、している  \n",
    "という事は、余り良い状態ではない。\n",
    "\n",
    "### loss（損失関数）についても表示してみる"
   ]
  },
  {
   "cell_type": "code",
   "execution_count": 144,
   "metadata": {
    "scrolled": false
   },
   "outputs": [
    {
     "data": {
      "text/plain": [
       "<matplotlib.axes._subplots.AxesSubplot at 0x10cf09b0>"
      ]
     },
     "execution_count": 144,
     "metadata": {},
     "output_type": "execute_result"
    },
    {
     "data": {
      "image/png": "[encoded data removed]",
      "text/plain": [
       "<Figure size 432x288 with 1 Axes>"
      ]
     },
     "metadata": {
      "needs_background": "light"
     },
     "output_type": "display_data"
    }
   ],
   "source": [
    "results[['main/loss', 'validation/main/loss']].plot()"
   ]
  },
  {
   "cell_type": "markdown",
   "metadata": {},
   "source": [
    "## バッチノーマリゼーションの考察\n",
    "下記のデータを見ればわかるが、入力変数のスケール間が変数によってだいぶ差がある。  \n",
    "このようなデータの場合、上手く学習できない場合が多い！  \n",
    "そこで、バッチノーマリゼーションをかけると、データの偏りが解消され、精度が向上する。  "
   ]
  },
  {
   "cell_type": "code",
   "execution_count": 146,
   "metadata": {},
   "outputs": [
    {
     "data": {
      "text/html": [
       "<div>\n",
       "<style scoped>\n",
       "    .dataframe tbody tr th:only-of-type {\n",
       "        vertical-align: middle;\n",
       "    }\n",
       "\n",
       "    .dataframe tbody tr th {\n",
       "        vertical-align: top;\n",
       "    }\n",
       "\n",
       "    .dataframe thead th {\n",
       "        text-align: right;\n",
       "    }\n",
       "</style>\n",
       "<table border=\"1\" class=\"dataframe\">\n",
       "  <thead>\n",
       "    <tr style=\"text-align: right;\">\n",
       "      <th></th>\n",
       "      <th>Alcohol</th>\n",
       "      <th>Ash</th>\n",
       "      <th>Alcalinity of ash</th>\n",
       "      <th>Magnesium</th>\n",
       "      <th>Total phenols</th>\n",
       "      <th>Flavanoids</th>\n",
       "      <th>Nonflavanoid phenols</th>\n",
       "      <th>Color intensity</th>\n",
       "      <th>Hue</th>\n",
       "      <th>Proline</th>\n",
       "    </tr>\n",
       "  </thead>\n",
       "  <tbody>\n",
       "    <tr>\n",
       "      <th>0</th>\n",
       "      <td>14.23</td>\n",
       "      <td>2.43</td>\n",
       "      <td>15.6</td>\n",
       "      <td>127</td>\n",
       "      <td>2.80</td>\n",
       "      <td>3.06</td>\n",
       "      <td>0.28</td>\n",
       "      <td>5.64</td>\n",
       "      <td>1.04</td>\n",
       "      <td>1065</td>\n",
       "    </tr>\n",
       "    <tr>\n",
       "      <th>1</th>\n",
       "      <td>13.20</td>\n",
       "      <td>2.14</td>\n",
       "      <td>11.2</td>\n",
       "      <td>100</td>\n",
       "      <td>2.65</td>\n",
       "      <td>2.76</td>\n",
       "      <td>0.26</td>\n",
       "      <td>4.38</td>\n",
       "      <td>1.05</td>\n",
       "      <td>1050</td>\n",
       "    </tr>\n",
       "    <tr>\n",
       "      <th>2</th>\n",
       "      <td>13.16</td>\n",
       "      <td>2.67</td>\n",
       "      <td>18.6</td>\n",
       "      <td>101</td>\n",
       "      <td>2.80</td>\n",
       "      <td>3.24</td>\n",
       "      <td>0.30</td>\n",
       "      <td>5.68</td>\n",
       "      <td>1.03</td>\n",
       "      <td>1185</td>\n",
       "    </tr>\n",
       "    <tr>\n",
       "      <th>3</th>\n",
       "      <td>14.37</td>\n",
       "      <td>2.50</td>\n",
       "      <td>16.8</td>\n",
       "      <td>113</td>\n",
       "      <td>3.85</td>\n",
       "      <td>3.49</td>\n",
       "      <td>0.24</td>\n",
       "      <td>7.80</td>\n",
       "      <td>0.86</td>\n",
       "      <td>1480</td>\n",
       "    </tr>\n",
       "    <tr>\n",
       "      <th>4</th>\n",
       "      <td>13.24</td>\n",
       "      <td>2.87</td>\n",
       "      <td>21.0</td>\n",
       "      <td>118</td>\n",
       "      <td>2.80</td>\n",
       "      <td>2.69</td>\n",
       "      <td>0.39</td>\n",
       "      <td>4.32</td>\n",
       "      <td>1.04</td>\n",
       "      <td>735</td>\n",
       "    </tr>\n",
       "  </tbody>\n",
       "</table>\n",
       "</div>"
      ],
      "text/plain": [
       "   Alcohol   Ash  Alcalinity of ash  Magnesium  Total phenols  Flavanoids  \\\n",
       "0    14.23  2.43               15.6        127           2.80        3.06   \n",
       "1    13.20  2.14               11.2        100           2.65        2.76   \n",
       "2    13.16  2.67               18.6        101           2.80        3.24   \n",
       "3    14.37  2.50               16.8        113           3.85        3.49   \n",
       "4    13.24  2.87               21.0        118           2.80        2.69   \n",
       "\n",
       "   Nonflavanoid phenols  Color intensity   Hue  Proline  \n",
       "0                  0.28             5.64  1.04     1065  \n",
       "1                  0.26             4.38  1.05     1050  \n",
       "2                  0.30             5.68  1.03     1185  \n",
       "3                  0.24             7.80  0.86     1480  \n",
       "4                  0.39             4.32  1.04      735  "
      ]
     },
     "execution_count": 146,
     "metadata": {},
     "output_type": "execute_result"
    }
   ],
   "source": [
    "df.iloc[:,1:].head()"
   ]
  },
  {
   "cell_type": "markdown",
   "metadata": {},
   "source": [
    "# 学習済みモデルを保存"
   ]
  },
  {
   "cell_type": "code",
   "execution_count": 147,
   "metadata": {},
   "outputs": [
    {
     "data": {
      "text/plain": [
       "<chainer.links.model.classifier.Classifier at 0xf9a8da0>"
      ]
     },
     "execution_count": 147,
     "metadata": {},
     "output_type": "execute_result"
    }
   ],
   "source": [
    "model"
   ]
  },
  {
   "cell_type": "code",
   "execution_count": 150,
   "metadata": {},
   "outputs": [],
   "source": [
    "# ルートフォルダに『wine』というフォルダを追加してください。\n",
    "chainer.serializers.save_npz('models/wine.npz', model)"
   ]
  },
  {
   "cell_type": "markdown",
   "metadata": {},
   "source": [
    "## 学習済みモデルを使用した推論（予測値の計算）\n",
    "### 学習済みモデルのロード\n",
    "先にモデルの構造を明示する必要がある。"
   ]
  },
  {
   "cell_type": "code",
   "execution_count": 151,
   "metadata": {},
   "outputs": [],
   "source": [
    "# モデルの構造を明示\n",
    "model = L.Classifier(NN())"
   ]
  },
  {
   "cell_type": "code",
   "execution_count": 152,
   "metadata": {},
   "outputs": [],
   "source": [
    "# 第２引数の中に、パスのモデルを読み込む\n",
    "chainer.serializers.load_npz('models/wine.npz', model)"
   ]
  },
  {
   "cell_type": "markdown",
   "metadata": {},
   "source": [
    "### 予測値の計算\n",
    "今回は、一番最初のサンプルに対する予測値の計算を行う。"
   ]
  },
  {
   "cell_type": "code",
   "execution_count": 154,
   "metadata": {},
   "outputs": [],
   "source": [
    "x_new = x[0]"
   ]
  },
  {
   "cell_type": "code",
   "execution_count": 155,
   "metadata": {},
   "outputs": [
    {
     "data": {
      "text/plain": [
       "(10,)"
      ]
     },
     "execution_count": 155,
     "metadata": {},
     "output_type": "execute_result"
    }
   ],
   "source": [
    "x_new.shape"
   ]
  },
  {
   "cell_type": "code",
   "execution_count": 156,
   "metadata": {},
   "outputs": [
    {
     "ename": "InvalidType",
     "evalue": "\nInvalid operation is performed in: BatchNormalization (Forward)\n\nExpect: in_types[1].ndim == 0\nActual: 1 != 0",
     "output_type": "error",
     "traceback": [
      "\u001b[1;31m---------------------------------------------------------------------------\u001b[0m",
      "\u001b[1;31mInvalidType\u001b[0m                               Traceback (most recent call last)",
      "\u001b[1;32m<ipython-input-156-e10f762e8c2d>\u001b[0m in \u001b[0;36m<module>\u001b[1;34m\u001b[0m\n\u001b[0;32m      1\u001b[0m \u001b[1;31m# 予測値の計算\u001b[0m\u001b[1;33m\u001b[0m\u001b[1;33m\u001b[0m\u001b[1;33m\u001b[0m\u001b[0m\n\u001b[1;32m----> 2\u001b[1;33m \u001b[0my\u001b[0m \u001b[1;33m=\u001b[0m \u001b[0mmodel\u001b[0m\u001b[1;33m.\u001b[0m\u001b[0mpredictor\u001b[0m\u001b[1;33m(\u001b[0m\u001b[0mx_new\u001b[0m\u001b[1;33m)\u001b[0m\u001b[1;33m\u001b[0m\u001b[1;33m\u001b[0m\u001b[0m\n\u001b[0m",
      "\u001b[1;32m<ipython-input-118-fc3a34e3f891>\u001b[0m in \u001b[0;36m__call__\u001b[1;34m(self, x)\u001b[0m\n\u001b[0;32m     12\u001b[0m     \u001b[1;31m# 順伝播\u001b[0m\u001b[1;33m\u001b[0m\u001b[1;33m\u001b[0m\u001b[1;33m\u001b[0m\u001b[0m\n\u001b[0;32m     13\u001b[0m     \u001b[1;32mdef\u001b[0m \u001b[0m__call__\u001b[0m\u001b[1;33m(\u001b[0m\u001b[0mself\u001b[0m\u001b[1;33m,\u001b[0m \u001b[0mx\u001b[0m\u001b[1;33m)\u001b[0m\u001b[1;33m:\u001b[0m\u001b[1;33m\u001b[0m\u001b[1;33m\u001b[0m\u001b[0m\n\u001b[1;32m---> 14\u001b[1;33m         \u001b[0mh\u001b[0m \u001b[1;33m=\u001b[0m \u001b[0mself\u001b[0m\u001b[1;33m.\u001b[0m\u001b[0mbn\u001b[0m\u001b[1;33m(\u001b[0m\u001b[0mx\u001b[0m\u001b[1;33m)\u001b[0m\u001b[1;33m\u001b[0m\u001b[1;33m\u001b[0m\u001b[0m\n\u001b[0m\u001b[0;32m     15\u001b[0m         \u001b[0mh\u001b[0m \u001b[1;33m=\u001b[0m \u001b[0mself\u001b[0m\u001b[1;33m.\u001b[0m\u001b[0mfc1\u001b[0m\u001b[1;33m(\u001b[0m\u001b[0mh\u001b[0m\u001b[1;33m)\u001b[0m  \u001b[1;31m# 変数の確保を１つにする。\u001b[0m\u001b[1;33m\u001b[0m\u001b[1;33m\u001b[0m\u001b[0m\n\u001b[0;32m     16\u001b[0m         \u001b[0mh\u001b[0m \u001b[1;33m=\u001b[0m \u001b[0mF\u001b[0m\u001b[1;33m.\u001b[0m\u001b[0mrelu\u001b[0m\u001b[1;33m(\u001b[0m\u001b[0mh\u001b[0m\u001b[1;33m)\u001b[0m\u001b[1;33m\u001b[0m\u001b[1;33m\u001b[0m\u001b[0m\n",
      "\u001b[1;32mD:\\Anaconda3\\envs\\Chainer\\lib\\site-packages\\chainer\\link.py\u001b[0m in \u001b[0;36m__call__\u001b[1;34m(self, *args, **kwargs)\u001b[0m\n\u001b[0;32m    240\u001b[0m         \u001b[1;32mif\u001b[0m \u001b[0mforward\u001b[0m \u001b[1;32mis\u001b[0m \u001b[1;32mNone\u001b[0m\u001b[1;33m:\u001b[0m\u001b[1;33m\u001b[0m\u001b[1;33m\u001b[0m\u001b[0m\n\u001b[0;32m    241\u001b[0m             \u001b[0mforward\u001b[0m \u001b[1;33m=\u001b[0m \u001b[0mself\u001b[0m\u001b[1;33m.\u001b[0m\u001b[0mforward\u001b[0m\u001b[1;33m\u001b[0m\u001b[1;33m\u001b[0m\u001b[0m\n\u001b[1;32m--> 242\u001b[1;33m         \u001b[0mout\u001b[0m \u001b[1;33m=\u001b[0m \u001b[0mforward\u001b[0m\u001b[1;33m(\u001b[0m\u001b[1;33m*\u001b[0m\u001b[0margs\u001b[0m\u001b[1;33m,\u001b[0m \u001b[1;33m**\u001b[0m\u001b[0mkwargs\u001b[0m\u001b[1;33m)\u001b[0m\u001b[1;33m\u001b[0m\u001b[1;33m\u001b[0m\u001b[0m\n\u001b[0m\u001b[0;32m    243\u001b[0m \u001b[1;33m\u001b[0m\u001b[0m\n\u001b[0;32m    244\u001b[0m         \u001b[1;31m# Call forward_postprocess hook\u001b[0m\u001b[1;33m\u001b[0m\u001b[1;33m\u001b[0m\u001b[1;33m\u001b[0m\u001b[0m\n",
      "\u001b[1;32mD:\\Anaconda3\\envs\\Chainer\\lib\\site-packages\\chainer\\links\\normalization\\batch_normalization.py\u001b[0m in \u001b[0;36mforward\u001b[1;34m(self, x, **kwargs)\u001b[0m\n\u001b[0;32m    312\u001b[0m             ret = functions.batch_normalization(\n\u001b[0;32m    313\u001b[0m                 \u001b[0mx\u001b[0m\u001b[1;33m,\u001b[0m \u001b[0mgamma\u001b[0m\u001b[1;33m,\u001b[0m \u001b[0mbeta\u001b[0m\u001b[1;33m,\u001b[0m \u001b[0meps\u001b[0m\u001b[1;33m=\u001b[0m\u001b[0mself\u001b[0m\u001b[1;33m.\u001b[0m\u001b[0meps\u001b[0m\u001b[1;33m,\u001b[0m \u001b[0mrunning_mean\u001b[0m\u001b[1;33m=\u001b[0m\u001b[0mavg_mean\u001b[0m\u001b[1;33m,\u001b[0m\u001b[1;33m\u001b[0m\u001b[1;33m\u001b[0m\u001b[0m\n\u001b[1;32m--> 314\u001b[1;33m                 running_var=avg_var, decay=decay, axis=self.axis)\n\u001b[0m\u001b[0;32m    315\u001b[0m         \u001b[1;32melse\u001b[0m\u001b[1;33m:\u001b[0m\u001b[1;33m\u001b[0m\u001b[1;33m\u001b[0m\u001b[0m\n\u001b[0;32m    316\u001b[0m             \u001b[1;31m# Use running average statistics or fine-tuned statistics.\u001b[0m\u001b[1;33m\u001b[0m\u001b[1;33m\u001b[0m\u001b[1;33m\u001b[0m\u001b[0m\n",
      "\u001b[1;32mD:\\Anaconda3\\envs\\Chainer\\lib\\site-packages\\chainer\\functions\\normalization\\batch_normalization.py\u001b[0m in \u001b[0;36mbatch_normalization\u001b[1;34m(x, gamma, beta, **kwargs)\u001b[0m\n\u001b[0;32m    672\u001b[0m \u001b[1;33m\u001b[0m\u001b[0m\n\u001b[0;32m    673\u001b[0m     return BatchNormalization(eps, running_mean, running_var, decay,\n\u001b[1;32m--> 674\u001b[1;33m                               axis).apply((x, gamma, beta))[0]\n\u001b[0m\u001b[0;32m    675\u001b[0m \u001b[1;33m\u001b[0m\u001b[0m\n\u001b[0;32m    676\u001b[0m \u001b[1;33m\u001b[0m\u001b[0m\n",
      "\u001b[1;32mD:\\Anaconda3\\envs\\Chainer\\lib\\site-packages\\chainer\\function_node.py\u001b[0m in \u001b[0;36mapply\u001b[1;34m(self, inputs)\u001b[0m\n\u001b[0;32m    243\u001b[0m \u001b[1;33m\u001b[0m\u001b[0m\n\u001b[0;32m    244\u001b[0m         \u001b[1;32mif\u001b[0m \u001b[0mconfiguration\u001b[0m\u001b[1;33m.\u001b[0m\u001b[0mconfig\u001b[0m\u001b[1;33m.\u001b[0m\u001b[0mtype_check\u001b[0m\u001b[1;33m:\u001b[0m\u001b[1;33m\u001b[0m\u001b[1;33m\u001b[0m\u001b[0m\n\u001b[1;32m--> 245\u001b[1;33m             \u001b[0mself\u001b[0m\u001b[1;33m.\u001b[0m\u001b[0m_check_data_type_forward\u001b[0m\u001b[1;33m(\u001b[0m\u001b[0min_data\u001b[0m\u001b[1;33m)\u001b[0m\u001b[1;33m\u001b[0m\u001b[1;33m\u001b[0m\u001b[0m\n\u001b[0m\u001b[0;32m    246\u001b[0m \u001b[1;33m\u001b[0m\u001b[0m\n\u001b[0;32m    247\u001b[0m         \u001b[0mhooks\u001b[0m \u001b[1;33m=\u001b[0m \u001b[0mchainer\u001b[0m\u001b[1;33m.\u001b[0m\u001b[0mget_function_hooks\u001b[0m\u001b[1;33m(\u001b[0m\u001b[1;33m)\u001b[0m\u001b[1;33m\u001b[0m\u001b[1;33m\u001b[0m\u001b[0m\n",
      "\u001b[1;32mD:\\Anaconda3\\envs\\Chainer\\lib\\site-packages\\chainer\\function_node.py\u001b[0m in \u001b[0;36m_check_data_type_forward\u001b[1;34m(self, in_data)\u001b[0m\n\u001b[0;32m    328\u001b[0m         \u001b[0min_type\u001b[0m \u001b[1;33m=\u001b[0m \u001b[0mtype_check\u001b[0m\u001b[1;33m.\u001b[0m\u001b[0mget_types\u001b[0m\u001b[1;33m(\u001b[0m\u001b[0min_data\u001b[0m\u001b[1;33m,\u001b[0m \u001b[1;34m'in_types'\u001b[0m\u001b[1;33m,\u001b[0m \u001b[1;32mFalse\u001b[0m\u001b[1;33m)\u001b[0m\u001b[1;33m\u001b[0m\u001b[1;33m\u001b[0m\u001b[0m\n\u001b[0;32m    329\u001b[0m         \u001b[1;32mwith\u001b[0m \u001b[0mtype_check\u001b[0m\u001b[1;33m.\u001b[0m\u001b[0mget_function_check_context\u001b[0m\u001b[1;33m(\u001b[0m\u001b[0mself\u001b[0m\u001b[1;33m)\u001b[0m\u001b[1;33m:\u001b[0m\u001b[1;33m\u001b[0m\u001b[1;33m\u001b[0m\u001b[0m\n\u001b[1;32m--> 330\u001b[1;33m             \u001b[0mself\u001b[0m\u001b[1;33m.\u001b[0m\u001b[0mcheck_type_forward\u001b[0m\u001b[1;33m(\u001b[0m\u001b[0min_type\u001b[0m\u001b[1;33m)\u001b[0m\u001b[1;33m\u001b[0m\u001b[1;33m\u001b[0m\u001b[0m\n\u001b[0m\u001b[0;32m    331\u001b[0m \u001b[1;33m\u001b[0m\u001b[0m\n\u001b[0;32m    332\u001b[0m     \u001b[1;32mdef\u001b[0m \u001b[0mcheck_type_forward\u001b[0m\u001b[1;33m(\u001b[0m\u001b[0mself\u001b[0m\u001b[1;33m,\u001b[0m \u001b[0min_types\u001b[0m\u001b[1;33m)\u001b[0m\u001b[1;33m:\u001b[0m\u001b[1;33m\u001b[0m\u001b[1;33m\u001b[0m\u001b[0m\n",
      "\u001b[1;32mD:\\Anaconda3\\envs\\Chainer\\lib\\site-packages\\chainer\\functions\\normalization\\batch_normalization.py\u001b[0m in \u001b[0;36mcheck_type_forward\u001b[1;34m(self, in_types)\u001b[0m\n\u001b[0;32m     82\u001b[0m         \u001b[0m_key_axis\u001b[0m \u001b[1;33m=\u001b[0m \u001b[0m_compute_key_axis\u001b[0m\u001b[1;33m(\u001b[0m\u001b[0m_x_ndim\u001b[0m\u001b[1;33m,\u001b[0m \u001b[0m_gamma_ndim\u001b[0m\u001b[1;33m,\u001b[0m \u001b[0m_axis\u001b[0m\u001b[1;33m)\u001b[0m\u001b[1;33m\u001b[0m\u001b[1;33m\u001b[0m\u001b[0m\n\u001b[0;32m     83\u001b[0m         type_check.expect(\n\u001b[1;32m---> 84\u001b[1;33m             \u001b[0mgamma_type\u001b[0m\u001b[1;33m.\u001b[0m\u001b[0mndim\u001b[0m \u001b[1;33m==\u001b[0m \u001b[0mlen\u001b[0m\u001b[1;33m(\u001b[0m\u001b[0m_key_axis\u001b[0m\u001b[1;33m)\u001b[0m\u001b[1;33m,\u001b[0m\u001b[1;33m\u001b[0m\u001b[1;33m\u001b[0m\u001b[0m\n\u001b[0m\u001b[0;32m     85\u001b[0m         )\n\u001b[0;32m     86\u001b[0m         \u001b[1;32mfor\u001b[0m \u001b[0mi\u001b[0m \u001b[1;32min\u001b[0m \u001b[0mrange\u001b[0m\u001b[1;33m(\u001b[0m\u001b[0mlen\u001b[0m\u001b[1;33m(\u001b[0m\u001b[0m_key_axis\u001b[0m\u001b[1;33m)\u001b[0m\u001b[1;33m)\u001b[0m\u001b[1;33m:\u001b[0m\u001b[1;33m\u001b[0m\u001b[1;33m\u001b[0m\u001b[0m\n",
      "\u001b[1;32mD:\\Anaconda3\\envs\\Chainer\\lib\\site-packages\\chainer\\utils\\type_check.py\u001b[0m in \u001b[0;36mexpect\u001b[1;34m(*bool_exprs)\u001b[0m\n\u001b[0;32m    544\u001b[0m         \u001b[1;32mfor\u001b[0m \u001b[0mexpr\u001b[0m \u001b[1;32min\u001b[0m \u001b[0mbool_exprs\u001b[0m\u001b[1;33m:\u001b[0m\u001b[1;33m\u001b[0m\u001b[1;33m\u001b[0m\u001b[0m\n\u001b[0;32m    545\u001b[0m             \u001b[1;32massert\u001b[0m \u001b[0misinstance\u001b[0m\u001b[1;33m(\u001b[0m\u001b[0mexpr\u001b[0m\u001b[1;33m,\u001b[0m \u001b[0mTestable\u001b[0m\u001b[1;33m)\u001b[0m\u001b[1;33m\u001b[0m\u001b[1;33m\u001b[0m\u001b[0m\n\u001b[1;32m--> 546\u001b[1;33m             \u001b[0mexpr\u001b[0m\u001b[1;33m.\u001b[0m\u001b[0mexpect\u001b[0m\u001b[1;33m(\u001b[0m\u001b[1;33m)\u001b[0m\u001b[1;33m\u001b[0m\u001b[1;33m\u001b[0m\u001b[0m\n\u001b[0m\u001b[0;32m    547\u001b[0m \u001b[1;33m\u001b[0m\u001b[0m\n\u001b[0;32m    548\u001b[0m \u001b[1;33m\u001b[0m\u001b[0m\n",
      "\u001b[1;32mD:\\Anaconda3\\envs\\Chainer\\lib\\site-packages\\chainer\\utils\\type_check.py\u001b[0m in \u001b[0;36mexpect\u001b[1;34m(self)\u001b[0m\n\u001b[0;32m    481\u001b[0m             raise InvalidType(\n\u001b[0;32m    482\u001b[0m                 \u001b[1;34m'{0} {1} {2}'\u001b[0m\u001b[1;33m.\u001b[0m\u001b[0mformat\u001b[0m\u001b[1;33m(\u001b[0m\u001b[0mself\u001b[0m\u001b[1;33m.\u001b[0m\u001b[0mlhs\u001b[0m\u001b[1;33m,\u001b[0m \u001b[0mself\u001b[0m\u001b[1;33m.\u001b[0m\u001b[0mexp\u001b[0m\u001b[1;33m,\u001b[0m \u001b[0mself\u001b[0m\u001b[1;33m.\u001b[0m\u001b[0mrhs\u001b[0m\u001b[1;33m)\u001b[0m\u001b[1;33m,\u001b[0m\u001b[1;33m\u001b[0m\u001b[1;33m\u001b[0m\u001b[0m\n\u001b[1;32m--> 483\u001b[1;33m                 '{0} {1} {2}'.format(left, self.inv, right))\n\u001b[0m\u001b[0;32m    484\u001b[0m \u001b[1;33m\u001b[0m\u001b[0m\n\u001b[0;32m    485\u001b[0m \u001b[1;33m\u001b[0m\u001b[0m\n",
      "\u001b[1;31mInvalidType\u001b[0m: \nInvalid operation is performed in: BatchNormalization (Forward)\n\nExpect: in_types[1].ndim == 0\nActual: 1 != 0"
     ]
    }
   ],
   "source": [
    "# 予測値の計算\n",
    "y = model.predictor(x_new)"
   ]
  },
  {
   "cell_type": "markdown",
   "metadata": {},
   "source": [
    "Chainerで推論を行う際は、`（バッチサイズ, 入力変数の数）`という形式でなければならない。  \n",
    "今回は、`(1, 10)`の形式が望ましい。"
   ]
  },
  {
   "cell_type": "code",
   "execution_count": 157,
   "metadata": {},
   "outputs": [],
   "source": [
    "x_new = x_new[np.newaxis]"
   ]
  },
  {
   "cell_type": "code",
   "execution_count": 159,
   "metadata": {},
   "outputs": [
    {
     "data": {
      "text/plain": [
       "(1, 10)"
      ]
     },
     "execution_count": 159,
     "metadata": {},
     "output_type": "execute_result"
    }
   ],
   "source": [
    "x_new.shape"
   ]
  },
  {
   "cell_type": "markdown",
   "metadata": {},
   "source": [
    "上記の処理で、`(1, 10)`の形式になったので、推論できる。"
   ]
  },
  {
   "cell_type": "code",
   "execution_count": 160,
   "metadata": {},
   "outputs": [
    {
     "name": "stderr",
     "output_type": "stream",
     "text": [
      "D:\\Anaconda3\\envs\\Chainer\\lib\\site-packages\\chainer\\functions\\normalization\\batch_normalization.py:114: UserWarning: A batch with no more than one sample has been given to F.batch_normalization. F.batch_normalization will always output a zero tensor for such batches. This could be caused by incorrect configuration in your code (such as running evaluation while chainer.config.train=True), but could also happen in the last batch of training if non-repeating iterator is used.\n",
      "  UserWarning)\n"
     ]
    }
   ],
   "source": [
    "y = model.predictor(x_new)"
   ]
  },
  {
   "cell_type": "code",
   "execution_count": 161,
   "metadata": {},
   "outputs": [
    {
     "data": {
      "text/plain": [
       "variable([[-0.18093558,  0.84641486, -0.44347715]])"
      ]
     },
     "execution_count": 161,
     "metadata": {},
     "output_type": "execute_result"
    }
   ],
   "source": [
    "y"
   ]
  },
  {
   "cell_type": "markdown",
   "metadata": {},
   "source": [
    "### 出力の整形\n",
    "出力は、そのままじゃ使用しづらいので、３つの出力が足して１になるように、整形する必要がある。"
   ]
  },
  {
   "cell_type": "code",
   "execution_count": 162,
   "metadata": {},
   "outputs": [
    {
     "data": {
      "text/plain": [
       "variable([[0.21916616, 0.6122744 , 0.16855946]])"
      ]
     },
     "execution_count": 162,
     "metadata": {},
     "output_type": "execute_result"
    }
   ],
   "source": [
    "y = F.softmax(y)\n",
    "y"
   ]
  },
  {
   "cell_type": "code",
   "execution_count": 163,
   "metadata": {},
   "outputs": [
    {
     "data": {
      "text/plain": [
       "array([[0.21916616, 0.6122744 , 0.16855946]], dtype=float32)"
      ]
     },
     "execution_count": 163,
     "metadata": {},
     "output_type": "execute_result"
    }
   ],
   "source": [
    "# numpyの形に変換する。\n",
    "y.array"
   ]
  },
  {
   "cell_type": "code",
   "execution_count": 164,
   "metadata": {},
   "outputs": [
    {
     "data": {
      "text/plain": [
       "1"
      ]
     },
     "execution_count": 164,
     "metadata": {},
     "output_type": "execute_result"
    }
   ],
   "source": [
    "# 出力は一番確率が高いモノにする\n",
    "np.argmax(y.array)"
   ]
  },
  {
   "cell_type": "code",
   "execution_count": 165,
   "metadata": {},
   "outputs": [
    {
     "data": {
      "text/plain": [
       "0"
      ]
     },
     "execution_count": 165,
     "metadata": {},
     "output_type": "execute_result"
    }
   ],
   "source": [
    "t[0]"
   ]
  },
  {
   "cell_type": "code",
   "execution_count": null,
   "metadata": {},
   "outputs": [],
   "source": []
  },
  {
   "cell_type": "code",
   "execution_count": null,
   "metadata": {},
   "outputs": [],
   "source": []
  },
  {
   "cell_type": "code",
   "execution_count": null,
   "metadata": {},
   "outputs": [],
   "source": []
  },
  {
   "cell_type": "code",
   "execution_count": null,
   "metadata": {},
   "outputs": [],
   "source": []
  },
  {
   "cell_type": "code",
   "execution_count": null,
   "metadata": {},
   "outputs": [],
   "source": []
  },
  {
   "cell_type": "code",
   "execution_count": null,
   "metadata": {},
   "outputs": [],
   "source": []
  },
  {
   "cell_type": "code",
   "execution_count": null,
   "metadata": {},
   "outputs": [],
   "source": []
  },
  {
   "cell_type": "code",
   "execution_count": null,
   "metadata": {},
   "outputs": [],
   "source": []
  },
  {
   "cell_type": "code",
   "execution_count": null,
   "metadata": {},
   "outputs": [],
   "source": []
  },
  {
   "cell_type": "code",
   "execution_count": null,
   "metadata": {},
   "outputs": [],
   "source": []
  }
 ],
 "metadata": {
  "kernelspec": {
   "display_name": "Python 3",
   "language": "python",
   "name": "python3"
  },
  "language_info": {
   "codemirror_mode": {
    "name": "ipython",
    "version": 3
   },
   "file_extension": ".py",
   "mimetype": "text/x-python",
   "name": "python",
   "nbconvert_exporter": "python",
   "pygments_lexer": "ipython3",
   "version": "3.7.3"
  }
 },
 "nbformat": 4,
 "nbformat_minor": 2
}

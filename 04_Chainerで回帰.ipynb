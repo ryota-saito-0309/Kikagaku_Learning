{
 "cells": [
  {
   "cell_type": "markdown",
   "metadata": {},
   "source": [
    "# Chainerで回帰\n",
    "## 必要なモジュールの読み込み"
   ]
  },
  {
   "cell_type": "code",
   "execution_count": null,
   "metadata": {},
   "outputs": [],
   "source": [
    "# 必要ライブラリのインストール\n",
    "!pip install chainer\n",
    "!pip install numpy\n",
    "!pip install pandas\n",
    "!pip install matplotlib"
   ]
  },
  {
   "cell_type": "code",
   "execution_count": 1,
   "metadata": {},
   "outputs": [],
   "source": [
    "%matplotlib inline\n",
    "import numpy as np\n",
    "import pandas as pd\n",
    "import matplotlib.pyplot as plt"
   ]
  },
  {
   "cell_type": "code",
   "execution_count": 2,
   "metadata": {},
   "outputs": [],
   "source": [
    "# 今回は家賃のデータを利用する\n",
    "df = pd.read_csv('data/housing.csv')"
   ]
  },
  {
   "cell_type": "code",
   "execution_count": 3,
   "metadata": {},
   "outputs": [
    {
     "data": {
      "text/html": [
       "<div>\n",
       "<style scoped>\n",
       "    .dataframe tbody tr th:only-of-type {\n",
       "        vertical-align: middle;\n",
       "    }\n",
       "\n",
       "    .dataframe tbody tr th {\n",
       "        vertical-align: top;\n",
       "    }\n",
       "\n",
       "    .dataframe thead th {\n",
       "        text-align: right;\n",
       "    }\n",
       "</style>\n",
       "<table border=\"1\" class=\"dataframe\">\n",
       "  <thead>\n",
       "    <tr style=\"text-align: right;\">\n",
       "      <th></th>\n",
       "      <th>x1</th>\n",
       "      <th>x2</th>\n",
       "      <th>x3</th>\n",
       "      <th>x4</th>\n",
       "      <th>x5</th>\n",
       "      <th>x6</th>\n",
       "      <th>x7</th>\n",
       "      <th>x8</th>\n",
       "      <th>x9</th>\n",
       "      <th>x10</th>\n",
       "      <th>x11</th>\n",
       "      <th>x12</th>\n",
       "      <th>x13</th>\n",
       "      <th>y</th>\n",
       "    </tr>\n",
       "  </thead>\n",
       "  <tbody>\n",
       "    <tr>\n",
       "      <th>0</th>\n",
       "      <td>0.00632</td>\n",
       "      <td>18.0</td>\n",
       "      <td>2.31</td>\n",
       "      <td>0</td>\n",
       "      <td>0.538</td>\n",
       "      <td>6.575</td>\n",
       "      <td>65.2</td>\n",
       "      <td>4.0900</td>\n",
       "      <td>1</td>\n",
       "      <td>296</td>\n",
       "      <td>15.3</td>\n",
       "      <td>396.90</td>\n",
       "      <td>4.98</td>\n",
       "      <td>24.0</td>\n",
       "    </tr>\n",
       "    <tr>\n",
       "      <th>1</th>\n",
       "      <td>0.02731</td>\n",
       "      <td>0.0</td>\n",
       "      <td>7.07</td>\n",
       "      <td>0</td>\n",
       "      <td>0.469</td>\n",
       "      <td>6.421</td>\n",
       "      <td>78.9</td>\n",
       "      <td>4.9671</td>\n",
       "      <td>2</td>\n",
       "      <td>242</td>\n",
       "      <td>17.8</td>\n",
       "      <td>396.90</td>\n",
       "      <td>9.14</td>\n",
       "      <td>21.6</td>\n",
       "    </tr>\n",
       "    <tr>\n",
       "      <th>2</th>\n",
       "      <td>0.02729</td>\n",
       "      <td>0.0</td>\n",
       "      <td>7.07</td>\n",
       "      <td>0</td>\n",
       "      <td>0.469</td>\n",
       "      <td>7.185</td>\n",
       "      <td>61.1</td>\n",
       "      <td>4.9671</td>\n",
       "      <td>2</td>\n",
       "      <td>242</td>\n",
       "      <td>17.8</td>\n",
       "      <td>392.83</td>\n",
       "      <td>4.03</td>\n",
       "      <td>34.7</td>\n",
       "    </tr>\n",
       "    <tr>\n",
       "      <th>3</th>\n",
       "      <td>0.03237</td>\n",
       "      <td>0.0</td>\n",
       "      <td>2.18</td>\n",
       "      <td>0</td>\n",
       "      <td>0.458</td>\n",
       "      <td>6.998</td>\n",
       "      <td>45.8</td>\n",
       "      <td>6.0622</td>\n",
       "      <td>3</td>\n",
       "      <td>222</td>\n",
       "      <td>18.7</td>\n",
       "      <td>394.63</td>\n",
       "      <td>2.94</td>\n",
       "      <td>33.4</td>\n",
       "    </tr>\n",
       "    <tr>\n",
       "      <th>4</th>\n",
       "      <td>0.06905</td>\n",
       "      <td>0.0</td>\n",
       "      <td>2.18</td>\n",
       "      <td>0</td>\n",
       "      <td>0.458</td>\n",
       "      <td>7.147</td>\n",
       "      <td>54.2</td>\n",
       "      <td>6.0622</td>\n",
       "      <td>3</td>\n",
       "      <td>222</td>\n",
       "      <td>18.7</td>\n",
       "      <td>396.90</td>\n",
       "      <td>5.33</td>\n",
       "      <td>36.2</td>\n",
       "    </tr>\n",
       "  </tbody>\n",
       "</table>\n",
       "</div>"
      ],
      "text/plain": [
       "        x1    x2    x3  x4     x5     x6    x7      x8  x9  x10   x11     x12  \\\n",
       "0  0.00632  18.0  2.31   0  0.538  6.575  65.2  4.0900   1  296  15.3  396.90   \n",
       "1  0.02731   0.0  7.07   0  0.469  6.421  78.9  4.9671   2  242  17.8  396.90   \n",
       "2  0.02729   0.0  7.07   0  0.469  7.185  61.1  4.9671   2  242  17.8  392.83   \n",
       "3  0.03237   0.0  2.18   0  0.458  6.998  45.8  6.0622   3  222  18.7  394.63   \n",
       "4  0.06905   0.0  2.18   0  0.458  7.147  54.2  6.0622   3  222  18.7  396.90   \n",
       "\n",
       "    x13     y  \n",
       "0  4.98  24.0  \n",
       "1  9.14  21.6  \n",
       "2  4.03  34.7  \n",
       "3  2.94  33.4  \n",
       "4  5.33  36.2  "
      ]
     },
     "execution_count": 3,
     "metadata": {},
     "output_type": "execute_result"
    }
   ],
   "source": [
    "df.head()"
   ]
  },
  {
   "cell_type": "markdown",
   "metadata": {},
   "source": [
    "## 入力変数と教師データに分割"
   ]
  },
  {
   "cell_type": "code",
   "execution_count": 4,
   "metadata": {},
   "outputs": [],
   "source": [
    "# df.iloc[行, 列]\n",
    "x = df.iloc[:, :-1].values.astype('f')  # １番後ろからひとつ手前\n",
    "t = df.iloc[:, -1].values.astype('f')  # １番後ろだけ"
   ]
  },
  {
   "cell_type": "code",
   "execution_count": 5,
   "metadata": {},
   "outputs": [
    {
     "data": {
      "text/plain": [
       "(506, 13)"
      ]
     },
     "execution_count": 5,
     "metadata": {},
     "output_type": "execute_result"
    }
   ],
   "source": [
    "x.shape"
   ]
  },
  {
   "cell_type": "code",
   "execution_count": 6,
   "metadata": {},
   "outputs": [
    {
     "data": {
      "text/plain": [
       "(506,)"
      ]
     },
     "execution_count": 6,
     "metadata": {},
     "output_type": "execute_result"
    }
   ],
   "source": [
    "t.shape"
   ]
  },
  {
   "cell_type": "markdown",
   "metadata": {},
   "source": [
    "回帰の場合は、ラベルを`(506, 1)`にしなければならない。ので..."
   ]
  },
  {
   "cell_type": "code",
   "execution_count": 7,
   "metadata": {},
   "outputs": [],
   "source": [
    "t = t.reshape(len(t), 1)"
   ]
  },
  {
   "cell_type": "code",
   "execution_count": 8,
   "metadata": {
    "scrolled": true
   },
   "outputs": [
    {
     "data": {
      "text/plain": [
       "(506, 1)"
      ]
     },
     "execution_count": 8,
     "metadata": {},
     "output_type": "execute_result"
    }
   ],
   "source": [
    "t.shape"
   ]
  },
  {
   "cell_type": "code",
   "execution_count": 9,
   "metadata": {},
   "outputs": [
    {
     "data": {
      "text/plain": [
       "dtype('float32')"
      ]
     },
     "execution_count": 9,
     "metadata": {},
     "output_type": "execute_result"
    }
   ],
   "source": [
    "t.dtype"
   ]
  },
  {
   "cell_type": "markdown",
   "metadata": {},
   "source": [
    "実は、こんな煩わしいことしなくても、下記の１文で望んでいる形でデータを取れる"
   ]
  },
  {
   "cell_type": "code",
   "execution_count": 10,
   "metadata": {},
   "outputs": [],
   "source": [
    "t = df.iloc[:, -1:].values.astype('f')  # １番後ろだけ"
   ]
  },
  {
   "cell_type": "code",
   "execution_count": 11,
   "metadata": {},
   "outputs": [
    {
     "data": {
      "text/plain": [
       "(506, 1)"
      ]
     },
     "execution_count": 11,
     "metadata": {},
     "output_type": "execute_result"
    }
   ],
   "source": [
    "t.shape"
   ]
  },
  {
   "cell_type": "code",
   "execution_count": 12,
   "metadata": {},
   "outputs": [
    {
     "data": {
      "text/plain": [
       "dtype('float32')"
      ]
     },
     "execution_count": 12,
     "metadata": {},
     "output_type": "execute_result"
    }
   ],
   "source": [
    "t.dtype"
   ]
  },
  {
   "cell_type": "markdown",
   "metadata": {},
   "source": [
    "## データセットの準備\n",
    "Chainerでデータセットを渡す際には、『タプル』で囲って『リスト』で囲む形式にしなければならない。"
   ]
  },
  {
   "cell_type": "code",
   "execution_count": 13,
   "metadata": {},
   "outputs": [],
   "source": [
    "dataset = list(zip(x,t))"
   ]
  },
  {
   "cell_type": "markdown",
   "metadata": {},
   "source": [
    "## 訓練データと検証データの分割"
   ]
  },
  {
   "cell_type": "code",
   "execution_count": 14,
   "metadata": {},
   "outputs": [
    {
     "name": "stderr",
     "output_type": "stream",
     "text": [
      "D:\\Anaconda3\\envs\\Chainer\\lib\\site-packages\\chainer\\backends\\cuda.py:98: UserWarning: cuDNN is not enabled.\n",
      "Please reinstall CuPy after you install cudnn\n",
      "(see https://docs-cupy.chainer.org/en/stable/install.html#install-cudnn).\n",
      "  'cuDNN is not enabled.\\n'\n"
     ]
    }
   ],
   "source": [
    "import chainer\n",
    "import chainer.functions as F\n",
    "import chainer.links as L"
   ]
  },
  {
   "cell_type": "code",
   "execution_count": 15,
   "metadata": {},
   "outputs": [
    {
     "data": {
      "text/plain": [
       "354"
      ]
     },
     "execution_count": 15,
     "metadata": {},
     "output_type": "execute_result"
    }
   ],
   "source": [
    "# 訓練データを7割にする。\n",
    "n_train = int(len(dataset)*0.7)\n",
    "n_train"
   ]
  },
  {
   "cell_type": "code",
   "execution_count": 16,
   "metadata": {},
   "outputs": [],
   "source": [
    "# Chainerの分割するモジュールを利用してデータを分割\n",
    "train, test = chainer.datasets.split_dataset_random(dataset=dataset, first_size=n_train, seed=0)"
   ]
  },
  {
   "cell_type": "code",
   "execution_count": 17,
   "metadata": {},
   "outputs": [
    {
     "name": "stdout",
     "output_type": "stream",
     "text": [
      "354\n",
      "152\n"
     ]
    },
    {
     "data": {
      "text/plain": [
       "69.96047430830039"
      ]
     },
     "execution_count": 17,
     "metadata": {},
     "output_type": "execute_result"
    }
   ],
   "source": [
    "print(len(train))\n",
    "print(len(test))\n",
    "len(train)/len(dataset)*100"
   ]
  },
  {
   "cell_type": "markdown",
   "metadata": {},
   "source": [
    "## 回帰モデルの定義\n",
    "回帰のモデルを作成する方法は大きく分けて２種類あります。  \n",
    "- L.Classifierを使う場合\n",
    "- 学習用のモデルを自前で書く場合\n",
    "\n",
    "\n",
    "### L.Classifierを使う場合\n",
    "Chainerには『L.regressor』のような回帰に特化した物が用意されていない！！"
   ]
  },
  {
   "cell_type": "code",
   "execution_count": 41,
   "metadata": {},
   "outputs": [],
   "source": [
    "# 13->5->1\n",
    "class NN(chainer.Chain):\n",
    "    # モデルの構造を明示\n",
    "    def __init__(self, n_mid_units=5, n_out=1):\n",
    "        super().__init__()\n",
    "        with self.init_scope():\n",
    "            self.fc1 = L.Linear(None, n_mid_units)  # 入力層\n",
    "            self.fc2 = L.Linear(None, n_out)  # 出力層\n",
    "\n",
    "    # 順伝播\n",
    "    def __call__(self, x):\n",
    "        h = self.fc1(x)\n",
    "        h = F.relu(h)\n",
    "        h = self.fc2(h)\n",
    "        return h"
   ]
  },
  {
   "cell_type": "code",
   "execution_count": 42,
   "metadata": {},
   "outputs": [],
   "source": [
    "# インスタンス化前にシードを固定\n",
    "np.random.seed(0)\n",
    "# インスタンス化\n",
    "nn = NN()"
   ]
  },
  {
   "cell_type": "markdown",
   "metadata": {},
   "source": [
    "#### L.Classifierの設定について\n",
    "分類と回帰で大きく異なる点は**損失関数**である。\n",
    "- 回帰  \n",
    "平均二乗誤差\n",
    "- 分類  \n",
    "交差エントロピー\n",
    "\n",
    "損失関数を設定してあげる必要がある！"
   ]
  },
  {
   "cell_type": "code",
   "execution_count": 43,
   "metadata": {},
   "outputs": [],
   "source": [
    "model = L.Classifier(nn, lossfun=F.mean_squared_error)  # lossfunを平均二乗誤差を設定する。"
   ]
  },
  {
   "cell_type": "markdown",
   "metadata": {},
   "source": [
    "精度を計測するために、分類では、『accuracy』で精度を測ったが、  \n",
    "回帰では、ピンポイントで正解することは少ないので、誤差のみを考える。  \n",
    "そのため、『model.compute_accuracy』をFalseにする。"
   ]
  },
  {
   "cell_type": "code",
   "execution_count": 44,
   "metadata": {},
   "outputs": [],
   "source": [
    "model.compute_accuracy = False"
   ]
  },
  {
   "cell_type": "markdown",
   "metadata": {},
   "source": [
    "## 学習用のモデルを自前で書く場合\n",
    "クラスの中に以下３つの要素を追加する必要がある。\n",
    "\n",
    "- `__init__`：モデルで使用するリンクの宣言\n",
    "- `__call__`：損失関数の宣言\n",
    "- `predictor`：順伝播の宣言\n"
   ]
  },
  {
   "cell_type": "code",
   "execution_count": 45,
   "metadata": {},
   "outputs": [],
   "source": [
    "# # 13->5->1\n",
    "# class NN(chainer.Chain):\n",
    "#     # モデルの構造を明示\n",
    "#     def __init__(self, n_mid_units=5, n_out=1):\n",
    "#         super().__init__()\n",
    "#         with self.init_scope():\n",
    "#             self.fc1 = L.Linear(None, n_mid_units)  # 入力層\n",
    "#             self.fc2 = L.Linear(None, n_out)  # 出力層\n",
    "    \n",
    "#     # 損失関数を計算\n",
    "#     def __call__(self, x, t):\n",
    "#         y = self.predictor(x)  # 予測値の計算（順伝播）\n",
    "#         loss = F.mean_squared_error(t, y)  # 損失関数の計算\n",
    "#         chainer.report({'loss':loss}, self)  # レポート出力の設定\n",
    "#         return loss  # 損失関数を返す\n",
    "    \n",
    "#     # 順伝播\n",
    "#     def predictor(self, x):\n",
    "#         h = self.fc1(x)\n",
    "#         h = F.relu(x)\n",
    "#         h = self.fc2(h)\n",
    "#         return h"
   ]
  },
  {
   "cell_type": "code",
   "execution_count": 46,
   "metadata": {},
   "outputs": [],
   "source": [
    "# # インスタンス化する\n",
    "# np.random.seed(0)\n",
    "# model = NN()"
   ]
  },
  {
   "cell_type": "markdown",
   "metadata": {},
   "source": [
    "## 学習に必要な準備\n",
    "今回は、L.Classifierを利用する。"
   ]
  },
  {
   "cell_type": "markdown",
   "metadata": {},
   "source": [
    "### Optimizerの設定"
   ]
  },
  {
   "cell_type": "code",
   "execution_count": 47,
   "metadata": {},
   "outputs": [],
   "source": [
    "optimizer = chainer.optimizers.SGD()  # 確率的勾配降下法"
   ]
  },
  {
   "cell_type": "code",
   "execution_count": 48,
   "metadata": {},
   "outputs": [
    {
     "data": {
      "text/plain": [
       "<chainer.optimizers.sgd.SGD at 0xa216208>"
      ]
     },
     "execution_count": 48,
     "metadata": {},
     "output_type": "execute_result"
    }
   ],
   "source": [
    "optimizer.setup(model)"
   ]
  },
  {
   "cell_type": "markdown",
   "metadata": {},
   "source": [
    "### Iteratorの設定"
   ]
  },
  {
   "cell_type": "code",
   "execution_count": 49,
   "metadata": {},
   "outputs": [],
   "source": [
    "# データに応じてサイズを決定\n",
    "batchsize = 10"
   ]
  },
  {
   "cell_type": "code",
   "execution_count": 50,
   "metadata": {},
   "outputs": [],
   "source": [
    "# 学習とテスト用のIteratorを設定する。\n",
    "train_iter = chainer.iterators.SerialIterator(train, batchsize)\n",
    "# テストの設定をする。\n",
    "test_iter = chainer.iterators.SerialIterator(test, batchsize, repeat=False, shuffle=False)# データに応じてサイズを決定"
   ]
  },
  {
   "cell_type": "markdown",
   "metadata": {},
   "source": [
    "### Updaterの設定\n"
   ]
  },
  {
   "cell_type": "code",
   "execution_count": 51,
   "metadata": {},
   "outputs": [],
   "source": [
    "from chainer import training"
   ]
  },
  {
   "cell_type": "code",
   "execution_count": 52,
   "metadata": {},
   "outputs": [],
   "source": [
    "updater = training.StandardUpdater(train_iter, optimizer, device=-1)"
   ]
  },
  {
   "cell_type": "markdown",
   "metadata": {},
   "source": [
    "### TrainerとExtensionsの設定"
   ]
  },
  {
   "cell_type": "code",
   "execution_count": 53,
   "metadata": {},
   "outputs": [],
   "source": [
    "from chainer.training import extensions"
   ]
  },
  {
   "cell_type": "code",
   "execution_count": 54,
   "metadata": {},
   "outputs": [],
   "source": [
    "# epochの数\n",
    "epoch = 50"
   ]
  },
  {
   "cell_type": "code",
   "execution_count": 55,
   "metadata": {},
   "outputs": [],
   "source": [
    "# Trainerの宣言\n",
    "# outは『Classifier』を利用している際に、出力されるログを保存するパスを記載する。\n",
    "trainer = training.Trainer(updater, (epoch, 'epoch'), out='result/housing')"
   ]
  },
  {
   "cell_type": "code",
   "execution_count": 56,
   "metadata": {},
   "outputs": [],
   "source": [
    "# 検証データで評価\n",
    "trainer.extend(extensions.Evaluator(test_iter, model, device=-1))  # ここでも『device』の設定が必要\n",
    "\n",
    "trainer.extend(extensions.LogReport(trigger=(1, 'epoch')))  # ログ出力の頻度は１エポックごとに出力"
   ]
  },
  {
   "cell_type": "code",
   "execution_count": 57,
   "metadata": {},
   "outputs": [],
   "source": [
    "trainer.extend(extensions.PrintReport(['epoch', 'main/loss', 'validation/main/loss', 'elapsed_time']), trigger=(1, 'epoch'))"
   ]
  },
  {
   "cell_type": "markdown",
   "metadata": {},
   "source": [
    "## 学習の実行"
   ]
  },
  {
   "cell_type": "code",
   "execution_count": 58,
   "metadata": {},
   "outputs": [
    {
     "name": "stdout",
     "output_type": "stream",
     "text": [
      "epoch       main/loss   validation/main/loss  elapsed_time\n",
      "1           2.96434e+08  1.04862e+06           0.0993717     \n",
      "2           571967      255157                0.144008      \n",
      "3           136991      59722                 0.191295      \n",
      "4           32473.6     14663.2               0.236699      \n",
      "5           7997.84     3676.35               0.282317      \n",
      "6           1976.43     940.853               0.329664      \n",
      "7           522.307     306.226               0.376406      \n",
      "8           188.448     144.309               0.422934      \n",
      "9           99.0555     110.391               0.467892      \n",
      "10          85.4061     99.6947               0.514518      \n",
      "11          81.1999     96.5054               0.562108      \n",
      "12          76.9688     95.6793               0.607322      \n",
      "13          78.318      95.3964               0.655164      \n",
      "14          77.6448     95.3091               0.7022        \n",
      "15          79.0455     95.29                 0.748484      \n",
      "16          77.6373     95.2738               0.795701      \n",
      "17          78.274      95.2666               0.840904      \n",
      "18          77.8498     95.3562               0.888222      \n",
      "19          79.8709     95.2778               0.935558      \n",
      "20          77.4277     95.2507               0.981468      \n",
      "21          78.8502     95.2422               1.02998       \n",
      "22          77.9123     95.3066               1.0779        \n",
      "23          78.6552     95.2236               1.12597       \n",
      "24          77.0969     95.3363               1.17343       \n",
      "25          78.3985     95.25                 1.22146       \n",
      "26          78.2046     95.293                1.27014       \n",
      "27          77.8067     95.2054               1.31787       \n",
      "28          82.9626     95.117                1.36688       \n",
      "29          73.475      95.1613               1.41344       \n",
      "30          78.4221     95.1767               1.46169       \n",
      "31          77.9792     95.2801               1.51048       \n",
      "32          78.8944     95.2259               1.56055       \n",
      "33          76.9006     95.2037               1.61069       \n",
      "34          79.0739     95.2995               1.6614        \n",
      "35          78.1724     95.1847               1.70991       \n",
      "36          79.2858     95.1189               1.75905       \n",
      "37          77.3791     95.1615               1.80595       \n",
      "38          76.8178     95.2242               1.85475       \n",
      "39          79.0152     95.1951               1.90237       \n",
      "40          78.5415     95.3177               1.95082       \n",
      "41          77.3986     95.2361               1.99966       \n",
      "42          79.1345     95.2617               2.04795       \n",
      "43          77.4106     95.1882               2.09733       \n",
      "44          78.3424     95.1849               2.14511       \n",
      "45          78.7259     95.1756               2.19244       \n",
      "46          78.5159     95.2583               2.24053       \n",
      "47          77.4938     95.2544               2.29074       \n",
      "48          78.6406     95.2441               2.34032       \n",
      "49          77.3823     95.2563               2.38794       \n",
      "50          78.9641     95.3355               2.43753       \n"
     ]
    }
   ],
   "source": [
    "trainer._done=False\n",
    "trainer.run()"
   ]
  },
  {
   "cell_type": "markdown",
   "metadata": {},
   "source": [
    "## 結果の確認"
   ]
  },
  {
   "cell_type": "code",
   "execution_count": 59,
   "metadata": {},
   "outputs": [],
   "source": [
    "import json"
   ]
  },
  {
   "cell_type": "code",
   "execution_count": 61,
   "metadata": {},
   "outputs": [],
   "source": [
    "with open('result/housing/log') as f:\n",
    "    logs = json.load(f)\n",
    "    results = pd.DataFrame(logs)"
   ]
  },
  {
   "cell_type": "code",
   "execution_count": 62,
   "metadata": {},
   "outputs": [
    {
     "data": {
      "text/html": [
       "<div>\n",
       "<style scoped>\n",
       "    .dataframe tbody tr th:only-of-type {\n",
       "        vertical-align: middle;\n",
       "    }\n",
       "\n",
       "    .dataframe tbody tr th {\n",
       "        vertical-align: top;\n",
       "    }\n",
       "\n",
       "    .dataframe thead th {\n",
       "        text-align: right;\n",
       "    }\n",
       "</style>\n",
       "<table border=\"1\" class=\"dataframe\">\n",
       "  <thead>\n",
       "    <tr style=\"text-align: right;\">\n",
       "      <th></th>\n",
       "      <th>main/loss</th>\n",
       "      <th>validation/main/loss</th>\n",
       "      <th>epoch</th>\n",
       "      <th>iteration</th>\n",
       "      <th>elapsed_time</th>\n",
       "    </tr>\n",
       "  </thead>\n",
       "  <tbody>\n",
       "    <tr>\n",
       "      <th>0</th>\n",
       "      <td>2.964345e+08</td>\n",
       "      <td>1.048625e+06</td>\n",
       "      <td>1</td>\n",
       "      <td>36</td>\n",
       "      <td>0.099372</td>\n",
       "    </tr>\n",
       "    <tr>\n",
       "      <th>1</th>\n",
       "      <td>5.719674e+05</td>\n",
       "      <td>2.551569e+05</td>\n",
       "      <td>2</td>\n",
       "      <td>71</td>\n",
       "      <td>0.144008</td>\n",
       "    </tr>\n",
       "    <tr>\n",
       "      <th>2</th>\n",
       "      <td>1.369910e+05</td>\n",
       "      <td>5.972200e+04</td>\n",
       "      <td>3</td>\n",
       "      <td>107</td>\n",
       "      <td>0.191295</td>\n",
       "    </tr>\n",
       "    <tr>\n",
       "      <th>3</th>\n",
       "      <td>3.247360e+04</td>\n",
       "      <td>1.466324e+04</td>\n",
       "      <td>4</td>\n",
       "      <td>142</td>\n",
       "      <td>0.236699</td>\n",
       "    </tr>\n",
       "    <tr>\n",
       "      <th>4</th>\n",
       "      <td>7.997838e+03</td>\n",
       "      <td>3.676348e+03</td>\n",
       "      <td>5</td>\n",
       "      <td>177</td>\n",
       "      <td>0.282317</td>\n",
       "    </tr>\n",
       "  </tbody>\n",
       "</table>\n",
       "</div>"
      ],
      "text/plain": [
       "      main/loss  validation/main/loss  epoch  iteration  elapsed_time\n",
       "0  2.964345e+08          1.048625e+06      1         36      0.099372\n",
       "1  5.719674e+05          2.551569e+05      2         71      0.144008\n",
       "2  1.369910e+05          5.972200e+04      3        107      0.191295\n",
       "3  3.247360e+04          1.466324e+04      4        142      0.236699\n",
       "4  7.997838e+03          3.676348e+03      5        177      0.282317"
      ]
     },
     "execution_count": 62,
     "metadata": {},
     "output_type": "execute_result"
    }
   ],
   "source": [
    "results.head()"
   ]
  },
  {
   "cell_type": "markdown",
   "metadata": {},
   "source": [
    "### 結果の可視化"
   ]
  },
  {
   "cell_type": "code",
   "execution_count": 64,
   "metadata": {},
   "outputs": [
    {
     "data": {
      "text/plain": [
       "<matplotlib.axes._subplots.AxesSubplot at 0xb700c88>"
      ]
     },
     "execution_count": 64,
     "metadata": {},
     "output_type": "execute_result"
    },
    {
     "data": {
      "image/png": "[encoded data removed]",
      "text/plain": [
       "<Figure size 432x288 with 1 Axes>"
      ]
     },
     "metadata": {
      "needs_background": "light"
     },
     "output_type": "display_data"
    }
   ],
   "source": [
    "results[['main/loss', 'validation/main/loss']].plot()"
   ]
  },
  {
   "cell_type": "markdown",
   "metadata": {},
   "source": [
    "### 誤差を元のスケールで確認する。\n",
    "DataFrameに『.value』する事で、numpyの形式に変換できる。"
   ]
  },
  {
   "cell_type": "code",
   "execution_count": 68,
   "metadata": {},
   "outputs": [],
   "source": [
    "n_loss_0 = results['validation/main/loss'].values[-1]"
   ]
  },
  {
   "cell_type": "markdown",
   "metadata": {},
   "source": [
    "元の誤差を計算で求めるためには、ルートを計算する。"
   ]
  },
  {
   "cell_type": "code",
   "execution_count": 67,
   "metadata": {},
   "outputs": [],
   "source": [
    "import math"
   ]
  },
  {
   "cell_type": "code",
   "execution_count": 69,
   "metadata": {},
   "outputs": [
    {
     "data": {
      "text/plain": [
       "9.763992484396121"
      ]
     },
     "execution_count": 69,
     "metadata": {},
     "output_type": "execute_result"
    }
   ],
   "source": [
    "math.sqrt(n_loss_0)"
   ]
  },
  {
   "cell_type": "markdown",
   "metadata": {},
   "source": [
    "上記の結果より、誤差は、『9.7％』であることがわかる。"
   ]
  },
  {
   "cell_type": "markdown",
   "metadata": {},
   "source": [
    "# 更に精度を上げる為に･･･\n",
    "Optimizerを『Adam』にしてやってみる！！"
   ]
  },
  {
   "cell_type": "code",
   "execution_count": 90,
   "metadata": {},
   "outputs": [],
   "source": [
    "# 13->5->1\n",
    "class NN(chainer.Chain):\n",
    "    # モデルの構造を明示\n",
    "    def __init__(self, n_mid_units=5, n_out=1):\n",
    "        super().__init__()\n",
    "        with self.init_scope():\n",
    "            self.fc1 = L.Linear(None, n_mid_units)  # 入力層\n",
    "            self.fc2 = L.Linear(None, n_out)  # 出力層\n",
    "\n",
    "    # 順伝播\n",
    "    def __call__(self, x):\n",
    "        h = self.fc1(x)\n",
    "        h = F.relu(h)\n",
    "        h = self.fc2(h)\n",
    "        return h"
   ]
  },
  {
   "cell_type": "code",
   "execution_count": 91,
   "metadata": {},
   "outputs": [],
   "source": [
    "np.random.seed(0)  # インスタンス化前にシードを固定\n",
    "nn = NN()  # インスタンス化\n",
    "model = L.Classifier(nn, lossfun=F.mean_squared_error)  # lossfunを平均二乗誤差を設定する。\n",
    "model.compute_accuracy = False\n",
    "optimizer = chainer.optimizers.Adam()  # 確率的勾配降下法\n",
    "optimizer.setup(model)\n",
    "batchsize = 10\n",
    "train_iter = chainer.iterators.SerialIterator(train, batchsize)\n",
    "test_iter = chainer.iterators.SerialIterator(test, batchsize, repeat=False, shuffle=False)# データに応じてサイズを決定"
   ]
  },
  {
   "cell_type": "code",
   "execution_count": 92,
   "metadata": {},
   "outputs": [],
   "source": [
    "from chainer import training"
   ]
  },
  {
   "cell_type": "code",
   "execution_count": 93,
   "metadata": {},
   "outputs": [],
   "source": [
    "updater = training.StandardUpdater(train_iter, optimizer, device=-1)"
   ]
  },
  {
   "cell_type": "code",
   "execution_count": 94,
   "metadata": {},
   "outputs": [],
   "source": [
    "from chainer.training import extensions"
   ]
  },
  {
   "cell_type": "code",
   "execution_count": 95,
   "metadata": {},
   "outputs": [],
   "source": [
    "epoch = 50\n",
    "trainer = training.Trainer(updater, (epoch, 'epoch'), out='result/housing')\n",
    "trainer.extend(extensions.Evaluator(test_iter, model, device=-1))  # ここでも『device』の設定が必要\n",
    "trainer.extend(extensions.LogReport(trigger=(1, 'epoch')))  # ログ出力の頻度は１エポックごとに出力\n",
    "trainer.extend(extensions.PrintReport(['epoch', 'main/loss', 'validation/main/loss', 'elapsed_time']), trigger=(1, 'epoch'))"
   ]
  },
  {
   "cell_type": "code",
   "execution_count": 96,
   "metadata": {},
   "outputs": [
    {
     "name": "stdout",
     "output_type": "stream",
     "text": [
      "epoch       main/loss   validation/main/loss  elapsed_time\n",
      "1           397.701     334.208               0.0701959     \n",
      "2           223.402     184.636               0.120794      \n",
      "3           122.881     132.093               0.172911      \n",
      "4           97.4672     124.939               0.224281      \n",
      "5           94.3218     119.44                0.275842      \n",
      "6           89.3628     114.539               0.332336      \n",
      "7           85.2529     110.616               0.383755      \n",
      "8           84.2768     106.384               0.436307      \n",
      "9           80.0633     102.415               0.487881      \n",
      "10          77.6488     98.5841               0.539103      \n",
      "11          75.9718     94.7484               0.59525       \n",
      "12          72.2957     91.4261               0.647631      \n",
      "13          70.2987     88.1505               0.701004      \n",
      "14          69.2722     85.2239               0.753902      \n",
      "15          68.1619     82.6771               0.805366      \n",
      "16          65.115      80.3811               0.858733      \n",
      "17          64.6374     78.4954               0.910611      \n",
      "18          63.2385     76.6488               0.964013      \n",
      "19          64.0297     75.3589               1.01633       \n",
      "20          60.4649     73.6455               1.0709        \n",
      "21          61.253      72.4746               1.12441       \n",
      "22          59.5514     71.5756               1.18068       \n",
      "23          60.9264     71.0995               1.23786       \n",
      "24          57.2145     70.353                1.28987       \n",
      "25          58.7349     69.6101               1.34504       \n",
      "26          57.5961     68.7832               1.39922       \n",
      "27          57.9666     68.2504               1.45235       \n",
      "28          61.225      68.1849               1.51492       \n",
      "29          53.6471     67.4243               1.56988       \n",
      "30          57.0024     66.3614               1.62225       \n",
      "31          55.4905     66.0643               1.67632       \n",
      "32          56.9433     65.6165               1.72898       \n",
      "33          55.6583     65.053                1.78339       \n",
      "34          55.7747     64.5888               1.8375        \n",
      "35          56.1016     64.2475               1.89087       \n",
      "36          55.438      63.817                1.94502       \n",
      "37          54.5899     63.4143               1.99838       \n",
      "38          54.3663     63.1461               2.0572        \n",
      "39          55.1902     63.7882               2.11387       \n",
      "40          54.3525     62.2672               2.17268       \n",
      "41          53.1856     61.8629               2.23083       \n",
      "42          54.6657     61.6476               2.28526       \n",
      "43          52.4078     61.2185               2.34054       \n",
      "44          53.2214     60.744                2.39469       \n",
      "45          53.2763     60.5667               2.45248       \n",
      "46          52.1634     60.2077               2.50646       \n",
      "47          52.58       59.933                2.56009       \n",
      "48          52.4172     59.6654               2.61652       \n",
      "49          51.4005     59.1685               2.67059       \n",
      "50          52.1386     58.8778               2.72415       \n"
     ]
    }
   ],
   "source": [
    "trainer._done=False\n",
    "trainer.run()"
   ]
  },
  {
   "cell_type": "code",
   "execution_count": 97,
   "metadata": {
    "scrolled": true
   },
   "outputs": [
    {
     "data": {
      "text/plain": [
       "<matplotlib.axes._subplots.AxesSubplot at 0xd94a208>"
      ]
     },
     "execution_count": 97,
     "metadata": {},
     "output_type": "execute_result"
    },
    {
     "data": {
      "image/png": "[encoded data removed]",
      "text/plain": [
       "<Figure size 432x288 with 1 Axes>"
      ]
     },
     "metadata": {
      "needs_background": "light"
     },
     "output_type": "display_data"
    }
   ],
   "source": [
    "import json\n",
    "\n",
    "with open('result/housing/log') as f:\n",
    "    logs = json.load(f)\n",
    "    results = pd.DataFrame(logs)\n",
    "\n",
    "results[['main/loss', 'validation/main/loss']].plot()"
   ]
  },
  {
   "cell_type": "code",
   "execution_count": 98,
   "metadata": {
    "scrolled": true
   },
   "outputs": [
    {
     "data": {
      "text/plain": [
       "7.673187873833176"
      ]
     },
     "execution_count": 98,
     "metadata": {},
     "output_type": "execute_result"
    }
   ],
   "source": [
    "n_loss_0 = results['validation/main/loss'].values[-1]\n",
    "import math\n",
    "math.sqrt(n_loss_0)"
   ]
  },
  {
   "cell_type": "markdown",
   "metadata": {},
   "source": [
    "『Adam』を利用した場合、誤差は『7.673％』になった。"
   ]
  },
  {
   "cell_type": "markdown",
   "metadata": {},
   "source": [
    "## 更に向上させる為に\n",
    "今回は『Epoch』を500に変更してみる。"
   ]
  },
  {
   "cell_type": "code",
   "execution_count": 99,
   "metadata": {},
   "outputs": [],
   "source": [
    "# 13->5->1\n",
    "class NN(chainer.Chain):\n",
    "    # モデルの構造を明示\n",
    "    def __init__(self, n_mid_units=5, n_out=1):\n",
    "        super().__init__()\n",
    "        with self.init_scope():\n",
    "            self.fc1 = L.Linear(None, n_mid_units)  # 入力層\n",
    "            self.fc2 = L.Linear(None, n_out)  # 出力層\n",
    "\n",
    "    # 順伝播\n",
    "    def __call__(self, x):\n",
    "        h = self.fc1(x)\n",
    "        h = F.relu(h)\n",
    "        h = self.fc2(h)\n",
    "        return h"
   ]
  },
  {
   "cell_type": "code",
   "execution_count": 100,
   "metadata": {},
   "outputs": [],
   "source": [
    "np.random.seed(0)  # インスタンス化前にシードを固定\n",
    "nn = NN()  # インスタンス化\n",
    "model = L.Classifier(nn, lossfun=F.mean_squared_error)  # lossfunを平均二乗誤差を設定する。\n",
    "model.compute_accuracy = False\n",
    "optimizer = chainer.optimizers.Adam()  # 確率的勾配降下法\n",
    "optimizer.setup(model)\n",
    "batchsize = 10\n",
    "train_iter = chainer.iterators.SerialIterator(train, batchsize)\n",
    "test_iter = chainer.iterators.SerialIterator(test, batchsize, repeat=False, shuffle=False)# データに応じてサイズを決定"
   ]
  },
  {
   "cell_type": "code",
   "execution_count": 101,
   "metadata": {},
   "outputs": [],
   "source": [
    "from chainer import training"
   ]
  },
  {
   "cell_type": "code",
   "execution_count": 102,
   "metadata": {},
   "outputs": [],
   "source": [
    "updater = training.StandardUpdater(train_iter, optimizer, device=-1)"
   ]
  },
  {
   "cell_type": "code",
   "execution_count": 103,
   "metadata": {},
   "outputs": [],
   "source": [
    "from chainer.training import extensions"
   ]
  },
  {
   "cell_type": "code",
   "execution_count": 104,
   "metadata": {},
   "outputs": [],
   "source": [
    "epoch = 500\n",
    "trainer = training.Trainer(updater, (epoch, 'epoch'), out='result/housing')\n",
    "trainer.extend(extensions.Evaluator(test_iter, model, device=-1))  # ここでも『device』の設定が必要\n",
    "trainer.extend(extensions.LogReport(trigger=(1, 'epoch')))  # ログ出力の頻度は１エポックごとに出力\n",
    "trainer.extend(extensions.PrintReport(['epoch', 'main/loss', 'validation/main/loss', 'elapsed_time']), trigger=(1, 'epoch'))"
   ]
  },
  {
   "cell_type": "code",
   "execution_count": 105,
   "metadata": {},
   "outputs": [
    {
     "name": "stdout",
     "output_type": "stream",
     "text": [
      "epoch       main/loss   validation/main/loss  elapsed_time\n",
      "1           397.701     334.208               0.0871374     \n",
      "2           223.402     184.636               0.136876      \n",
      "3           122.881     132.093               0.187942      \n",
      "4           97.4672     124.939               0.23793       \n",
      "5           94.3218     119.44                0.288027      \n",
      "6           89.3628     114.539               0.339237      \n",
      "7           85.2529     110.616               0.389357      \n",
      "8           84.2768     106.384               0.440914      \n",
      "9           80.0633     102.415               0.491811      \n",
      "10          77.6488     98.5841               0.542693      \n",
      "11          75.9718     94.7484               0.594601      \n",
      "12          72.2957     91.4261               0.645284      \n",
      "13          70.2987     88.1505               0.698146      \n",
      "14          69.2722     85.2239               0.75017       \n",
      "15          68.1619     82.6771               0.801163      \n",
      "16          65.115      80.3811               0.853886      \n",
      "17          64.6374     78.4954               0.904537      \n",
      "18          63.2385     76.6488               0.956654      \n",
      "19          64.0297     75.3589               1.00802       \n",
      "20          60.4649     73.6455               1.05908       \n",
      "21          61.253      72.4746               1.11246       \n",
      "22          59.5514     71.5756               1.16379       \n",
      "23          60.9264     71.0995               1.21781       \n",
      "24          57.2145     70.353                1.26889       \n",
      "25          58.7349     69.6101               1.32052       \n",
      "26          57.5961     68.7832               1.37363       \n",
      "27          57.9666     68.2504               1.42486       \n",
      "28          61.225      68.1849               1.48031       \n",
      "29          53.6471     67.4243               1.53249       \n",
      "30          57.0024     66.3614               1.58507       \n",
      "31          55.4905     66.0643               1.63865       \n",
      "32          56.9433     65.6165               1.69034       \n",
      "33          55.6583     65.053                1.74343       \n",
      "34          55.7747     64.5888               1.79655       \n",
      "35          56.1016     64.2475               1.85086       \n",
      "36          55.438      63.817                1.90339       \n",
      "37          54.5899     63.4143               1.95585       \n",
      "38          54.3663     63.1461               2.00929       \n",
      "39          55.1902     63.7882               2.06253       \n",
      "40          54.3525     62.2672               2.11539       \n",
      "41          53.1856     61.8629               2.16977       \n",
      "42          54.6657     61.6476               2.22257       \n",
      "43          52.4078     61.2185               2.2757        \n",
      "44          53.2214     60.744                2.32739       \n",
      "45          53.2763     60.5667               2.3802        \n",
      "46          52.1634     60.2077               2.43431       \n",
      "47          52.58       59.933                2.48776       \n",
      "48          52.4172     59.6654               2.54084       \n",
      "49          51.4005     59.1685               2.59314       \n",
      "50          52.1386     58.8778               2.64588       \n",
      "51          51.3599     58.8268               2.70039       \n",
      "52          51.3392     58.1332               2.75249       \n",
      "53          50.6989     58.1691               2.80615       \n",
      "54          50.5647     57.6391               2.85864       \n",
      "55          51.144      57.4531               2.91211       \n",
      "56          50.9847     57.0673               2.96706       \n",
      "57          49.5259     56.8705               3.02017       \n",
      "58          49.1076     56.6523               3.07447       \n",
      "59          50.0635     56.4016               3.1265        \n",
      "60          49.5364     55.6605               3.17872       \n",
      "61          49.7988     55.5233               3.23355       \n",
      "62          47.8207     55.0437               3.28642       \n",
      "63          49.966      54.9402               3.33989       \n",
      "64          46.5012     54.342                3.39222       \n",
      "65          48.3294     54.8828               3.44443       \n",
      "66          48.0685     53.7216               3.49846       \n",
      "67          47.3461     53.5823               3.55177       \n",
      "68          48.6049     53.5775               3.60495       \n",
      "69          45.844      52.88                 3.65665       \n",
      "70          47.2412     52.5914               3.70986       \n",
      "71          46.9215     52.3296               3.76452       \n",
      "72          46.1235     52.0764               3.81776       \n",
      "73          45.8688     51.9787               3.87192       \n",
      "74          45.7523     52.3085               3.92438       \n",
      "75          47.029      51.4184               3.97873       \n",
      "76          44.9229     50.9723               4.03385       \n",
      "77          45.8399     50.5988               4.08674       \n",
      "78          44.8184     50.6683               4.14041       \n",
      "79          45.3801     50.1962               4.19398       \n",
      "80          44.8071     49.8384               4.2494        \n",
      "81          43.8207     49.9264               4.30445       \n",
      "82          44.7128     49.4074               4.35809       \n",
      "83          46.2367     49.4741               4.41329       \n",
      "84          41.9658     48.7696               4.46807       \n",
      "85          44.0442     48.3381               4.5215        \n",
      "86          44.1396     48.2547               4.57584       \n",
      "87          42.4404     47.8858               4.62955       \n",
      "88          43.7964     47.7781               4.6844        \n",
      "89          41.7196     47.5348               4.73883       \n",
      "90          43.039      47.6842               4.79149       \n",
      "91          41.9336     46.9684               4.84625       \n",
      "92          42.6453     46.7073               4.90002       \n",
      "93          41.7291     46.4011               4.95516       \n",
      "94          41.7439     46.1456               5.0082        \n",
      "95          42.1627     45.8178               5.06173       \n",
      "96          42.0195     45.95                 5.11678       \n",
      "97          41.2366     45.2747               5.17039       \n",
      "98          40.9032     45.405                5.22568       \n",
      "99          40.9532     44.9844               5.27968       \n",
      "100         41.381      44.6168               5.33383       \n",
      "101         40.5667     44.4428               5.38937       \n",
      "102         40.9514     44.2872               5.44334       \n",
      "103         41.2573     44.1252               5.49917       \n",
      "104         38.7499     43.6321               5.55321       \n",
      "105         40.1056     43.4609               5.6069        \n",
      "106         39.9792     43.3438               5.66211       \n",
      "107         38.9538     43.1202               5.71655       \n",
      "108         39.546      43.2932               5.7726        \n",
      "109         38.994      42.8311               5.82687       \n",
      "110         38.9456     42.9628               5.88138       \n",
      "111         38.7847     43.1509               5.93677       \n",
      "112         39.154      41.7983               5.99134       \n",
      "113         38.2339     41.7798               6.04675       \n",
      "114         38.5083     42.1287               6.10155       \n",
      "115         38.4375     41.9619               6.15516       \n",
      "116         39.38       41.2614               6.21081       \n",
      "117         37.1716     41.7271               6.26545       \n",
      "118         38.4572     41.623                6.32117       \n",
      "119         39.2544     41.5032               6.37499       \n",
      "120         36.5464     40.4614               6.42994       \n",
      "121         37.0401     40.9532               6.48585       \n",
      "122         38.2242     40.1918               6.54021       \n",
      "123         37.3923     40.1404               6.59685       \n",
      "124         37.3284     40.1355               6.65335       \n",
      "125         35.8807     39.9675               6.7085        \n",
      "126         36.9137     39.6353               6.76565       \n",
      "127         36.7149     39.5564               6.82128       \n",
      "128         37.8184     39.6152               6.87764       \n",
      "129         37.2209     39.9137               6.93376       \n",
      "130         37.1878     43.4662               6.99085       \n",
      "131         38.2682     39.7751               7.04769       \n",
      "132         36.8291     39.3473               7.10806       \n",
      "133         37.3106     38.9017               7.16576       \n",
      "134         34.9852     38.9672               7.22013       \n"
     ]
    },
    {
     "name": "stdout",
     "output_type": "stream",
     "text": [
      "135         36.1842     39.0913               7.27427       \n",
      "136         35.9036     38.6582               7.33098       \n",
      "137         36.3523     38.9251               7.38577       \n",
      "138         37.2559     38.5722               7.44223       \n",
      "139         34.1585     38.4288               7.4993        \n",
      "140         35.5566     38.2789               7.55524       \n",
      "141         36.3636     38.3949               7.61159       \n",
      "142         35.2727     38.136                7.66625       \n",
      "143         34.3577     38.6032               7.72191       \n",
      "144         36.7468     38.357                7.77742       \n",
      "145         35.4486     37.9032               7.83353       \n",
      "146         34.9089     38.0506               7.88995       \n",
      "147         35.6112     38.0004               7.94485       \n",
      "148         36.073      38.6087               8.00241       \n",
      "149         34.2172     37.5495               8.05796       \n",
      "150         35.1003     37.5142               8.11272       \n",
      "151         34.9892     37.503                8.16974       \n",
      "152         34.9623     37.5478               8.22438       \n",
      "153         35.0541     37.3584               8.28222       \n",
      "154         34.9257     37.3127               8.33742       \n",
      "155         34.8209     37.7856               8.39254       \n",
      "156         34.2581     37.0057               8.44949       \n",
      "157         35.0954     37.5291               8.50572       \n",
      "158         34.4935     37.0334               8.56206       \n",
      "159         36.1336     38.0249               8.6177        \n",
      "160         34.6975     37.2551               8.67218       \n",
      "161         34.0581     36.7579               8.72886       \n",
      "162         35.2118     37.0588               8.78582       \n",
      "163         35.3723     36.7226               8.84232       \n",
      "164         33.5768     36.565                8.89794       \n",
      "165         34.4551     36.7216               8.95432       \n",
      "166         34.7612     36.3573               9.01265       \n",
      "167         34.5349     37.1127               9.06933       \n",
      "168         34.2466     36.3969               9.1265        \n",
      "169         34.3977     38.2639               9.18177       \n",
      "170         34.6084     36.4193               9.23725       \n",
      "171         34.4949     36.3135               9.29465       \n",
      "172         34.0858     36.5301               9.35032       \n",
      "173         34.1726     36.3029               9.40642       \n",
      "174         33.7533     37.1121               9.46165       \n",
      "175         34.5936     36.0851               9.51752       \n",
      "176         34.903      36.8388               9.57342       \n",
      "177         32.9907     35.9857               9.62885       \n",
      "178         33.5205     36.1842               9.68572       \n",
      "179         34.6941     36.6554               9.74131       \n",
      "180         34.1431     36.1376               9.79706       \n",
      "181         33.5195     35.9409               9.85403       \n",
      "182         34.2477     36.8227               9.91002       \n",
      "183         34.2082     35.7705               9.96725       \n",
      "184         33.6996     35.733                10.024        \n",
      "185         34.0413     35.8995               10.0808       \n",
      "186         33.3015     35.9621               10.1383       \n",
      "187         33.9906     35.7607               10.1937       \n",
      "188         33.6267     36.8051               10.2526       \n",
      "189         34.9909     35.4379               10.3085       \n",
      "190         33.5781     35.6307               10.3656       \n",
      "191         33.1058     35.5734               10.4222       \n",
      "192         33.7281     35.4397               10.4786       \n",
      "193         34.4511     36.4521               10.5366       \n",
      "194         33.4843     35.221                10.5922       \n",
      "195         33.0382     36.1628               10.6488       \n",
      "196         34.6086     35.1679               10.7055       \n",
      "197         33.026      35.32                 10.7628       \n",
      "198         34.516      35.7357               10.8205       \n",
      "199         32.7731     34.9602               10.8766       \n",
      "200         33.7027     35.1397               10.933        \n",
      "201         32.8515     35.1954               10.99         \n",
      "202         33.8167     34.8109               11.0482       \n",
      "203         33.1001     35.14                 11.1059       \n",
      "204         33.8962     35.2098               11.1623       \n",
      "205         33.1396     34.9569               11.2187       \n",
      "206         32.6877     34.6861               11.276        \n",
      "207         33.5583     34.9078               11.3337       \n",
      "208         32.7507     35.5215               11.3911       \n",
      "209         34.3221     35.6263               11.4481       \n",
      "210         32.2213     34.7584               11.5043       \n",
      "211         32.866      36.4679               11.5624       \n",
      "212         33.4141     34.9366               11.6203       \n",
      "213         33.3509     35.1683               11.678        \n",
      "214         33.0877     34.6373               11.7342       \n",
      "215         32.9717     34.9323               11.7906       \n",
      "216         32.4292     34.3848               11.8487       \n",
      "217         33.2425     35.6235               11.9051       \n",
      "218         34.4333     34.5267               11.9631       \n",
      "219         30.9107     35.1609               12.021        \n",
      "220         32.976      34.3898               12.0784       \n",
      "221         33.6793     34.243                12.1369       \n",
      "222         32.3163     34.4305               12.1938       \n",
      "223         33.4738     34.3689               12.2528       \n",
      "224         32.6208     34.2251               12.3091       \n",
      "225         31.9548     34.3773               12.366        \n",
      "226         32.634      34.3684               12.4234       \n",
      "227         33.2724     34.4967               12.4817       \n",
      "228         32.7628     34.7122               12.5392       \n",
      "229         32.755      34.1288               12.5962       \n",
      "230         32.2532     34.2263               12.6533       \n",
      "231         32.235      34.1612               12.7116       \n",
      "232         32.2333     34.0618               12.7698       \n",
      "233         32.5365     35.3083               12.827        \n",
      "234         32.9632     33.891                12.884        \n",
      "235         32.39       34.111                12.9402       \n",
      "236         33.2117     33.9558               12.9987       \n",
      "237         31.5596     34.1909               13.0563       \n",
      "238         31.8414     33.9391               13.115        \n",
      "239         32.6791     34.0793               13.1714       \n",
      "240         32.0592     34.0055               13.229        \n",
      "241         32.1783     33.8919               13.2886       \n",
      "242         32.3174     34.4002               13.3462       \n",
      "243         32.1911     34.2134               13.4037       \n",
      "244         32.5428     33.9211               13.4607       \n",
      "245         32.3873     33.7068               13.5182       \n",
      "246         32.0355     36.0952               13.577        \n",
      "247         32.8452     34.8914               13.634        \n",
      "248         32.698      34.3634               13.6917       \n",
      "249         31.4682     33.7342               13.7493       \n",
      "250         32.1338     34.0815               13.8071       \n",
      "251         33.6568     33.8533               13.8664       \n",
      "252         31.119      33.9353               13.9226       \n",
      "253         31.2409     33.6498               13.9812       \n",
      "254         32.3007     33.736                14.0381       \n",
      "255         32.5168     34.3607               14.0957       \n",
      "256         31.7338     33.8206               14.1545       \n",
      "257         32.4094     33.9871               14.2124       \n",
      "258         32.0321     33.8847               14.2717       \n",
      "259         32.6613     33.698                14.3292       \n",
      "260         33.0454     34.1494               14.3864       \n",
      "261         32.0229     33.4066               14.4452       \n",
      "262         31.6255     33.5589               14.5026       \n",
      "263         31.3804     33.765                14.5626       \n",
      "264         32.3153     33.5898               14.6197       \n",
      "265         32.5523     34.0315               14.677        \n",
      "266         32.3049     34.1683               14.7357       \n",
      "267         31.617      33.4122               14.7927       \n",
      "268         32.2635     34.0454               14.8518       \n",
      "269         31.5783     33.4181               14.9091       \n"
     ]
    },
    {
     "name": "stdout",
     "output_type": "stream",
     "text": [
      "270         32.0652     33.4691               14.9664       \n",
      "271         31.04       33.3691               15.0247       \n",
      "272         32.0233     33.7674               15.0823       \n",
      "273         31.6622     33.3676               15.1408       \n",
      "274         31.1105     33.5724               15.1985       \n",
      "275         31.5185     33.5882               15.2563       \n",
      "276         31.37       34.7119               15.3158       \n",
      "277         31.8862     33.3937               15.3729       \n",
      "278         32.1167     33.4854               15.4327       \n",
      "279         30.5691     33.2148               15.4894       \n",
      "280         31.4256     33.2637               15.5498       \n",
      "281         31.1701     33.4429               15.6088       \n",
      "282         31.7257     33.0303               15.6668       \n",
      "283         31.469      34.2514               15.7253       \n",
      "284         31.999      33.193                15.7846       \n",
      "285         31.3701     34.3793               15.8421       \n",
      "286         32.2466     33.3834               15.9005       \n",
      "287         30.3591     33.3723               15.958        \n",
      "288         31.3351     33.5165               16.0172       \n",
      "289         31.1626     33.0198               16.075        \n",
      "290         31.3784     32.9369               16.1332       \n",
      "291         32.1648     33.0282               16.1928       \n",
      "292         31.2412     33.2226               16.251        \n",
      "293         30.5223     33.9425               16.3102       \n",
      "294         32.6736     32.9924               16.3677       \n",
      "295         29.8685     33.0711               16.4258       \n",
      "296         31.6427     33.1474               16.4851       \n",
      "297         30.845      33.2124               16.5429       \n",
      "298         31.1747     33.6526               16.6022       \n",
      "299         31.0629     32.7915               16.6601       \n",
      "300         31.8515     33.3687               16.718        \n",
      "301         30.5276     32.7001               16.7777       \n",
      "302         31.3494     33.2026               16.8357       \n",
      "303         31.1547     32.683                16.8949       \n",
      "304         30.7948     32.825                16.9529       \n",
      "305         30.8419     32.6016               17.0115       \n",
      "306         31.3271     32.8633               17.0718       \n",
      "307         30.5771     33.4388               17.1304       \n",
      "308         31.16       32.6717               17.1901       \n",
      "309         30.7812     32.5257               17.2479       \n",
      "310         31.0296     32.7678               17.3059       \n",
      "311         30.5815     32.8046               17.366        \n",
      "312         30.961      32.5709               17.4244       \n",
      "313         30.278      32.7485               17.4858       \n",
      "314         30.8424     32.7588               17.544        \n",
      "315         30.9578     32.5501               17.6024       \n",
      "316         30.8066     32.9151               17.6624       \n",
      "317         31.1146     32.5339               17.7206       \n",
      "318         32.5395     32.4443               17.7811       \n",
      "319         30.4754     32.6704               17.8407       \n",
      "320         30.2489     33.6195               17.8999       \n",
      "321         31.111      32.6271               17.9597       \n",
      "322         31.4253     32.3744               18.0198       \n",
      "323         30.4471     33.2005               18.0815       \n",
      "324         30.7144     32.3876               18.1412       \n",
      "325         30.6607     32.8593               18.2003       \n",
      "326         30.918      32.8162               18.261        \n",
      "327         30.5042     33.7168               18.3203       \n",
      "328         29.7736     32.796                18.3813       \n",
      "329         30.9438     33.6442               18.4407       \n",
      "330         30.6559     33.0445               18.5003       \n",
      "331         31.5947     34.0037               18.5618       \n",
      "332         29.2819     32.6254               18.6204       \n",
      "333         29.7047     32.5811               18.6809       \n",
      "334         32.1503     32.3983               18.7407       \n",
      "335         30.3432     32.3234               18.8008       \n",
      "336         29.7036     32.2626               18.8611       \n",
      "337         31.9168     32.6129               18.9201       \n",
      "338         29.0021     32.1377               18.9806       \n",
      "339         30.4465     32.22                 19.042        \n",
      "340         30.0488     32.0773               19.1018       \n",
      "341         30.0192     32.5327               19.1629       \n",
      "342         30.0864     32.3037               19.222        \n",
      "343         30.103      32.0306               19.2833       \n",
      "344         30.303      33.3762               19.3417       \n",
      "345         31.5684     32.2774               19.4012       \n",
      "346         29.8759     32.481                19.4625       \n",
      "347         30.9159     32.5085               19.5219       \n",
      "348         30.293      32.0162               19.5847       \n",
      "349         29.4496     32.0546               19.6448       \n",
      "350         30.1464     32.18                 19.7046       \n",
      "351         29.56       32.1453               19.7657       \n",
      "352         30.345      32.4813               19.8276       \n",
      "353         30.2824     31.9418               19.8884       \n",
      "354         30.1019     31.8084               19.9481       \n",
      "355         30.3024     31.9067               20.0074       \n",
      "356         30.4104     31.8452               20.0677       \n",
      "357         30.4898     32.6108               20.1276       \n",
      "358         30.3244     32.5632               20.1888       \n",
      "359         30.0862     31.8183               20.2486       \n",
      "360         29.6665     32.2977               20.3086       \n",
      "361         29.3734     31.7765               20.3696       \n",
      "362         30.3963     31.8637               20.4295       \n",
      "363         29.1958     32.6037               20.49         \n",
      "364         30.1856     31.8912               20.5491       \n",
      "365         29.8144     32.2756               20.6095       \n",
      "366         29.4492     31.6348               20.6701       \n",
      "367         30.1725     32.0965               20.73         \n",
      "368         30.4195     31.7076               20.7904       \n",
      "369         29.5887     31.9377               20.8503       \n",
      "370         29.7799     31.844                20.9099       \n",
      "371         29.6762     31.8117               20.9707       \n",
      "372         29.865      32.5643               21.03         \n",
      "373         29.9246     31.7106               21.0907       \n",
      "374         30.4014     33.1281               21.1505       \n",
      "375         31.3356     32.2058               21.2113       \n",
      "376         30.412      31.6585               21.2722       \n",
      "377         29.1286     31.9891               21.3333       \n",
      "378         30.0973     31.7419               21.3945       \n",
      "379         29.3502     32.9997               21.4543       \n",
      "380         30.315      32.13                 21.5143       \n",
      "381         29.781      31.7848               21.5755       \n",
      "382         29.2412     31.8378               21.6353       \n",
      "383         29.4551     31.7116               21.6968       \n",
      "384         29.6866     31.7364               21.7567       \n",
      "385         30.3495     31.5254               21.8192       \n",
      "386         28.9706     32.1579               21.8808       \n",
      "387         30.7387     31.884                21.9416       \n",
      "388         29.1453     31.4624               22.0027       \n",
      "389         28.7973     31.3396               22.0647       \n",
      "390         29.3043     31.6641               22.1245       \n",
      "391         29.2294     31.4897               22.1856       \n",
      "392         30.0482     32.3155               22.2473       \n",
      "393         30.0173     31.2625               22.309        \n",
      "394         28.3787     31.385                22.3698       \n",
      "395         30.3506     31.2474               22.4303       \n",
      "396         29.2234     31.4149               22.4914       \n",
      "397         29.5828     32.4908               22.5558       \n",
      "398         29.6914     31.2533               22.6196       \n",
      "399         28.8393     31.1824               22.6811       \n",
      "400         29.6103     31.1083               22.7441       \n",
      "401         29.2013     31.1533               22.8097       \n",
      "402         28.6609     32.4465               22.872        \n",
      "403         29.5926     31.809                22.9363       \n",
      "404         28.9992     31.2283               22.9994       \n"
     ]
    },
    {
     "name": "stdout",
     "output_type": "stream",
     "text": [
      "405         30.1581     30.9149               23.0628       \n",
      "406         29.546      31.8825               23.1295       \n",
      "407         29.3284     31.1821               23.1892       \n",
      "408         29.2651     31.157                23.2514       \n",
      "409         29.2507     30.9058               23.3141       \n",
      "410         28.7762     31.3779               23.3742       \n",
      "411         28.6542     31.9026               23.4363       \n",
      "412         29.7843     31.0416               23.4985       \n",
      "413         30.2611     31.2818               23.5618       \n",
      "414         28.2988     31.3266               23.6236       \n",
      "415         29.7085     31.6529               23.6843       \n",
      "416         29.9131     31.3831               23.7469       \n",
      "417         28.526      31.0522               23.8081       \n",
      "418         29.001      30.8534               23.8703       \n",
      "419         29.0292     32.1088               23.9311       \n",
      "420         29.7855     31.7884               23.9918       \n",
      "421         28.9765     31.8506               24.055        \n",
      "422         29.0879     30.9019               24.1156       \n",
      "423         29.603      31.4287               24.178        \n",
      "424         29.2217     32.9448               24.2392       \n",
      "425         29.8752     31.0315               24.3029       \n",
      "426         29.753      30.8451               24.3665       \n",
      "427         29.0511     30.881                24.4282       \n",
      "428         28.5845     31.6511               24.4921       \n",
      "429         29.1627     30.7006               24.5559       \n",
      "430         29.7174     33.1575               24.618        \n",
      "431         28.3826     31.1967               24.6808       \n",
      "432         29.2869     30.683                24.7418       \n",
      "433         28.7278     31.0075               24.8063       \n",
      "434         29.5658     31.1469               24.8692       \n",
      "435         29.2265     30.722                24.9313       \n",
      "436         28.7179     31.2989               24.9943       \n",
      "437         28.6261     30.7519               25.0582       \n",
      "438         29.4717     30.5194               25.1228       \n",
      "439         27.8137     30.6185               25.1855       \n",
      "440         28.9332     30.3328               25.2478       \n",
      "441         29.4723     30.4921               25.311        \n",
      "442         29.0939     30.6977               25.3731       \n",
      "443         27.8793     30.6806               25.437        \n",
      "444         30.4685     30.4506               25.4996       \n",
      "445         27.4845     30.5746               25.5633       \n",
      "446         27.9089     30.8215               25.628        \n",
      "447         29.2853     30.7176               25.6908       \n",
      "448         28.5943     30.9381               25.7539       \n",
      "449         28.0655     30.9797               25.817        \n",
      "450         28.5455     30.8214               25.8798       \n",
      "451         29.9413     30.328                25.9426       \n",
      "452         27.8889     30.7146               26.0038       \n",
      "453         28.046      30.2604               26.0688       \n",
      "454         28.2769     30.4075               26.1314       \n",
      "455         28.7138     30.0609               26.1937       \n",
      "456         27.8809     31.6006               26.2572       \n",
      "457         28.4475     30.0902               26.3199       \n",
      "458         28.0811     30.1862               26.3827       \n",
      "459         28.2475     30.489                26.4447       \n",
      "460         28.3545     29.9776               26.5067       \n",
      "461         28.3999     30.1135               26.5714       \n",
      "462         28.0115     30.1784               26.6333       \n",
      "463         27.9213     30.059                26.6973       \n",
      "464         28.7249     30.7047               26.7597       \n",
      "465         28.2363     30.1836               26.8235       \n",
      "466         27.9877     30.0439               26.887        \n",
      "467         28.2131     30.0981               26.95         \n",
      "468         27.9349     29.9665               27.0136       \n",
      "469         27.6593     30.993                27.0763       \n",
      "470         28.0723     29.9974               27.1382       \n",
      "471         27.9496     30.9018               27.2022       \n",
      "472         27.8682     31.4671               27.2645       \n",
      "473         28.4173     30.0073               27.3303       \n",
      "474         28.0016     30.1178               27.3931       \n",
      "475         28.291      30.1472               27.4566       \n",
      "476         27.6208     29.8458               27.5206       \n",
      "477         27.9268     29.7536               27.5833       \n",
      "478         28.6493     29.9497               27.6464       \n",
      "479         26.7201     30.6523               27.7086       \n",
      "480         27.852      30.0128               27.7713       \n",
      "481         27.7753     30.1341               27.8345       \n",
      "482         28.2484     29.7635               27.8975       \n",
      "483         27.089      29.8412               27.9615       \n",
      "484         28.0215     30.8601               28.0251       \n",
      "485         27.7344     30.1459               28.0884       \n",
      "486         27.3194     29.9009               28.1536       \n",
      "487         27.6311     29.744                28.2168       \n",
      "488         26.9875     29.9616               28.2809       \n",
      "489         27.7295     29.6994               28.3465       \n",
      "490         27.6518     29.7799               28.4097       \n",
      "491         27.6462     29.6489               28.4743       \n",
      "492         26.9088     29.6303               28.5387       \n",
      "493         27.2855     30.266                28.6033       \n",
      "494         27.9641     29.6093               28.6663       \n",
      "495         27.5803     30.5345               28.7298       \n",
      "496         27.242      29.4685               28.7946       \n",
      "497         27.5057     29.6861               28.8584       \n",
      "498         26.8975     30.0799               28.9238       \n",
      "499         27.7492     30.0427               28.9876       \n",
      "500         27.625      29.5082               29.0509       \n"
     ]
    }
   ],
   "source": [
    "trainer._done=False\n",
    "trainer.run()"
   ]
  },
  {
   "cell_type": "code",
   "execution_count": 106,
   "metadata": {},
   "outputs": [
    {
     "data": {
      "text/plain": [
       "<matplotlib.axes._subplots.AxesSubplot at 0xd708b00>"
      ]
     },
     "execution_count": 106,
     "metadata": {},
     "output_type": "execute_result"
    },
    {
     "data": {
      "image/png": "[encoded data removed]",
      "text/plain": [
       "<Figure size 432x288 with 1 Axes>"
      ]
     },
     "metadata": {
      "needs_background": "light"
     },
     "output_type": "display_data"
    }
   ],
   "source": [
    "import json\n",
    "\n",
    "with open('result/housing/log') as f:\n",
    "    logs = json.load(f)\n",
    "    results = pd.DataFrame(logs)\n",
    "\n",
    "results[['main/loss', 'validation/main/loss']].plot()"
   ]
  },
  {
   "cell_type": "code",
   "execution_count": 107,
   "metadata": {},
   "outputs": [
    {
     "data": {
      "text/plain": [
       "5.432143652049421"
      ]
     },
     "execution_count": 107,
     "metadata": {},
     "output_type": "execute_result"
    }
   ],
   "source": [
    "n_loss_0 = results['validation/main/loss'].values[-1]\n",
    "import math\n",
    "math.sqrt(n_loss_0)"
   ]
  },
  {
   "cell_type": "markdown",
   "metadata": {},
   "source": [
    "誤差は、『5.43％』ほどになった"
   ]
  },
  {
   "cell_type": "markdown",
   "metadata": {},
   "source": [
    "## 更に向上するために\n",
    "データの中身を確認してみる。"
   ]
  },
  {
   "cell_type": "code",
   "execution_count": 108,
   "metadata": {},
   "outputs": [
    {
     "data": {
      "text/html": [
       "<div>\n",
       "<style scoped>\n",
       "    .dataframe tbody tr th:only-of-type {\n",
       "        vertical-align: middle;\n",
       "    }\n",
       "\n",
       "    .dataframe tbody tr th {\n",
       "        vertical-align: top;\n",
       "    }\n",
       "\n",
       "    .dataframe thead th {\n",
       "        text-align: right;\n",
       "    }\n",
       "</style>\n",
       "<table border=\"1\" class=\"dataframe\">\n",
       "  <thead>\n",
       "    <tr style=\"text-align: right;\">\n",
       "      <th></th>\n",
       "      <th>x1</th>\n",
       "      <th>x2</th>\n",
       "      <th>x3</th>\n",
       "      <th>x4</th>\n",
       "      <th>x5</th>\n",
       "      <th>x6</th>\n",
       "      <th>x7</th>\n",
       "      <th>x8</th>\n",
       "      <th>x9</th>\n",
       "      <th>x10</th>\n",
       "      <th>x11</th>\n",
       "      <th>x12</th>\n",
       "      <th>x13</th>\n",
       "      <th>y</th>\n",
       "    </tr>\n",
       "  </thead>\n",
       "  <tbody>\n",
       "    <tr>\n",
       "      <th>0</th>\n",
       "      <td>0.00632</td>\n",
       "      <td>18.0</td>\n",
       "      <td>2.31</td>\n",
       "      <td>0</td>\n",
       "      <td>0.538</td>\n",
       "      <td>6.575</td>\n",
       "      <td>65.2</td>\n",
       "      <td>4.0900</td>\n",
       "      <td>1</td>\n",
       "      <td>296</td>\n",
       "      <td>15.3</td>\n",
       "      <td>396.90</td>\n",
       "      <td>4.98</td>\n",
       "      <td>24.0</td>\n",
       "    </tr>\n",
       "    <tr>\n",
       "      <th>1</th>\n",
       "      <td>0.02731</td>\n",
       "      <td>0.0</td>\n",
       "      <td>7.07</td>\n",
       "      <td>0</td>\n",
       "      <td>0.469</td>\n",
       "      <td>6.421</td>\n",
       "      <td>78.9</td>\n",
       "      <td>4.9671</td>\n",
       "      <td>2</td>\n",
       "      <td>242</td>\n",
       "      <td>17.8</td>\n",
       "      <td>396.90</td>\n",
       "      <td>9.14</td>\n",
       "      <td>21.6</td>\n",
       "    </tr>\n",
       "    <tr>\n",
       "      <th>2</th>\n",
       "      <td>0.02729</td>\n",
       "      <td>0.0</td>\n",
       "      <td>7.07</td>\n",
       "      <td>0</td>\n",
       "      <td>0.469</td>\n",
       "      <td>7.185</td>\n",
       "      <td>61.1</td>\n",
       "      <td>4.9671</td>\n",
       "      <td>2</td>\n",
       "      <td>242</td>\n",
       "      <td>17.8</td>\n",
       "      <td>392.83</td>\n",
       "      <td>4.03</td>\n",
       "      <td>34.7</td>\n",
       "    </tr>\n",
       "    <tr>\n",
       "      <th>3</th>\n",
       "      <td>0.03237</td>\n",
       "      <td>0.0</td>\n",
       "      <td>2.18</td>\n",
       "      <td>0</td>\n",
       "      <td>0.458</td>\n",
       "      <td>6.998</td>\n",
       "      <td>45.8</td>\n",
       "      <td>6.0622</td>\n",
       "      <td>3</td>\n",
       "      <td>222</td>\n",
       "      <td>18.7</td>\n",
       "      <td>394.63</td>\n",
       "      <td>2.94</td>\n",
       "      <td>33.4</td>\n",
       "    </tr>\n",
       "    <tr>\n",
       "      <th>4</th>\n",
       "      <td>0.06905</td>\n",
       "      <td>0.0</td>\n",
       "      <td>2.18</td>\n",
       "      <td>0</td>\n",
       "      <td>0.458</td>\n",
       "      <td>7.147</td>\n",
       "      <td>54.2</td>\n",
       "      <td>6.0622</td>\n",
       "      <td>3</td>\n",
       "      <td>222</td>\n",
       "      <td>18.7</td>\n",
       "      <td>396.90</td>\n",
       "      <td>5.33</td>\n",
       "      <td>36.2</td>\n",
       "    </tr>\n",
       "  </tbody>\n",
       "</table>\n",
       "</div>"
      ],
      "text/plain": [
       "        x1    x2    x3  x4     x5     x6    x7      x8  x9  x10   x11     x12  \\\n",
       "0  0.00632  18.0  2.31   0  0.538  6.575  65.2  4.0900   1  296  15.3  396.90   \n",
       "1  0.02731   0.0  7.07   0  0.469  6.421  78.9  4.9671   2  242  17.8  396.90   \n",
       "2  0.02729   0.0  7.07   0  0.469  7.185  61.1  4.9671   2  242  17.8  392.83   \n",
       "3  0.03237   0.0  2.18   0  0.458  6.998  45.8  6.0622   3  222  18.7  394.63   \n",
       "4  0.06905   0.0  2.18   0  0.458  7.147  54.2  6.0622   3  222  18.7  396.90   \n",
       "\n",
       "    x13     y  \n",
       "0  4.98  24.0  \n",
       "1  9.14  21.6  \n",
       "2  4.03  34.7  \n",
       "3  2.94  33.4  \n",
       "4  5.33  36.2  "
      ]
     },
     "execution_count": 108,
     "metadata": {},
     "output_type": "execute_result"
    }
   ],
   "source": [
    "df.head()"
   ]
  },
  {
   "cell_type": "markdown",
   "metadata": {},
   "source": [
    "『x1』の値が１より小さい。それぞれの変数のスケールがだいぶ違う。  \n",
    "こんなデータの場合は → **バッチノーマリゼーション**（**バッチ正規化**）が効きそう  \n",
    "### バッチノーマリゼーションを追加"
   ]
  },
  {
   "cell_type": "code",
   "execution_count": 109,
   "metadata": {},
   "outputs": [],
   "source": [
    "# 13->5->1\n",
    "class NN(chainer.Chain):\n",
    "    # モデルの構造を明示\n",
    "    def __init__(self, n_mid_units=5, n_out=1):\n",
    "        super().__init__()\n",
    "        with self.init_scope():\n",
    "            self.fc1 = L.Linear(None, n_mid_units)  # 入力層\n",
    "            self.fc2 = L.Linear(None, n_out)  # 出力層\n",
    "            # バッチ正規化を追加\n",
    "            self.bn = L.BatchNormalization(13)\n",
    "\n",
    "    # 順伝播\n",
    "    def __call__(self, x):\n",
    "        h = self.bn(x)\n",
    "        h = self.fc1(h)\n",
    "        h = F.relu(h)\n",
    "        h = self.fc2(h)\n",
    "        return h"
   ]
  },
  {
   "cell_type": "code",
   "execution_count": 110,
   "metadata": {},
   "outputs": [],
   "source": [
    "np.random.seed(0)  # インスタンス化前にシードを固定\n",
    "nn = NN()  # インスタンス化\n",
    "model = L.Classifier(nn, lossfun=F.mean_squared_error)  # lossfunを平均二乗誤差を設定する。\n",
    "model.compute_accuracy = False\n",
    "optimizer = chainer.optimizers.Adam()  # 確率的勾配降下法\n",
    "optimizer.setup(model)\n",
    "batchsize = 10\n",
    "train_iter = chainer.iterators.SerialIterator(train, batchsize)\n",
    "test_iter = chainer.iterators.SerialIterator(test, batchsize, repeat=False, shuffle=False)# データに応じてサイズを決定"
   ]
  },
  {
   "cell_type": "code",
   "execution_count": 111,
   "metadata": {},
   "outputs": [],
   "source": [
    "from chainer import training"
   ]
  },
  {
   "cell_type": "code",
   "execution_count": 112,
   "metadata": {},
   "outputs": [],
   "source": [
    "updater = training.StandardUpdater(train_iter, optimizer, device=-1)"
   ]
  },
  {
   "cell_type": "code",
   "execution_count": 113,
   "metadata": {},
   "outputs": [],
   "source": [
    "from chainer.training import extensions"
   ]
  },
  {
   "cell_type": "code",
   "execution_count": 114,
   "metadata": {},
   "outputs": [],
   "source": [
    "epoch = 500\n",
    "trainer = training.Trainer(updater, (epoch, 'epoch'), out='result/housing')\n",
    "trainer.extend(extensions.Evaluator(test_iter, model, device=-1))  # ここでも『device』の設定が必要\n",
    "trainer.extend(extensions.LogReport(trigger=(1, 'epoch')))  # ログ出力の頻度は１エポックごとに出力\n",
    "trainer.extend(extensions.PrintReport(['epoch', 'main/loss', 'validation/main/loss', 'elapsed_time']), trigger=(1, 'epoch'))"
   ]
  },
  {
   "cell_type": "code",
   "execution_count": 115,
   "metadata": {},
   "outputs": [
    {
     "name": "stdout",
     "output_type": "stream",
     "text": [
      "epoch       main/loss   validation/main/loss  elapsed_time\n",
      "1           575.005     603.083               0.0800895     \n",
      "2           558.217     591.554               0.146557      \n",
      "3           548.793     574.242               0.212882      \n",
      "4           521.226     547.619               0.277199      \n",
      "5           504.153     507.164               0.341757      \n",
      "6           462.463     468.416               0.408125      \n",
      "7           408.87      413.969               0.474535      \n",
      "8           366.207     357.926               0.54144       \n",
      "9           293.685     257.43                0.606406      \n",
      "10          241.922     227.014               0.671306      \n",
      "11          192.413     178.442               0.738652      \n",
      "12          154.55      143.469               0.803575      \n",
      "13          118.269     114.239               0.870691      \n",
      "14          99.1176     100.104               0.936391      \n",
      "15          85.8353     81.4782               1.00229       \n",
      "16          70.8336     71.9989               1.07059       \n",
      "17          60.9298     63.6287               1.13692       \n",
      "18          58.7225     57.2452               1.20399       \n",
      "19          59.6538     51.2918               1.27096       \n",
      "20          52.5573     49.3                  1.33679       \n",
      "21          52.4138     43.7076               1.40361       \n",
      "22          42.9251     41.9683               1.47145       \n",
      "23          43.6359     40.1247               1.54078       \n",
      "24          41.6143     38.739                1.61115       \n",
      "25          43.0993     36.9278               1.68123       \n",
      "26          39.3407     34.7866               1.75479       \n",
      "27          45.802      37.0922               1.82647       \n",
      "28          38.722      33.9311               1.89426       \n",
      "29          34.2931     32.4945               1.95956       \n",
      "30          39.4143     32.7275               2.02715       \n",
      "31          36.9126     32.4576               2.09502       \n",
      "32          36.9662     30.9907               2.1621        \n",
      "33          39.315      30.8845               2.23231       \n",
      "34          37.074      30.1683               2.29791       \n",
      "35          36.8382     31.3749               2.36421       \n",
      "36          36.0972     30.8676               2.43232       \n",
      "37          39.1308     28.8695               2.50027       \n",
      "38          35.2944     28.5352               2.56764       \n",
      "39          34.6308     28.5516               2.63387       \n",
      "40          36.3438     26.6066               2.70028       \n",
      "41          31.4754     28.0611               2.76865       \n",
      "42          34.7695     27.1298               2.83654       \n",
      "43          31.504      26.8522               2.90484       \n",
      "44          30.1251     27.7636               2.9724        \n",
      "45          32.1359     26.3698               3.0407        \n",
      "46          34.7995     25.205                3.10944       \n",
      "47          30.8208     25.7767               3.17607       \n",
      "48          30.9914     26.6536               3.2459        \n",
      "49          34.6647     24.8021               3.31276       \n",
      "50          33.2584     25.0586               3.37984       \n",
      "51          30.9743     24.8268               3.44979       \n",
      "52          32.7068     25.6192               3.51855       \n",
      "53          31.3162     24.5158               3.58729       \n",
      "54          38.1575     23.6432               3.65406       \n",
      "55          30.5591     25.1085               3.72104       \n",
      "56          33.3797     23.5566               3.79269       \n",
      "57          31.2304     24.1397               3.86183       \n",
      "58          29.4492     23.3216               3.93173       \n",
      "59          33.5497     23.2175               4.00017       \n",
      "60          33.6028     24.0956               4.06861       \n",
      "61          29.5284     22.6381               4.13922       \n",
      "62          35.8075     22.5104               4.20878       \n",
      "63          29.1424     23.0279               4.28398       \n",
      "64          28.5522     21.9231               4.35645       \n",
      "65          27.5185     24.5816               4.42636       \n",
      "66          29.5394     22.1848               4.49622       \n",
      "67          28.1361     22.762                4.56381       \n",
      "68          32.6649     22.6774               4.63534       \n",
      "69          30.988      21.1374               4.704         \n",
      "70          29.1508     21.1274               4.77569       \n",
      "71          30.2106     21.1279               4.84588       \n",
      "72          34.6267     20.9774               4.91504       \n",
      "73          28.2499     22.4208               4.99595       \n",
      "74          30.0646     23.4066               5.07155       \n",
      "75          27.38       21.6047               5.15014       \n",
      "76          30.0496     20.8871               5.22399       \n",
      "77          33.7676     20.9012               5.29116       \n",
      "78          28.0609     21.1372               5.36026       \n",
      "79          28.7161     19.9348               5.42828       \n",
      "80          28.3116     20.4291               5.49723       \n",
      "81          32.3525     21.1743               5.56696       \n",
      "82          26.487      21.2864               5.63486       \n",
      "83          31.3649     21.6456               5.70743       \n",
      "84          30.9606     19.5812               5.77739       \n",
      "85          28.6791     19.3757               5.84604       \n",
      "86          29.3558     20.2096               5.91614       \n",
      "87          30.0206     19.2969               5.98534       \n",
      "88          31.6905     18.9811               6.05593       \n",
      "89          26.7309     20.5215               6.1242        \n",
      "90          27.8272     19.9399               6.19361       \n",
      "91          30.6386     19.6509               6.26581       \n",
      "92          31.6104     18.7529               6.33461       \n",
      "93          26.0626     18.3874               6.40498       \n",
      "94          29.8541     20.1374               6.47299       \n",
      "95          27.3121     21.7821               6.54222       \n",
      "96          24.8119     20.144                6.61183       \n",
      "97          28.5389     18.6863               6.68024       \n",
      "98          27.1042     18.6516               6.75249       \n",
      "99          27.6605     18.9464               6.82208       \n",
      "100         27.6991     18.4523               6.89063       \n",
      "101         26.5746     17.8832               6.96158       \n",
      "102         25.3161     19.5102               7.03253       \n",
      "103         26.6076     18.4681               7.10405       \n",
      "104         24.1464     17.5097               7.17312       \n",
      "105         25.8851     18.2044               7.24295       \n",
      "106         33.854      19.2753               7.31379       \n",
      "107         28.2868     18.3658               7.38385       \n",
      "108         26.819      18.1541               7.45431       \n",
      "109         23.1952     17.8404               7.52424       \n",
      "110         26.1212     16.8113               7.59344       \n",
      "111         27.6121     18.6542               7.66395       \n",
      "112         26.7544     17.1569               7.73213       \n",
      "113         26.3315     17.6308               7.80374       \n",
      "114         24.8069     18.1                  7.87296       \n",
      "115         24.1371     18.9489               7.94367       \n",
      "116         25.2602     18.0381               8.01744       \n",
      "117         23.69       17.4097               8.0875        \n",
      "118         24.3785     19.2443               8.16076       \n",
      "119         25.4472     17.092                8.2358        \n",
      "120         25.7537     17.3293               8.31216       \n",
      "121         25.7664     17.1937               8.38649       \n",
      "122         27.5681     16.2559               8.45741       \n",
      "123         24.7136     17.06                 8.53313       \n",
      "124         26.7639     16.2592               8.60464       \n",
      "125         23.8327     16.2079               8.67594       \n",
      "126         22.3284     16.6977               8.7509        \n",
      "127         25.1201     16.6687               8.8219        \n",
      "128         24.1309     18.9963               8.89624       \n",
      "129         26.2957     17.601                8.9672        \n",
      "130         28.3503     20.4513               9.03833       \n",
      "131         23.4538     17.0709               9.11167       \n",
      "132         27.0238     17.4956               9.18436       \n",
      "133         29.6658     16.2019               9.25814       \n",
      "134         26.648      16.9675               9.33071       \n"
     ]
    },
    {
     "name": "stdout",
     "output_type": "stream",
     "text": [
      "135         22.3553     17.6617               9.40223       \n",
      "136         27.6813     16.8084               9.47566       \n",
      "137         23.5214     16.664                9.54876       \n",
      "138         25.1738     17.0243               9.62225       \n",
      "139         29.423      16.4812               9.69467       \n",
      "140         26.817      17.3971               9.76764       \n",
      "141         27.0338     17.1789               9.84113       \n",
      "142         24.1305     16.5635               9.91327       \n",
      "143         26.9474     18.0898               9.9871        \n",
      "144         29.6502     19.9942               10.0604       \n",
      "145         21.1949     15.7372               10.1324       \n",
      "146         25.1804     16.4279               10.2064       \n",
      "147         20.8907     16.9437               10.2797       \n",
      "148         24.3835     16.4118               10.3544       \n",
      "149         22.5814     16.5673               10.4267       \n",
      "150         23.2891     16.7781               10.4984       \n",
      "151         26.9547     15.474                10.5723       \n",
      "152         25.4765     16.5335               10.6444       \n",
      "153         23.835      17.412                10.7179       \n",
      "154         25.7088     15.185                10.7918       \n",
      "155         22.2508     17.3395               10.866        \n",
      "156         23.1692     16.5277               10.9401       \n",
      "157         25.2648     15.4863               11.0162       \n",
      "158         20.2316     15.9874               11.0922       \n",
      "159         25.9005     14.985                11.1656       \n",
      "160         24.9939     17.2012               11.2372       \n",
      "161         25.9768     16.0795               11.3133       \n",
      "162         24.332      16.6191               11.3866       \n",
      "163         25.4096     17.0104               11.4611       \n",
      "164         26.2477     15.6359               11.5378       \n",
      "165         23.6181     15.1865               11.6096       \n",
      "166         24.0861     15.5038               11.681        \n",
      "167         25.6116     16.9059               11.7523       \n",
      "168         25.3786     15.1384               11.8275       \n",
      "169         21.1919     16.4668               11.901        \n",
      "170         25.1988     15.9988               11.9743       \n",
      "171         25.585      15.2462               12.0497       \n",
      "172         26.0164     15.8482               12.1241       \n",
      "173         25.7579     15.6626               12.1992       \n",
      "174         24.9124     16.5174               12.2704       \n",
      "175         24.6907     15.8045               12.3409       \n",
      "176         24.2831     14.9187               12.4128       \n",
      "177         21.5225     16.6148               12.4879       \n",
      "178         21.5819     16.5562               12.5637       \n",
      "179         23.6811     15.3918               12.6376       \n",
      "180         23.2172     15.4417               12.7116       \n",
      "181         22.6079     14.4867               12.7877       \n",
      "182         25.7156     15.8734               12.8604       \n",
      "183         21.6946     16.0961               12.9361       \n",
      "184         21.114      14.5778               13.0101       \n",
      "185         26.7776     14.7561               13.0844       \n",
      "186         22.0644     15.0662               13.1601       \n",
      "187         23.2119     16.576                13.2334       \n",
      "188         21.2924     15.1406               13.3102       \n",
      "189         24.076      15.3843               13.3845       \n",
      "190         23.008      16.1934               13.4575       \n",
      "191         23.2558     16.7588               13.5329       \n",
      "192         22.3528     15.1821               13.6066       \n",
      "193         24.5612     14.7946               13.681        \n",
      "194         23.1571     15.4978               13.7541       \n",
      "195         22.4536     14.8275               13.8279       \n",
      "196         22.8341     15.0871               13.9023       \n",
      "197         24.4829     17.0024               13.9751       \n",
      "198         25.075      15.2479               14.0511       \n",
      "199         27.3613     14.5697               14.1256       \n",
      "200         25.1212     14.2162               14.1988       \n",
      "201         23.7773     15.309                14.2735       \n",
      "202         21.3135     15.0602               14.3487       \n",
      "203         26.617      16.0866               14.4229       \n",
      "204         23.7063     14.412                14.4963       \n",
      "205         23.7101     14.2385               14.5704       \n",
      "206         24.5353     15.6579               14.6466       \n",
      "207         25.0556     15.3259               14.7217       \n",
      "208         25.8881     15.659                14.7976       \n",
      "209         22.5403     15.8032               14.8707       \n",
      "210         21.59       14.4806               14.9432       \n",
      "211         22.0123     16.4383               15.0156       \n",
      "212         21.8182     15.2865               15.0885       \n",
      "213         21.3025     15.1265               15.165        \n",
      "214         22.8904     15.7109               15.2381       \n",
      "215         19.4947     13.4776               15.3137       \n",
      "216         21.4044     13.9307               15.3897       \n",
      "217         20.7946     13.6051               15.4638       \n",
      "218         25.3973     15.9136               15.5413       \n",
      "219         23.646      14.857                15.6163       \n",
      "220         23.1798     14.7149               15.6906       \n",
      "221         20.3125     14.853                15.7662       \n",
      "222         26.4177     14.6134               15.8406       \n",
      "223         22.8554     15.5474               15.9172       \n",
      "224         23.8959     15.4962               15.9902       \n",
      "225         26.4141     15.2152               16.0664       \n",
      "226         23.9294     14.9653               16.1421       \n",
      "227         21.6133     15.2238               16.2169       \n",
      "228         21.9016     14.7634               16.294        \n",
      "229         23.2218     15.5848               16.3689       \n",
      "230         21.8459     15.6723               16.4434       \n",
      "231         21.6123     14.0781               16.5199       \n",
      "232         23.7877     13.5162               16.5956       \n",
      "233         22.4649     15.4417               16.6715       \n",
      "234         24.5059     15.9477               16.7452       \n",
      "235         22.8001     14.9546               16.8214       \n",
      "236         21.6745     15.0596               16.8975       \n",
      "237         23.1249     14.3307               16.9709       \n",
      "238         22.5313     14.6254               17.0478       \n",
      "239         22.3207     15.0632               17.1226       \n",
      "240         24.6735     14.8052               17.199        \n",
      "241         26.2207     14.7442               17.2754       \n",
      "242         22.2394     13.8754               17.3512       \n",
      "243         24.2118     14.4177               17.4272       \n",
      "244         20.6632     15.2885               17.5015       \n",
      "245         23.7728     14.899                17.5752       \n",
      "246         19.5387     14.7891               17.6521       \n",
      "247         26.6401     13.6643               17.7272       \n",
      "248         24.3328     14.2116               17.8037       \n",
      "249         22.6039     15.8862               17.879        \n",
      "250         20.4184     13.7508               17.9547       \n",
      "251         21.7279     15.6061               18.0307       \n",
      "252         24.7287     14.5218               18.1045       \n",
      "253         25.7191     13.9148               18.1821       \n",
      "254         21.5701     13.7729               18.2581       \n",
      "255         23.1376     16.2639               18.3333       \n",
      "256         21.8201     14.4893               18.411        \n",
      "257         28.6279     13.853                18.4851       \n",
      "258         24.8524     13.682                18.5641       \n",
      "259         25.1436     13.3753               18.6373       \n",
      "260         21.4437     14.6462               18.7124       \n",
      "261         20.0668     14.0585               18.7889       \n",
      "262         24.1593     14.4965               18.864        \n",
      "263         23.8758     14.195                18.9394       \n",
      "264         22.1086     14.8935               19.0159       \n",
      "265         19.7763     15.1051               19.0915       \n",
      "266         27.2487     14.2034               19.1689       \n",
      "267         21.5067     16.9805               19.2436       \n",
      "268         24.7487     13.3826               19.3201       \n",
      "269         20.6153     15.1596               19.3924       \n"
     ]
    },
    {
     "name": "stdout",
     "output_type": "stream",
     "text": [
      "270         22.9457     13.6819               19.4658       \n",
      "271         19.064      15.41                 19.5413       \n",
      "272         21.9487     13.9314               19.6153       \n",
      "273         19.7314     14.7931               19.689        \n",
      "274         22.8678     13.7753               19.7609       \n",
      "275         19.6238     15.1387               19.8344       \n",
      "276         20.5049     14.7378               19.9087       \n",
      "277         25.5927     13.989                19.981        \n",
      "278         24.2375     14.1095               20.0572       \n",
      "279         19.1778     13.7571               20.1337       \n",
      "280         24.9742     14.3113               20.2098       \n",
      "281         21.0122     14.4698               20.2838       \n",
      "282         23.3627     14.0901               20.3581       \n",
      "283         20.6962     15.2378               20.4329       \n",
      "284         22.3905     14.1784               20.5062       \n",
      "285         23.7292     13.992                20.5804       \n",
      "286         21.9902     15.421                20.6567       \n",
      "287         22.8082     14.5316               20.7312       \n",
      "288         21.8449     13.6692               20.8082       \n",
      "289         21.6109     15.9671               20.8826       \n",
      "290         23.6807     14.342                20.958        \n",
      "291         17.7477     14.2827               21.0371       \n",
      "292         23.7351     14.4925               21.1139       \n",
      "293         22.486      14.4274               21.1923       \n",
      "294         20.4469     14.9249               21.2664       \n",
      "295         22.8858     14.1376               21.339        \n",
      "296         22.8689     13.5491               21.4133       \n",
      "297         27.4419     13.0927               21.4863       \n",
      "298         19.7048     13.0178               21.5613       \n",
      "299         25.5614     14.0646               21.6342       \n",
      "300         24.4675     13.8399               21.7074       \n",
      "301         23.5351     14.4954               21.7816       \n",
      "302         29.0916     15.6133               21.8543       \n",
      "303         21.4855     14.3827               21.929        \n",
      "304         21.5469     14.5343               22.0014       \n",
      "305         21.8264     13.7816               22.0758       \n",
      "306         24.0829     14.5002               22.1514       \n",
      "307         21.6855     13.7711               22.2264       \n",
      "308         20.1757     14.8782               22.3021       \n",
      "309         22.8294     14.175                22.3753       \n",
      "310         21.4134     14.0098               22.449        \n",
      "311         26.9112     13.9559               22.524        \n",
      "312         20.3655     13.8471               22.5984       \n",
      "313         20.6813     14.8016               22.6734       \n",
      "314         20.8317     13.5946               22.7474       \n",
      "315         25.1854     13.9558               22.8225       \n",
      "316         22.1476     13.9754               22.8979       \n",
      "317         20.746      16.2441               22.9718       \n",
      "318         21.9749     13.0732               23.0463       \n",
      "319         21.1695     13.9576               23.1224       \n",
      "320         19.6892     13.4673               23.1974       \n",
      "321         26.5668     13.588                23.2721       \n",
      "322         24.5876     16.6759               23.3466       \n",
      "323         22.1635     13.088                23.4222       \n",
      "324         28.3527     13.2432               23.4966       \n",
      "325         23.5414     14.0968               23.5719       \n",
      "326         20.3102     15.2146               23.647        \n",
      "327         20.8945     14.0216               23.7201       \n",
      "328         20.7325     14.3085               23.7953       \n",
      "329         21.3629     13.0739               23.8696       \n",
      "330         24.9467     14.1369               23.9429       \n",
      "331         27.2566     13.1476               24.0186       \n",
      "332         19.5954     13.4414               24.0933       \n",
      "333         19.6971     12.7745               24.169        \n",
      "334         24.2837     14.6995               24.2433       \n",
      "335         23.73       13.9339               24.3174       \n",
      "336         25.0966     14.1105               24.3925       \n",
      "337         23.3745     12.6488               24.4668       \n",
      "338         18.3121     14.5642               24.5416       \n",
      "339         22.6353     14.312                24.6168       \n",
      "340         21.9409     13.449                24.6901       \n",
      "341         21.2705     13.4077               24.7661       \n",
      "342         22.1955     13.9626               24.8405       \n",
      "343         24.6317     14.3889               24.9165       \n",
      "344         24.4982     13.1992               24.9909       \n",
      "345         20.0546     14.0689               25.0657       \n",
      "346         20.9838     14.4691               25.1411       \n",
      "347         25.847      15.9997               25.2147       \n",
      "348         21.2522     13.9543               25.2892       \n",
      "349         24.7517     13.7792               25.3648       \n",
      "350         24.7148     14.1111               25.4385       \n",
      "351         24.4049     15.7797               25.514        \n",
      "352         20.7358     13.8424               25.5889       \n",
      "353         24.2464     15.0972               25.6642       \n",
      "354         19.8163     13.4026               25.7379       \n",
      "355         24.2166     13.5417               25.8147       \n",
      "356         19.7349     12.7762               25.8927       \n",
      "357         23.2654     12.9081               25.9679       \n",
      "358         22.0523     14.6225               26.0442       \n",
      "359         21.2802     13.5664               26.1208       \n",
      "360         24.5857     13.4702               26.1967       \n",
      "361         23.375      12.9295               26.2719       \n",
      "362         21.529      13.419                26.3473       \n",
      "363         23.7245     14.0518               26.4234       \n",
      "364         26.2359     13.4725               26.4983       \n",
      "365         22.4055     13.7508               26.5731       \n",
      "366         20.6986     13.0488               26.6486       \n",
      "367         22.9225     14.6664               26.7227       \n",
      "368         24.4325     12.3095               26.7989       \n",
      "369         24.1958     14.811                26.8738       \n",
      "370         24.0369     13.0452               26.9484       \n",
      "371         19.5496     13.8239               27.0248       \n",
      "372         22.8733     14.2361               27.1003       \n",
      "373         23.0571     13.7284               27.1766       \n",
      "374         21.3838     13.0869               27.2512       \n",
      "375         26.1378     13.539                27.3274       \n",
      "376         21.5112     13.1944               27.4039       \n",
      "377         24.0771     12.0997               27.4815       \n",
      "378         23.0936     14.7406               27.5594       \n",
      "379         21.4903     12.4282               27.6353       \n",
      "380         17.9528     13.6622               27.7097       \n",
      "381         22.2017     13.6556               27.7869       \n",
      "382         23.9764     13.2004               27.8639       \n",
      "383         22.2512     14.353                27.9399       \n",
      "384         22.218      12.3728               28.0159       \n",
      "385         23.5738     13.6774               28.0925       \n",
      "386         22.9011     12.7706               28.1693       \n",
      "387         20.6183     12.8664               28.2451       \n",
      "388         23.9082     15.6663               28.3232       \n",
      "389         23.0302     13.4909               28.4002       \n",
      "390         20.304      13.3771               28.4751       \n",
      "391         25.5978     12.7709               28.5516       \n",
      "392         22.8735     13.8702               28.6266       \n",
      "393         23.6984     13.8294               28.7024       \n",
      "394         18.7096     13.8391               28.7769       \n",
      "395         22.9778     13.7048               28.8526       \n",
      "396         19.8746     13.2688               28.9285       \n",
      "397         24.2605     14.8249               29.0027       \n",
      "398         23.5887     14.1132               29.0788       \n",
      "399         24.7313     14.5143               29.1539       \n",
      "400         20.575      14.3892               29.2287       \n",
      "401         20.0783     14.082                29.3049       \n",
      "402         21.482      14.0207               29.3801       \n",
      "403         23.3933     13.658                29.4562       \n",
      "404         21.8578     14.4765               29.531        \n"
     ]
    },
    {
     "name": "stdout",
     "output_type": "stream",
     "text": [
      "405         24.1103     13.5065               29.607        \n",
      "406         19.5203     12.947                29.6833       \n",
      "407         26.0601     13.327                29.7608       \n",
      "408         22.3059     12.8057               29.8378       \n",
      "409         22.5546     13.5309               29.9138       \n",
      "410         22.858      13.2229               29.9887       \n",
      "411         21.7052     13.3218               30.0661       \n",
      "412         23.5897     13.9167               30.1422       \n",
      "413         24.8847     14.2854               30.2202       \n",
      "414         20.2391     14.1087               30.2955       \n",
      "415         19.897      14.38                 30.372        \n",
      "416         21.4814     13.8151               30.4484       \n",
      "417         23.5663     13.7989               30.5236       \n",
      "418         25.611      14.0511               30.6013       \n",
      "419         21.9081     15.7638               30.6772       \n",
      "420         22.4531     13.6645               30.757        \n",
      "421         22.8902     13.7215               30.8386       \n",
      "422         20.0935     14.0322               30.914        \n",
      "423         21.1431     13.6242               30.9929       \n",
      "424         22.0565     12.4049               31.0721       \n",
      "425         22.6201     13.1968               31.1522       \n",
      "426         22.9213     12.3735               31.233        \n",
      "427         19.9537     13.1493               31.3142       \n",
      "428         23.1575     12.4796               31.3953       \n",
      "429         20.8284     12.8122               31.4738       \n",
      "430         23.721      14.1366               31.5501       \n",
      "431         26.0745     13.4741               31.6286       \n",
      "432         19.1067     12.9592               31.704        \n",
      "433         22.3435     12.8645               31.7817       \n",
      "434         21.6426     12.6518               31.8631       \n",
      "435         21.9119     13.6509               31.9415       \n",
      "436         22.3591     13.3474               32.0217       \n",
      "437         26.0393     14.8864               32.0996       \n",
      "438         22.69       13.7466               32.1774       \n",
      "439         19.5556     14.389                32.2533       \n",
      "440         21.9006     13.5947               32.3295       \n",
      "441         22.8989     12.5296               32.4087       \n",
      "442         22.6961     12.9172               32.485        \n",
      "443         23.219      12.1493               32.5628       \n",
      "444         23.7024     12.9714               32.639        \n",
      "445         21.5383     15.2853               32.7147       \n",
      "446         18.0494     12.8353               32.7928       \n",
      "447         21.8198     13.4411               32.8706       \n",
      "448         22.5658     12.6273               32.9477       \n",
      "449         19.5079     15.1659               33.0239       \n",
      "450         24.5731     13.4056               33.1003       \n",
      "451         23.4775     12.9527               33.1785       \n",
      "452         23.1095     12.3642               33.2546       \n",
      "453         21.9111     13.9656               33.3346       \n",
      "454         23.5047     13.1914               33.4135       \n",
      "455         20.8806     12.209                33.4918       \n",
      "456         21.6302     14.3222               33.5694       \n",
      "457         22.692      12.3469               33.6459       \n",
      "458         23.4164     13.4105               33.7264       \n",
      "459         22.4183     14.375                33.8043       \n",
      "460         23.7535     12.6867               33.8849       \n",
      "461         21.8714     12.8046               33.9637       \n",
      "462         22.6621     13.5025               34.0393       \n",
      "463         25.3719     13.046                34.1186       \n",
      "464         22.828      15.8381               34.1959       \n",
      "465         23.3292     13.8614               34.2744       \n",
      "466         22.2315     12.8362               34.3534       \n",
      "467         24.1447     12.791                34.4324       \n",
      "468         21.705      12.7807               34.5149       \n",
      "469         24.1896     12.9567               34.5952       \n",
      "470         22.9131     13.5148               34.6757       \n",
      "471         23.5673     13.6218               34.7547       \n",
      "472         19.5774     13.17                 34.854        \n",
      "473         21.1114     13.1718               34.937        \n",
      "474         22.196      14.2119               35.0214       \n",
      "475         23.317      14.0041               35.1127       \n",
      "476         19.3824     12.5375               35.1951       \n",
      "477         23.5094     12.4689               35.274        \n",
      "478         24.0548     15.3516               35.3553       \n",
      "479         22.0282     13.133                35.4334       \n",
      "480         23.3324     13.1559               35.5111       \n",
      "481         21.5095     13.2291               35.5922       \n",
      "482         22.7678     14.4333               35.6769       \n",
      "483         20.0806     14.2569               35.7597       \n",
      "484         22.9313     12.6211               35.8432       \n",
      "485         19.9396     14.154                35.9256       \n",
      "486         22.2766     12.4011               36.0185       \n",
      "487         24.8059     14.0136               36.099        \n",
      "488         21.6446     14.5443               36.1819       \n",
      "489         22.4729     12.9998               36.2634       \n",
      "490         25.4469     13.0564               36.3426       \n",
      "491         27.1725     11.9886               36.4237       \n",
      "492         18.9416     12.797                36.5046       \n",
      "493         22.6751     13.2539               36.5852       \n",
      "494         22.1059     13.2028               36.6666       \n",
      "495         22.4396     12.4121               36.7461       \n",
      "496         26.2196     13.0895               36.8277       \n",
      "497         23.0442     13.6237               36.9065       \n",
      "498         22.88       12.3622               36.9873       \n",
      "499         21.0004     15.7139               37.0686       \n",
      "500         24.6787     13.4302               37.153        \n"
     ]
    }
   ],
   "source": [
    "trainer._done=False\n",
    "trainer.run()"
   ]
  },
  {
   "cell_type": "code",
   "execution_count": 116,
   "metadata": {},
   "outputs": [
    {
     "data": {
      "text/plain": [
       "<matplotlib.axes._subplots.AxesSubplot at 0xda09668>"
      ]
     },
     "execution_count": 116,
     "metadata": {},
     "output_type": "execute_result"
    },
    {
     "data": {
      "image/png": "[encoded data removed]",
      "text/plain": [
       "<Figure size 432x288 with 1 Axes>"
      ]
     },
     "metadata": {
      "needs_background": "light"
     },
     "output_type": "display_data"
    }
   ],
   "source": [
    "import json\n",
    "\n",
    "with open('result/housing/log') as f:\n",
    "    logs = json.load(f)\n",
    "    results = pd.DataFrame(logs)\n",
    "\n",
    "results[['main/loss', 'validation/main/loss']].plot()"
   ]
  },
  {
   "cell_type": "code",
   "execution_count": 117,
   "metadata": {},
   "outputs": [
    {
     "data": {
      "text/plain": [
       "3.6647254083897263"
      ]
     },
     "execution_count": 117,
     "metadata": {},
     "output_type": "execute_result"
    }
   ],
   "source": [
    "n_loss_0 = results['validation/main/loss'].values[-1]\n",
    "import math\n",
    "math.sqrt(n_loss_0)"
   ]
  },
  {
   "cell_type": "markdown",
   "metadata": {},
   "source": [
    "誤差は、『3.66％』ほどになった"
   ]
  },
  {
   "cell_type": "markdown",
   "metadata": {},
   "source": [
    "## 更に向上するために\n",
    "Adamの中には以下のような引数を設定することもできる。  \n",
    "  \n",
    "\n",
    "chainer.optimizers.Adam(  \n",
    "   - alpha=0.001,  \n",
    "   - beta1=0.9,  \n",
    "   - beta2=0.999,  \n",
    "   - eps=1e-08,  \n",
    "   - eta=1.0,  \n",
    "   - weight_decay_rate=0,  \n",
    "   - amsgrad=False,  \n",
    ")  \n",
    "  \n",
    "データの構造・実行結果を見ながら、より良いモデル構造、設定を見つける事が重要"
   ]
  },
  {
   "cell_type": "code",
   "execution_count": null,
   "metadata": {},
   "outputs": [],
   "source": []
  },
  {
   "cell_type": "code",
   "execution_count": null,
   "metadata": {},
   "outputs": [],
   "source": []
  },
  {
   "cell_type": "code",
   "execution_count": null,
   "metadata": {},
   "outputs": [],
   "source": []
  },
  {
   "cell_type": "code",
   "execution_count": null,
   "metadata": {},
   "outputs": [],
   "source": []
  },
  {
   "cell_type": "code",
   "execution_count": null,
   "metadata": {},
   "outputs": [],
   "source": []
  },
  {
   "cell_type": "code",
   "execution_count": null,
   "metadata": {},
   "outputs": [],
   "source": []
  },
  {
   "cell_type": "code",
   "execution_count": null,
   "metadata": {},
   "outputs": [],
   "source": []
  },
  {
   "cell_type": "code",
   "execution_count": null,
   "metadata": {},
   "outputs": [],
   "source": []
  },
  {
   "cell_type": "code",
   "execution_count": null,
   "metadata": {},
   "outputs": [],
   "source": []
  },
  {
   "cell_type": "code",
   "execution_count": null,
   "metadata": {},
   "outputs": [],
   "source": []
  },
  {
   "cell_type": "code",
   "execution_count": null,
   "metadata": {},
   "outputs": [],
   "source": []
  },
  {
   "cell_type": "code",
   "execution_count": null,
   "metadata": {},
   "outputs": [],
   "source": []
  },
  {
   "cell_type": "code",
   "execution_count": null,
   "metadata": {},
   "outputs": [],
   "source": []
  },
  {
   "cell_type": "code",
   "execution_count": null,
   "metadata": {},
   "outputs": [],
   "source": []
  },
  {
   "cell_type": "code",
   "execution_count": null,
   "metadata": {},
   "outputs": [],
   "source": []
  },
  {
   "cell_type": "code",
   "execution_count": null,
   "metadata": {},
   "outputs": [],
   "source": []
  },
  {
   "cell_type": "code",
   "execution_count": null,
   "metadata": {},
   "outputs": [],
   "source": []
  },
  {
   "cell_type": "code",
   "execution_count": null,
   "metadata": {},
   "outputs": [],
   "source": []
  },
  {
   "cell_type": "code",
   "execution_count": null,
   "metadata": {},
   "outputs": [],
   "source": []
  },
  {
   "cell_type": "code",
   "execution_count": null,
   "metadata": {},
   "outputs": [],
   "source": []
  },
  {
   "cell_type": "code",
   "execution_count": null,
   "metadata": {},
   "outputs": [],
   "source": []
  },
  {
   "cell_type": "code",
   "execution_count": null,
   "metadata": {},
   "outputs": [],
   "source": []
  }
 ],
 "metadata": {
  "kernelspec": {
   "display_name": "Python 3",
   "language": "python",
   "name": "python3"
  },
  "language_info": {
   "codemirror_mode": {
    "name": "ipython",
    "version": 3
   },
   "file_extension": ".py",
   "mimetype": "text/x-python",
   "name": "python",
   "nbconvert_exporter": "python",
   "pygments_lexer": "ipython3",
   "version": "3.7.3"
  }
 },
 "nbformat": 4,
 "nbformat_minor": 2
}
